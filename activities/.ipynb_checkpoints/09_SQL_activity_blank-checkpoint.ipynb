{
 "cells": [
  {
   "cell_type": "code",
   "execution_count": 1,
   "metadata": {},
   "outputs": [],
   "source": [
    "## imports \n",
    "import pandas as pd\n",
    "import numpy as np\n",
    "import yaml\n",
    "import warnings\n",
    "warnings.filterwarnings(\"ignore\", category=UserWarning)\n",
    "\n",
    "# comment these out if you don't have plotnine--not essential here/only used once\n",
    "import matplotlib.pyplot as plt\n",
    "# import plotnine\n",
    "# from plotnine import *\n",
    "\n",
    "## way to connect to mysql \n",
    "## if you need to install\n",
    "## uncomment this line:\n",
    "#! pip install mysql-connector-python\n",
    "import mysql.connector\n",
    "\n",
    "## function to feed path name to load\n",
    "## credentials\n",
    "def load_creds(path: str):\n",
    "    with open(path, 'r') as stream:\n",
    "        try:\n",
    "            creds = yaml.safe_load(stream)\n",
    "        except yaml.YAMLError as exc:\n",
    "            print(exc)\n",
    "    return(creds)\n",
    "\n",
    "pd.options.display.max_rows = 999\n",
    "from IPython.core.interactiveshell import InteractiveShell\n",
    "InteractiveShell.ast_node_interactivity = \"all\""
   ]
  },
  {
   "cell_type": "markdown",
   "metadata": {},
   "source": [
    "# Preliminary: define connection and read sample of data"
   ]
  },
  {
   "cell_type": "code",
   "execution_count": 2,
   "metadata": {},
   "outputs": [],
   "source": [
    "## read in creds; change the path name if stored\n",
    "## elsewhere\n",
    "creds = load_creds(\"09_db_cred.yaml\")"
   ]
  },
  {
   "cell_type": "code",
   "execution_count": 3,
   "metadata": {},
   "outputs": [
    {
     "data": {
      "text/plain": [
       "{'practice_database': {'user': 'qss20',\n",
       "  'password': 'xtPdDZHnxKMFSD5RyP',\n",
       "  'port': 3306,\n",
       "  'database': 'sentencing',\n",
       "  'host': 'qss20-7570-db.c.dartmouth.edu'}}"
      ]
     },
     "execution_count": 3,
     "metadata": {},
     "output_type": "execute_result"
    },
    {
     "data": {
      "text/plain": [
       "<mysql.connector.connection.MySQLConnection at 0x139668550>"
      ]
     },
     "execution_count": 3,
     "metadata": {},
     "output_type": "execute_result"
    }
   ],
   "source": [
    "creds\n",
    "\n",
    "cnx = mysql.connector.connect(user=creds['practice_database']['user'], \n",
    "                            password=creds['practice_database']['password'],\n",
    "                            port=creds['practice_database']['port'],\n",
    "                            database= creds['practice_database']['database'],\n",
    "                            host = creds['practice_database']['host'])\n",
    "cnx"
   ]
  },
  {
   "cell_type": "markdown",
   "metadata": {},
   "source": [
    "# Activity 1\n",
    "\n",
    "1. Create a new column -- `in_chicago` when pulling from the `caseinit` table that takes on the value of \"YES\" if INCIDENT_CITY = Chicago; \"NO\" otherwise (which represents incidents in Cook County suburbs outside the city limits);  and pull the table. Use `crosstabs` to confirm that this worked\n",
    "2. Repeat step 1 but also filter out blank strings (`INCIDENT_CITY` == \"\")\n",
    "3. Use `where` to row filter to initiations in Chicago and use group by to find the count of cases diverted and not diverted (`is_in_diversion`); pull the table with those counts\n",
    "4. Modify the query in step 3 to find the proportion of cases in chicago diverted (hint you made need to use case when in a subquery)\n",
    "5. Modify the query in step 4 to find the proportion of cases in chicago versus cases not in chicago sent to diversion \n"
   ]
  },
  {
   "cell_type": "code",
   "execution_count": 9,
   "metadata": {},
   "outputs": [],
   "source": [
    "# your code here 1\n",
    "query_createvar = \"\"\"\n",
    "SELECT *,\n",
    "       CASE\n",
    "         WHEN INCIDENT_CITY = 'Chicago' then 'YES'\n",
    "         ELSE 'No'\n",
    "       END AS in_chicago\n",
    "FROM   caseinit \n",
    "\"\"\"\n",
    "\n",
    "varcreate= pd.read_sql_query(query_createvar, cnx)\n",
    "\n",
    "\n"
   ]
  },
  {
   "cell_type": "code",
   "execution_count": 10,
   "metadata": {},
   "outputs": [],
   "source": [
    "# your code here 2\n",
    "# Filter out blank strings in INCIDENT_CITY from the existing DataFrame\n",
    "in_chicago_q = \"\"\"\n",
    "SELECT *,\n",
    "       CASE\n",
    "         WHEN INCIDENT_CITY = 'Chicago' THEN 'YES'\n",
    "         ELSE 'NO'\n",
    "       END AS in_chicago\n",
    "FROM   caseinit\n",
    "WHERE INCIDENT_CITY <> ''\n",
    "\"\"\"\n",
    "in_chicago_d = pd.read_sql_query(in_chicago_q, cnx)"
   ]
  },
  {
   "cell_type": "code",
   "execution_count": 11,
   "metadata": {},
   "outputs": [
    {
     "name": "stdout",
     "output_type": "stream",
     "text": [
      "Index(['CASE_ID', 'CASE_PARTICIPANT_ID', 'RECEIVED_DATE', 'OFFENSE_CATEGORY',\n",
      "       'PRIMARY_CHARGE_FLAG', 'CHARGE_ID', 'CHARGE_VERSION_ID',\n",
      "       'DISPOSITION_CHARGED_OFFENSE_TITLE', 'CHARGE_COUNT', 'DISPOSITION_DATE',\n",
      "       'DISPOSITION_CHARGED_CHAPTER', 'DISPOSITION_CHARGED_ACT',\n",
      "       'DISPOSITION_CHARGED_SECTION', 'DISPOSITION_CHARGED_CLASS',\n",
      "       'DISPOSITION_CHARGED_AOIC', 'CHARGE_DISPOSITION',\n",
      "       'CHARGE_DISPOSITION_REASON', 'SENTENCE_JUDGE', 'SENTENCE_COURT_NAME',\n",
      "       'SENTENCE_COURT_FACILITY', 'SENTENCE_PHASE', 'SENTENCE_DATE',\n",
      "       'SENTENCE_TYPE', 'CURRENT_SENTENCE_FLAG', 'COMMITMENT_TYPE',\n",
      "       'COMMITMENT_TERM', 'COMMITMENT_UNIT', 'LENGTH_OF_CASE_in_Days',\n",
      "       'AGE_AT_INCIDENT', 'RACE', 'GENDER', 'INCIDENT_CITY',\n",
      "       'INCIDENT_BEGIN_DATE', 'INCIDENT_END_DATE', 'LAW_ENFORCEMENT_AGENCY',\n",
      "       'LAW_ENFORCEMENT_UNIT', 'ARREST_DATE', 'FELONY_REVIEW_DATE',\n",
      "       'FELONY_REVIEW_RESULT', 'ARRAIGNMENT_DATE', 'UPDATED_OFFENSE_CATEGORY',\n",
      "       'is_in_diversion', 'in_chicago', 'in_chicago'],\n",
      "      dtype='object')\n"
     ]
    }
   ],
   "source": [
    "print(in_chicago_d.columns)"
   ]
  },
  {
   "cell_type": "code",
   "execution_count": 15,
   "metadata": {},
   "outputs": [
    {
     "name": "stdout",
     "output_type": "stream",
     "text": [
      "   count_initiations_total is_in_diversion\n",
      "0                     6402            True\n",
      "1                   167171           False\n"
     ]
    }
   ],
   "source": [
    "# your code here 3\n",
    "in_chicago_divert = \"\"\"\n",
    "select count(*) as count_initiations_total, \n",
    "is_in_diversion\n",
    "from caseinit \n",
    "where INCIDENT_CITY = 'Chicago'\n",
    "group by is_in_diversion\n",
    "order by count_initiations_total\n",
    "\"\"\"\n",
    "\n",
    "divert = pd.read_sql_query(in_chicago_divert, cnx)\n",
    "\n",
    "print(divert.head())"
   ]
  },
  {
   "cell_type": "code",
   "execution_count": null,
   "metadata": {},
   "outputs": [],
   "source": []
  },
  {
   "cell_type": "code",
   "execution_count": null,
   "metadata": {},
   "outputs": [],
   "source": [
    "# your code here 4\n"
   ]
  },
  {
   "cell_type": "code",
   "execution_count": null,
   "metadata": {},
   "outputs": [],
   "source": [
    "# your code here 5"
   ]
  },
  {
   "cell_type": "markdown",
   "metadata": {},
   "source": [
    "# Activity 2 \n",
    "\n",
    "1. Use the following crosswalk and the `CASE` variable in the `divert` table to create a new variable `DIVERSION_PROGRAM_TEXT` that spells out the diversion programs\n",
    "    - DC: Drug Court\n",
    "\n",
    "    - DDPP: Drug Deferred Prosecution\n",
    "\n",
    "    - DS: Drug School\n",
    "\n",
    "    - RJCC: Restorative Justice\n",
    "\n",
    "    - MHC: Mental Health Court\n",
    "\n",
    "    - VC: Veteran Court\n",
    "\n",
    "2. Build on the query from step 1 to filter to Narcotics as the `UPDATED_OFFENSE_CATEGORY` and Black or White defendants (based on race in the diversions table) (hint: you'll need to join with the caseinit table based on case_id and case_participant_id, you can do a inner join to keep only those diverted). Select the case_id, case_participant_id, case, race, and diversion_program_text columns"
   ]
  },
  {
   "cell_type": "code",
   "execution_count": null,
   "metadata": {},
   "outputs": [],
   "source": [
    "# your code here 1"
   ]
  },
  {
   "cell_type": "code",
   "execution_count": null,
   "metadata": {},
   "outputs": [],
   "source": [
    "# your code here 2"
   ]
  }
 ],
 "metadata": {
  "kernelspec": {
   "display_name": "Python 3 (ipykernel)",
   "language": "python",
   "name": "python3"
  },
  "language_info": {
   "codemirror_mode": {
    "name": "ipython",
    "version": 3
   },
   "file_extension": ".py",
   "mimetype": "text/x-python",
   "name": "python",
   "nbconvert_exporter": "python",
   "pygments_lexer": "ipython3",
   "version": "3.11.7"
  }
 },
 "nbformat": 4,
 "nbformat_minor": 4
}
