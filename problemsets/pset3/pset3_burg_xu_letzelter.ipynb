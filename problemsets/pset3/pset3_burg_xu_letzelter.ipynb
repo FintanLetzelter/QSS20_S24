{
 "cells": [
  {
   "cell_type": "markdown",
   "metadata": {},
   "source": [
    "# Problem set 3: Text analysis of DOJ press releases\n",
    "\n",
    "**Total points (without extra credit)**: 52 \n",
    "\n",
    "- For background:\n",
    "\n",
    "    - DOJ is the federal law enforcement agency responsible for federal prosecutions; this contrasts with the local prosecutions in the Cook County dataset we analyzed earlier. Here's a short explainer on which crimes get prosecuted federally versus locally: https://www.criminaldefenselawyer.com/resources/criminal-defense/federal-crime/state-vs-federal-crimes.htm#:~:text=Federal%20criminal%20prosecutions%20are%20handled,of%20state%20and%20local%20law. \n",
    "    - Here's the Kaggle that contains the data: https://www.kaggle.com/jbencina/department-of-justice-20092018-press-releases \n",
    "    - Here's the code the dataset creator used to scrape those press releases here if you're interested: https://github.com/jbencina/dojreleases"
   ]
  },
  {
   "cell_type": "markdown",
   "metadata": {},
   "source": [
    "## 0.0 Import packages"
   ]
  },
  {
   "cell_type": "code",
   "execution_count": 1,
   "metadata": {},
   "outputs": [],
   "source": [
    "## helpful packages\n",
    "import warnings\n",
    "warnings.filterwarnings(\"ignore\")\n",
    "\n",
    "import pandas as pd\n",
    "import numpy as np\n",
    "import random\n",
    "import re\n",
    "import string\n",
    "\n",
    "## nltk imports\n",
    "import nltk\n",
    "### uncomment and run these lines if you haven't downloaded relevant nltk add-ons yet\n",
    "### nltk.download('averaged_perceptron_tagger')\n",
    "### nltk.download('stopwords')\n",
    "from nltk import pos_tag\n",
    "from nltk.tokenize import word_tokenize, wordpunct_tokenize\n",
    "from nltk.stem.snowball import SnowballStemmer\n",
    "from nltk.corpus import stopwords\n",
    "\n",
    "## spacy imports\n",
    "import spacy\n",
    "### uncomment and run the below line if you haven't loaded the en_core_web_sm library yet\n",
    "### ! python -m spacy download en_core_web_sm\n",
    "import en_core_web_sm\n",
    "nlp = en_core_web_sm.load()\n",
    "\n",
    "## vectorizer\n",
    "from sklearn.feature_extraction.text import CountVectorizer\n",
    "\n",
    "## sentiment\n",
    "from vaderSentiment.vaderSentiment import SentimentIntensityAnalyzer\n",
    "\n",
    "## lda\n",
    "from gensim import corpora\n",
    "import gensim\n",
    "\n",
    "## repeated printouts and wide-format text\n",
    "from IPython.core.interactiveshell import InteractiveShell\n",
    "InteractiveShell.ast_node_interactivity = \"all\"\n",
    "pd.set_option('display.max_colwidth', None)\n",
    "\n"
   ]
  },
  {
   "cell_type": "markdown",
   "metadata": {},
   "source": [
    "## 0.1 Load and clean text data"
   ]
  },
  {
   "cell_type": "code",
   "execution_count": 2,
   "metadata": {},
   "outputs": [
    {
     "data": {
      "text/html": [
       "<div>\n",
       "<style scoped>\n",
       "    .dataframe tbody tr th:only-of-type {\n",
       "        vertical-align: middle;\n",
       "    }\n",
       "\n",
       "    .dataframe tbody tr th {\n",
       "        vertical-align: top;\n",
       "    }\n",
       "\n",
       "    .dataframe thead th {\n",
       "        text-align: right;\n",
       "    }\n",
       "</style>\n",
       "<table border=\"1\" class=\"dataframe\">\n",
       "  <thead>\n",
       "    <tr style=\"text-align: right;\">\n",
       "      <th></th>\n",
       "      <th>id</th>\n",
       "      <th>title</th>\n",
       "      <th>contents</th>\n",
       "      <th>date</th>\n",
       "      <th>topics_clean</th>\n",
       "      <th>components_clean</th>\n",
       "    </tr>\n",
       "  </thead>\n",
       "  <tbody>\n",
       "    <tr>\n",
       "      <th>0</th>\n",
       "      <td>None</td>\n",
       "      <td>Convicted Bomb Plotter Sentenced to 30 Years</td>\n",
       "      <td>PORTLAND, Oregon. – Mohamed Osman Mohamud, 23, who was convicted in 2013 of attempting to use a weapon of mass destruction (explosives) in connection with a plot to detonate a vehicle bomb at an annual Christmas tree lighting ceremony in Portland, was sentenced today to serve 30 years in prison, followed by a lifetime term of supervised release. Mohamud, a naturalized U.S. citizen from Somalia and former resident of Corvallis, Oregon, was arrested on Nov. 26, 2010, after he attempted to detonate what he believed to be an explosives-laden van that was parked near the tree lighting ceremony in Portland.  The arrest was the culmination of a long-term undercover operation, during which Mohamud was monitored closely for months as his bomb plot developed.  The device was in fact inert, and the public was never in danger from the device. At sentencing, United States District Court Judge Garr M. King, who presided over Mohamed’s 14-day trial, said “the intended crime was horrific,” and that the defendant, even though he was presented with options by undercover FBI employees, “never once expressed a change of heart.”  King further noted that the Christmas tree ceremony was attended by up to 10,000 people, and that the defendant “wanted everyone to leave either dead or injured.”  King said his sentence was necessary in view of the seriousness of the crime and to serve as deterrence to others who might consider similar acts.     “With today’s sentencing, Mohamed Osman Mohamud is being held accountable for his attempted use of what he believed to be a massive bomb to attack innocent civilians attending a public Christmas tree lighting ceremony in Portland,” said John P. Carlin, Assistant Attorney General for National Security.  “The evidence clearly indicated that Mohamud was intent on killing as many people as possible with his attack.  Fortunately, law enforcement was able to identify him as a threat, insert themselves in the place of a terrorist that Mohamud was trying to contact, and thwart Mohamud’s efforts to conduct an attack on our soil.  This case highlights how the use of undercover operations against would-be terrorists allows us to engage and disrupt those who wish to commit horrific acts of violence against the innocent public.  The many agents, analysts, and prosecutors who have worked on this case deserve great credit for their roles in protecting Portland from the threat posed by this defendant and ensuring that he was brought to justice.” “This trial provided a rare glimpse into the techniques Al Qaeda employs to radicalize home-grown extremists,” said Amanda Marshall, U.S. Attorney for the District of Oregon.  “With the sentencing today, the court has held this defendant accountable.   I thank the dedicated professionals in the law enforcement and intelligence communities who were responsible for this successful outcome.  I look forward to our continued work with Muslim communities in Oregon who are committed to ensuring that all young people are safe from extremists who seek to radicalize others to engage in violence.”  According to the trial evidence, in February 2009, Mohamud began communicating via e-mail with Samir Khan, a now-deceased al Qaeda terrorist who published Jihad Recollections, an online magazine that advocated violent jihad, and who also published Inspire, the official magazine of al-Qaeda in the Arabian Peninsula.  Between February and August 2009, Mohamed exchanged approximately 150 emails with Khan.  Mohamud wrote several articles for Jihad Recollections that were published under assumed names. In August 2009, Mohamud was in email contact with Amro Al-Ali, a Saudi national who was in Yemen at the time and is today in custody in Saudi Arabia for terrorism offenses.  Al-Ali sent Mohamud detailed e-mails designed to facilitate Mohamud’s travel to Yemen to train for violent jihad.  In December 2009, while Al-Ali was in the northwest frontier province of Pakistan, Mohamud and Al-Ali discussed the possibility of Mohamud traveling to Pakistan to join Al-Ali in terrorist activities. Mohamud responded to Al-Ali in an e-mail: “yes, that would be wonderful, just tell me what I need to do.”  Al-Ali referred Mohamud to a second associate overseas and provided Mohamud with a name and email address to facilitate the process. In the following months, Mohamud made several unsuccessful attempts to contact Al-Ali’s associate.  Ultimately, an FBI undercover operative contacted Mohamud via email under the guise of being an associate of Al-Ali’s.  Mohamud and the FBI undercover operative agreed to meet in Portland in July 2010.  At the meeting, Mohamud told the FBI undercover operative he had written articles that were published in Jihad Recollections.  Mohamud also said that he wanted to become “operational.”  Asked what he meant by “operational,” Mohamud said he wanted to put an explosion together, but needed help. According to evidence presented at trial, at a meeting in August 2010, Mohamud told undercover FBI operatives he had been thinking of committing violent jihad since the age of 15.  Mohamud then told the undercover FBI operatives that he had identified a potential target for a bomb: the annual Christmas tree lighting ceremony in Portland’s Pioneer Courthouse Square on Nov. 26, 2010.  The undercover FBI operatives cautioned Mohamud several times about the seriousness of this plan, noting there would be many people at the event, including children, and emphasized that Mohamud could abandon his attack plans at any time with no shame.  Mohamud indicated the deaths would be justified and that he would not mind carrying out a suicide attack on the crowd. According to evidence presented at trial, in the ensuing months Mohamud continued to express his interest in carrying out the attack and worked on logistics.  On Nov. 4, 2010, Mohamud and the undercover FBI operatives traveled to a remote location in Lincoln County, Oregon, where they detonated a bomb concealed in a backpack as a trial run for the upcoming attack.  During the drive back to Corvallis, Mohamud was asked if was capable looking at all the bodies of those who would be killed during the explosion.  In response, Mohamud noted, “I want whoever is attending that event to be, to leave either dead or injured.”  Mohamud later recorded a video of himself, with the assistance of the undercover FBI operatives, in which he read a statement that offered his rationale for his bomb attack.  On Nov. 18, 2010, undercover FBI operatives picked up Mohamud to travel to Portland to finalize the details of the attack.  On Nov. 26, 2010, just hours before the planned attack, Mohamud examined the 1,800 pound bomb in the van and remarked that it was “beautiful.”  Later that day, Mohamud was arrested after he attempted to remotely detonate the inert vehicle bomb rked near the Christmas tree lighting ceremony This case was investigated by the FBI, with assistance from the Oregon State Police, the Corvallis Police Department, the Lincoln County Sheriff’s Office and the Portland Police Bureau.  The prosecution was handled by Assistant U.S. Attorneys Ethan D. Knight and Pamala Holsinger from the U.S. Attorney’s Office for the District of Oregon.  Trial Attorney Jolie F. Zimmerman, from the Counterterrorism Section of the Justice Department’s National Security Division, assisted. # # # 14-1077</td>\n",
       "      <td>2014-10-01T00:00:00-04:00</td>\n",
       "      <td>No topic</td>\n",
       "      <td>National Security Division (NSD)</td>\n",
       "    </tr>\n",
       "    <tr>\n",
       "      <th>1</th>\n",
       "      <td>12-919</td>\n",
       "      <td>$1 Million in Restitution Payments Announced to Preserve North Carolina Wetlands</td>\n",
       "      <td>WASHINGTON – North Carolina’s Waccamaw River watershed will benefit from a $1 million restitution order from a federal court, funding environmental projects to acquire and preserve wetlands in an area damaged by illegal releases of wastewater from a corporate hog farm, announced Ignacia S. Moreno, Assistant Attorney General of the Justice Department’s Environment and Natural Resources Division; U.S. Attorney for the Eastern District of North Carolina Thomas G. Walker; Director Greg McLeod from the North Carolina State Bureau of Investigation; and Camilla M. Herlevich, Executive Director of the North Carolina Coastal Land Trust.   Freedman Farms Inc. was sentenced in February 2012 to five years of probation and ordered to pay $1.5 million in fines, restitution and community service payments for violating the Clean Water Act when it discharged hog waste into a stream that leads to the Waccamaw River.  William B. Freedman, president of Freedman Farms, was sentenced to six months in prison to be followed by six months of home confinement.  Freedman Farms also is required to implement a comprehensive environmental compliance program and institute an annual training program.   In an order issued on April 19, 2012, the court ordered that the defendants would be responsible for restitution of $1 million in the form of five annual payments starting in January 2013, which the court will direct to the North Carolina Coastal Land Trust (NCCLT).  The NCCLT plans to use the money to acquire and conserve land along streams in the Waccamaw watershed.  The court also directed a $75,000 community service payment to the Southern Environmental Enforcement Network, an organization dedicated to environmental law enforcement training and information sharing in the region.    “The resolution of the case against Freedman Farms demonstrates the commitment of the Department of Justice to enforcing the Clean Water Act to ensure the protection of human health and the environment,” said Assistant Attorney General Moreno.  “The court-ordered restitution in this case will conserve wetlands for the benefit of the people of North Carolina.  By enforcing the nation’s environmental laws, we will continue to ensure that concentrated animal feeding operations (CAFOs) operate without threatening our drinking water, the health of our communities and the environment.”   “This office is committed to doing our part to hold accountable those who commit crimes against our environment, which can cause serious health problems to residents and damage the environment that makes North Carolina such a beautiful place to live and visit,” said U.S. Attorney Walker.   “This case shows what we can accomplish when our SBI agents work closely with their local, state and federal partners to investigate environmental crimes and hold the polluters accountable,” said Director McLeod.  “We’ll continue our efforts to fight illegal pollution that damages our water and puts the public’s health at risk.”    “The Waccamaw is unique and wild,” said Director Herlevich of the North Carolina Coastal Land Trust. “Its watershed includes some of the most extensive cypress gum swamps in the state, and its headwaters at Lake Waccamaw contain fish that are found nowhere else on Earth.  We appreciate the trust of the court and the U. S. Attorney, and we look forward to using these funds for conservation projects in a river system that is one of our top conservation priorities.”   According to evidence presented in court, in December 2007 Freedman Farms discharged hog waste into Browder’s Branch, a tributary to the Waccamaw River that flows through the White Marsh, a large wetlands complex.  Freedman Farms, located in Columbus County, N.C., is in the business of raising hogs for market, and this particular farm had some 4,800 hogs.  The hog waste was supposed to be directed to two lagoons for treatment and disposal.  Instead, hog waste was discharged from Freedman Farms directly into Browder’s Branch.    The Clean Water Act is a federal law that makes it illegal to knowingly or negligently discharge a pollutant into a water of the United States.    The Freedman case was investigated by the U.S. Environmental Protection Agency (EPA) Criminal Investigation Division, the U.S. Army Corps of Engineers and the North Carolina State Bureau of Investigation, with assistance from the EPA Science and Ecosystem Support Division.  The case was prosecuted by Assistant U.S. Attorney J. Gaston B. Williams of the Eastern District of North Carolina and Trial Attorney Mary Dee Carraway of the Environmental Crimes Section of the Justice Department’s Environment and Natural Resources Division.   The North Carolina Coastal Land Trust is celebrating its 20th anniversary of saving special lands in eastern North Carolina. The organization has protected nearly 50,000 acres of lands with scenic, recreational, historic and ecological values. North Carolina Coastal Land Trust has saved streams and wetlands that provide clean water, forests that are havens for wildlife, working farms that provide local food and nature parks that everyone can enjoy.  More information about the Coastal Land Trust is available at www.coastallandtrust.org.</td>\n",
       "      <td>2012-07-25T00:00:00-04:00</td>\n",
       "      <td>No topic</td>\n",
       "      <td>Environment and Natural Resources Division</td>\n",
       "    </tr>\n",
       "    <tr>\n",
       "      <th>2</th>\n",
       "      <td>11-1002</td>\n",
       "      <td>$1 Million Settlement Reached for Natural Resource Damages at Superfund Site in Massachusetts</td>\n",
       "      <td>BOSTON– A $1-million settlement has been reached for natural resource damages (NRD) at the Blackburn &amp; Union Privileges Superfund Site in Walpole, Mass., the Departments of Justice and Interior (DOI), and the Office of the Massachusetts Attorney General announced today.                The Blackburn &amp; Union Privileges Superfund Site includes 22 acres of contaminated land and water in Walpole. The contamination resulted from the operations of various industrial facilities dating back to the 19th century that exposed the site to asbestos, arsenic, lead and other hazardous substances.                The private parties involved in the settlement include two former owners and operators of the site, W.R. Grace &amp; Co.– Conn. and Tyco Healthcare Group LP, as well as the current owners, BIM Investment Corp. and Shaffer Realty Nominee Trust.               From about 1915 to 1936, a predecessor of W.R. Grace manufactured asbestos brake linings and clutch linings on a large portion of the property. From 1946 to about 1983, a predecessor of Tyco Healthcare operated a cotton fabric manufacturing business, which used caustic solutions, on a portion of the property.               In a 2010 settlement with U.S. Environmental Protection Agency (EPA), the four private parties agreed to perform a remedial action to clean up the site at an estimated cost of $13 million. The consent decree lodged today resolves both state and federal NRD liability claims; it requires the parties to pay $1,094,169.56 to the state and federal natural resource trustees, the Massachusetts Executive Office of Energy and Environmental Affairs (EEA) and DOI, for injuries to ecological resources including groundwater and wetlands, which provide habitat for waterfowl and wading birds, including black ducks and great blue herons.  The trustees will use the settlement funds for natural resource restoration projects in the area.               “This settlement demonstrates our commitment to recovering damages from the parties responsible for injury to natural resources, in partnership with state trustees,” said Bruce Gelber, Acting Deputy Assistant Attorney General of the Justice Department’s Environment and Natural Resources Division.               “The citizens of Walpole have had to live with the environmental impact of this contamination for many years,” Attorney General Martha Coakley said. “We are pleased that today’s agreement will not only require the responsible parties to reimburse taxpayer dollars, but will also provide funding to begin restoring or replacing the wetland and other natural resources.”                 The consent decree was lodged in the U.S. District Court for Massachusetts.     A portion of the funds, $300,000, will be distributed to the EEA-sponsored groundwater restoration projects; $575,000 will be used for ecological restoration projects jointly sponsored by EEA and the U.S. Fish and Wildlife Service (FWS).               In addition, $125,000 will go for projects jointly sponsored by EEA and FWS that achieve both ecological and groundwater restoration; $57,491.34 will be allocated for reimbursement for the FWS’s assessment costs; and $36,678.22 will be distributed as reimbursement for the commonwealth’s assessment costs.       “This settlement provides the means for a range of projects designed to compensate the public for decades of groundwater and other ecological damage at this site.  I encourage local citizens and organizations to become engaged in the public process that will take place as we solicit, take comment on, and choose these projects in the months ahead,” said Energy and Environmental Affairs Secretary Richard K. Sullivan Jr., who serves as the Commonwealth’s Natural Resources Damages trustee.       “This settlement will help restore habitat for fish and wildlife in the Neponset River watershed,” said Tom Chapman of the FWS New England Field Office. “We look forward to working with the commonwealth and local stakeholders to implement restoration.”               “More than 100 years-worth of industrial activities at this site caused major environmental contamination to the Neponset River, nearby wetlands and to groundwater below the site,” said Commissioner Kenneth Kimmell of the Massachusetts Department of Environmental Protection (MassDEP), which will staff the Trustee Council for the Commonwealth. “We will ensure that the community and the public will be active participants in the process to use these NRD funds to restore the injured natural resources.”                Under the federal Comprehensive Environmental Response, Compensation and Liability Act, EEA and DOI, acting through the FWS, are the designated state and federal natural resource Trustees for the site. The site has been listed on the EPA’s National Priorities List since 1994.        The consent decree is subject to a public comment period and court approval. A copy of the consent decree and instructions about how to submit comments is available on www.usdoj.gov/enrd/Consent_Decrees.html  .               After the consent decree is approved, EEA and FWS will develop proposed restoration plans to use the settlement funds for restoration projects. The proposed restoration plans will also be made available to the public for review and comment.                Assistant Attorney General Matthew Brock of Massachusetts Attorney General Coakley's Environmental Protection Division handled this matter.  Attorney Jennifer Davis of MassDEP, Attorney Anna Blumkin of EEA and MassDEP’s NRD Coordinator Karen Pelto also worked on this settlement.</td>\n",
       "      <td>2011-08-03T00:00:00-04:00</td>\n",
       "      <td>No topic</td>\n",
       "      <td>Environment and Natural Resources Division</td>\n",
       "    </tr>\n",
       "    <tr>\n",
       "      <th>3</th>\n",
       "      <td>10-015</td>\n",
       "      <td>10 Las Vegas Men Indicted \\r\\nfor Falsifying Vehicle Emissions Tests</td>\n",
       "      <td>WASHINGTON—A federal grand jury in Las Vegas today returned indictments against 10 Nevada-certified emissions testers for falsifying vehicle emissions test reports, the Justice Department announced.   Each defendant faces one felony Clean Air Act count for falsifying reports between November 2007 and May 2009. The number of falsifications varied by defendant, with some defendants having falsified approximately 250 records, while others falsified more than double that figure. One defendant is alleged to have falsified over 700 reports.   The individuals indicted include:     Escudero resides in Pahrump, Nev. All other individuals are from Clark County, Nev.    The 10 defendants are alleged to have engaged in a practice known as \"clean scanning\" vehicles. The scheme involved entering the Vehicle Identification Number (VIN) for a vehicle that would not pass the emissions test into the computerized system, then connecting a different vehicle the testers knew would pass the test. These falsifications were allegedly performed for anywhere from $10 to $100 over and above the usual emissions testing fee.    The U.S. Environmental Protection Agency (EPA), under the Clean Air Act, requires the state of Nevada to conduct vehicle emissions testing in certain areas because the areas exceed national standards for carbon monoxide and ozone. Las Vegas is currently required to perform emissions testing.    To obtain a registration renewal, vehicle owners bring the vehicles to a licensed inspection station for testing. The emissions inspector logs into a computer to activate the system by using a unique password issued to the emissions inspector. The emissions inspector manually inputs the vehicle’s VIN to identify the tested vehicle, then connects the vehicle for model year 1996 and later to an onboard diagnostics port connected to an analyzer. The analyzer downloads data from the vehicle’s computer, analyzes the data and provides a \"pass\" or \"fail\" result. The pass or fail result and vehicle identification data are reported on the Vehicle Inspection Report. It is a crime to knowingly alter or conceal any record or other document required to be maintained by the Clean Air Act.     \"Falsifications of vehicle emissions testing, such as those alleged in the indictments unsealed today, are serious matters and we intend to use all of our enforcement tools to stop this harmful practice. These actions undermine a system that is designed to reduce air pollutants including smog and provide better air quality for the citizens of Nevada,\" said Ignacia S. Moreno, Assistant Attorney General for the Justice Department’s Environment and Natural Resources Division.    \"The residents of Nevada deserve to know that the vast majority of licensed vehicle emission inspectors are not corrupt and are not circumventing emission testing procedures,\" said U.S. Attorney Bogden. \"These indictments should serve as a clear warning to offenders that the Department of Justice will prosecute you if you make fraudulent statements and reports concerning compliance with the federal Clean Air Act.\"    \"Lying about car emissions means dirtier air, which is especially of concern in areas like Las Vegas that are already experiencing air quality problems,\" said Cynthia Giles, Assistant Administrator for Enforcement and Compliance Assurance at EPA. \"We will take aggressive action to ensure communities have clean air.\"    The maximum penalty for the felony violations contained in the indictments includes up to two years in prison and a fine of up to $250,000.    An indictment is merely an accusation, and a defendant is presumed innocent unless and until proven guilty in a court of law.    The case was investigated by the EPA, Criminal Investigation Division; and the Nevada Department of Motor Vehicles Compliance Enforcement Division. The case is being prosecuted by the U.S. Attorney’s Office for the District of Nevada and the Justice Department’s Environmental Crimes Section.</td>\n",
       "      <td>2010-01-08T00:00:00-05:00</td>\n",
       "      <td>No topic</td>\n",
       "      <td>Environment and Natural Resources Division</td>\n",
       "    </tr>\n",
       "    <tr>\n",
       "      <th>4</th>\n",
       "      <td>18-898</td>\n",
       "      <td>$100 Million Settlement Will Speed Cleanup Work at Centredale Manor Superfund Site in North Providence, R.I.</td>\n",
       "      <td>The U.S. Department of Justice, the U.S. Environmental Protection Agency (EPA), and the Rhode Island Department of Environmental Management (RIDEM) announced today that two subsidiaries of Stanley Black &amp; Decker Inc.—Emhart Industries Inc. and Black &amp; Decker Inc.—have agreed to clean up dioxin contaminated sediment and soil at the Centredale Manor Restoration Project Superfund Site in North Providence and Johnston, Rhode Island.  “We are pleased to reach a resolution through collaborative work with the responsible parties, EPA, and other stakeholders,” said Acting Assistant Attorney General Jeffrey H. Wood for the Justice Department's Environment and Natural Resources Division . “Today’s settlement ends protracted litigation and allows for important work to get underway to restore a healthy environment for citizens living in and around the Centredale Manor Site and the Woonasquatucket River.” “This settlement demonstrates the tremendous progress we are achieving working with responsible parties, states, and our federal partners to expedite sites through the entire Superfund remediation process,” said EPA Acting Administrator Andrew Wheeler. “The Centredale Manor Site has been on the National Priorities List for 18 years; we are taking charge and ensuring the Agency makes good on its promise to clean it up for the betterment of the environment and those communities affected.” “Successfully concluding this settlement paves the way for EPA to make good on our commitment to aggressively pursue cleaning up the Centredale Manor Superfund Site,” said EPA New England Regional Administrator Alexandra Dunn. “We are excited to get to work on the cleanup at this site, and get it closer to the goal of being fully utilized by the North Providence and Johnston communities.” “We are pleased that the collective efforts of the State of Rhode Island, EPA, and DOJ in these negotiations have concluded in this major milestone toward the cleanup of the Centredale Manor Restoration Superfund site and are consistent with our long-standing efforts to make the polluter pay,” said RIDEM Director Janet Coit. “The settlement will speed up a remedy that protects public health and the river environment, and moves us closer to the day that we can reclaim recreational uses of this beautiful river resource.” The settlement, which includes cleanup work in the Woonasquatucket River (River) and bordering residential and commercial properties along the River, requires the companies to perform the remedy selected by EPA for the Site in 2012, which is estimated to cost approximately $100 million, and resolves longstanding litigation. The cleanup remedy includes excavation of contaminated sediment and floodplain soil from the Woonasquatucket River, including from adjacent residential properties. Once the cleanup remedy is completed, full access to the Woonasquatucket River should be restored for local citizens. The cleanup will be a step toward the State’s goal of a fishable and swimmable river. The work will also include upgrading caps over contaminated soil in the peninsula area of the Site that currently house two high-rise apartment buildings. The settlement also ensures that the long-term monitoring and maintenance of the site, as directed in the remedy, will be implemented to ensure that public health is protected.  Under the settlement, Emhart and Black &amp; Decker will reimburse EPA for approximately $42 million in past costs incurred at the Site. The companies will also reimburse EPA and the State of Rhode Island for future costs incurred by those agencies in overseeing the work required by the settlement. The settlement will also include payments on behalf of two federal agencies to resolve claims against those agencies. These payments, along with prior settlements related to the Site, will result in a 100 percent recovery for the United States of its past and future response costs related to the Site. Litigation related to the Site has been ongoing for nearly eight years. While the Federal District Court found Black &amp; Decker and Emhart to be liable for their hazardous waste and responsible to conduct the cleanup of the Site, it had also ruled that EPA needed to reconsider certain aspects of that cleanup. EPA appealed the decision requiring it to reconsider aspects of the cleanup. This settlement, once entered by the District Court, will resolve the litigation between the United States, Rhode Island, and Emhart and Black and Decker, allowing the cleanup of the Site to begin. The Site spans a one and a half mile stretch of the Woonasquatucket River and encompasses a nine-acre peninsula, two ponds and a significant forested wetland. From the 1940s to the early 1970s, Emhart’s predecessor operated a chemical manufacturing facility on the peninsula and used a raw material that was contaminated with 2,3,7,8-tetrachlorodibenzo-p-dioxin, a toxic form of dioxin. The Site property was also previously used by a barrel refurbisher. Elevated levels of dioxins and other contaminants have been detected in soil, groundwater, sediment, surface water and fish.  The Site was added to the National Priorities List (NPL) in 2000, and in December 2017, EPA included the Centredale Manor Restoration Project Superfund Site on a list of Superfund sites targeted for immediate and intense attention. Several short-term actions were previously performed at the Site to address immediate threats to the residents and minimize potential erosion and downstream transport of contaminated soil and sediment. This settlement is the latest agreement EPA has reached since the Site was listed on the NPL. Prior agreements addressed the performance and recovery of costs for the past environmental investigations and interim cleanup actions from Emhart, the barrel reconditioning company, the current owners of the peninsula portion of the Site, and other potentially responsible parties. The Consent Decree, lodged in the U.S. District Court of Rhode Island, will be posted in the Federal Register and available for public comment for a period of 30 days. The Consent Decree can be viewed on the Justice Department website: www.justice.gov/enrd/Consent_Decrees.html.  EPA information on the Centredale Manor Superfund Site: www.epa.gov/superfund/centredale.</td>\n",
       "      <td>2018-07-09T00:00:00-04:00</td>\n",
       "      <td>Environment</td>\n",
       "      <td>Environment and Natural Resources Division</td>\n",
       "    </tr>\n",
       "  </tbody>\n",
       "</table>\n",
       "</div>"
      ],
      "text/plain": [
       "        id  \\\n",
       "0     None   \n",
       "1  12-919    \n",
       "2  11-1002   \n",
       "3   10-015   \n",
       "4   18-898   \n",
       "\n",
       "                                                                                                          title  \\\n",
       "0                                                                  Convicted Bomb Plotter Sentenced to 30 Years   \n",
       "1                              $1 Million in Restitution Payments Announced to Preserve North Carolina Wetlands   \n",
       "2                 $1 Million Settlement Reached for Natural Resource Damages at Superfund Site in Massachusetts   \n",
       "3                                          10 Las Vegas Men Indicted \\r\\nfor Falsifying Vehicle Emissions Tests   \n",
       "4  $100 Million Settlement Will Speed Cleanup Work at Centredale Manor Superfund Site in North Providence, R.I.   \n",
       "\n",
       "                                                                                                                                                                                                                                                                                                                                                                                                                                                                                                                                                                                                                                                                                                                                                                                                                                                                                                                                                                                                                                                                                                                                                                                                                                                                                                                                                                                                                                                                                                                                                                                                                                                                                                                                                                                                                                                                                                                                                                                                                                                                                                                                                                                                                                                                                                                                                                                                                                                                                                                                                                                                                                                                                                                                                                                                                                                                                                                                                                                                                                                                                                                                                                                                                                                                                                                                                                                                                                                                                                                                                                                                                                                                                                                                                                                                                                                                                                                                                                                                                                                                                                                                                                                                                                                                                                                                                                                                                                                                                                                                                                                                                                                                                                                                                                                                                                                                                                                                                                                                                                                                                                                                                                                                                                                                                                                                                                                                                                                                                                                                                                                                                                                                                                                                                                                                                                                                                                                                                                                                                                                                                                                                                                                                                                                                                                                                                                                                                                                                                                                                                                                                                                                                                                                                                                                                                                                                                                                                                                                                                                                                                                                                                                                                                                                                                                                                                                                                                                                                                                                                                                                                                                                                          contents  \\\n",
       "0  PORTLAND, Oregon. – Mohamed Osman Mohamud, 23, who was convicted in 2013 of attempting to use a weapon of mass destruction (explosives) in connection with a plot to detonate a vehicle bomb at an annual Christmas tree lighting ceremony in Portland, was sentenced today to serve 30 years in prison, followed by a lifetime term of supervised release. Mohamud, a naturalized U.S. citizen from Somalia and former resident of Corvallis, Oregon, was arrested on Nov. 26, 2010, after he attempted to detonate what he believed to be an explosives-laden van that was parked near the tree lighting ceremony in Portland.  The arrest was the culmination of a long-term undercover operation, during which Mohamud was monitored closely for months as his bomb plot developed.  The device was in fact inert, and the public was never in danger from the device. At sentencing, United States District Court Judge Garr M. King, who presided over Mohamed’s 14-day trial, said “the intended crime was horrific,” and that the defendant, even though he was presented with options by undercover FBI employees, “never once expressed a change of heart.”  King further noted that the Christmas tree ceremony was attended by up to 10,000 people, and that the defendant “wanted everyone to leave either dead or injured.”  King said his sentence was necessary in view of the seriousness of the crime and to serve as deterrence to others who might consider similar acts.     “With today’s sentencing, Mohamed Osman Mohamud is being held accountable for his attempted use of what he believed to be a massive bomb to attack innocent civilians attending a public Christmas tree lighting ceremony in Portland,” said John P. Carlin, Assistant Attorney General for National Security.  “The evidence clearly indicated that Mohamud was intent on killing as many people as possible with his attack.  Fortunately, law enforcement was able to identify him as a threat, insert themselves in the place of a terrorist that Mohamud was trying to contact, and thwart Mohamud’s efforts to conduct an attack on our soil.  This case highlights how the use of undercover operations against would-be terrorists allows us to engage and disrupt those who wish to commit horrific acts of violence against the innocent public.  The many agents, analysts, and prosecutors who have worked on this case deserve great credit for their roles in protecting Portland from the threat posed by this defendant and ensuring that he was brought to justice.” “This trial provided a rare glimpse into the techniques Al Qaeda employs to radicalize home-grown extremists,” said Amanda Marshall, U.S. Attorney for the District of Oregon.  “With the sentencing today, the court has held this defendant accountable.   I thank the dedicated professionals in the law enforcement and intelligence communities who were responsible for this successful outcome.  I look forward to our continued work with Muslim communities in Oregon who are committed to ensuring that all young people are safe from extremists who seek to radicalize others to engage in violence.”  According to the trial evidence, in February 2009, Mohamud began communicating via e-mail with Samir Khan, a now-deceased al Qaeda terrorist who published Jihad Recollections, an online magazine that advocated violent jihad, and who also published Inspire, the official magazine of al-Qaeda in the Arabian Peninsula.  Between February and August 2009, Mohamed exchanged approximately 150 emails with Khan.  Mohamud wrote several articles for Jihad Recollections that were published under assumed names. In August 2009, Mohamud was in email contact with Amro Al-Ali, a Saudi national who was in Yemen at the time and is today in custody in Saudi Arabia for terrorism offenses.  Al-Ali sent Mohamud detailed e-mails designed to facilitate Mohamud’s travel to Yemen to train for violent jihad.  In December 2009, while Al-Ali was in the northwest frontier province of Pakistan, Mohamud and Al-Ali discussed the possibility of Mohamud traveling to Pakistan to join Al-Ali in terrorist activities. Mohamud responded to Al-Ali in an e-mail: “yes, that would be wonderful, just tell me what I need to do.”  Al-Ali referred Mohamud to a second associate overseas and provided Mohamud with a name and email address to facilitate the process. In the following months, Mohamud made several unsuccessful attempts to contact Al-Ali’s associate.  Ultimately, an FBI undercover operative contacted Mohamud via email under the guise of being an associate of Al-Ali’s.  Mohamud and the FBI undercover operative agreed to meet in Portland in July 2010.  At the meeting, Mohamud told the FBI undercover operative he had written articles that were published in Jihad Recollections.  Mohamud also said that he wanted to become “operational.”  Asked what he meant by “operational,” Mohamud said he wanted to put an explosion together, but needed help. According to evidence presented at trial, at a meeting in August 2010, Mohamud told undercover FBI operatives he had been thinking of committing violent jihad since the age of 15.  Mohamud then told the undercover FBI operatives that he had identified a potential target for a bomb: the annual Christmas tree lighting ceremony in Portland’s Pioneer Courthouse Square on Nov. 26, 2010.  The undercover FBI operatives cautioned Mohamud several times about the seriousness of this plan, noting there would be many people at the event, including children, and emphasized that Mohamud could abandon his attack plans at any time with no shame.  Mohamud indicated the deaths would be justified and that he would not mind carrying out a suicide attack on the crowd. According to evidence presented at trial, in the ensuing months Mohamud continued to express his interest in carrying out the attack and worked on logistics.  On Nov. 4, 2010, Mohamud and the undercover FBI operatives traveled to a remote location in Lincoln County, Oregon, where they detonated a bomb concealed in a backpack as a trial run for the upcoming attack.  During the drive back to Corvallis, Mohamud was asked if was capable looking at all the bodies of those who would be killed during the explosion.  In response, Mohamud noted, “I want whoever is attending that event to be, to leave either dead or injured.”  Mohamud later recorded a video of himself, with the assistance of the undercover FBI operatives, in which he read a statement that offered his rationale for his bomb attack.  On Nov. 18, 2010, undercover FBI operatives picked up Mohamud to travel to Portland to finalize the details of the attack.  On Nov. 26, 2010, just hours before the planned attack, Mohamud examined the 1,800 pound bomb in the van and remarked that it was “beautiful.”  Later that day, Mohamud was arrested after he attempted to remotely detonate the inert vehicle bomb rked near the Christmas tree lighting ceremony This case was investigated by the FBI, with assistance from the Oregon State Police, the Corvallis Police Department, the Lincoln County Sheriff’s Office and the Portland Police Bureau.  The prosecution was handled by Assistant U.S. Attorneys Ethan D. Knight and Pamala Holsinger from the U.S. Attorney’s Office for the District of Oregon.  Trial Attorney Jolie F. Zimmerman, from the Counterterrorism Section of the Justice Department’s National Security Division, assisted. # # # 14-1077   \n",
       "1                                                                                                                                                                                                                                                                                                                                                                                                                                                                                                                                                                                                                                                                                                                                                                                                                                                                                                                                                                                                                                                                                                                                                                                                                                                                                                                                                                                                                                                                                                                                                                                                                                                                                                                                                                                                                                                                                                                                                                                                                                                                                                                                                                                                                                       WASHINGTON – North Carolina’s Waccamaw River watershed will benefit from a $1 million restitution order from a federal court, funding environmental projects to acquire and preserve wetlands in an area damaged by illegal releases of wastewater from a corporate hog farm, announced Ignacia S. Moreno, Assistant Attorney General of the Justice Department’s Environment and Natural Resources Division; U.S. Attorney for the Eastern District of North Carolina Thomas G. Walker; Director Greg McLeod from the North Carolina State Bureau of Investigation; and Camilla M. Herlevich, Executive Director of the North Carolina Coastal Land Trust.   Freedman Farms Inc. was sentenced in February 2012 to five years of probation and ordered to pay $1.5 million in fines, restitution and community service payments for violating the Clean Water Act when it discharged hog waste into a stream that leads to the Waccamaw River.  William B. Freedman, president of Freedman Farms, was sentenced to six months in prison to be followed by six months of home confinement.  Freedman Farms also is required to implement a comprehensive environmental compliance program and institute an annual training program.   In an order issued on April 19, 2012, the court ordered that the defendants would be responsible for restitution of $1 million in the form of five annual payments starting in January 2013, which the court will direct to the North Carolina Coastal Land Trust (NCCLT).  The NCCLT plans to use the money to acquire and conserve land along streams in the Waccamaw watershed.  The court also directed a $75,000 community service payment to the Southern Environmental Enforcement Network, an organization dedicated to environmental law enforcement training and information sharing in the region.    “The resolution of the case against Freedman Farms demonstrates the commitment of the Department of Justice to enforcing the Clean Water Act to ensure the protection of human health and the environment,” said Assistant Attorney General Moreno.  “The court-ordered restitution in this case will conserve wetlands for the benefit of the people of North Carolina.  By enforcing the nation’s environmental laws, we will continue to ensure that concentrated animal feeding operations (CAFOs) operate without threatening our drinking water, the health of our communities and the environment.”   “This office is committed to doing our part to hold accountable those who commit crimes against our environment, which can cause serious health problems to residents and damage the environment that makes North Carolina such a beautiful place to live and visit,” said U.S. Attorney Walker.   “This case shows what we can accomplish when our SBI agents work closely with their local, state and federal partners to investigate environmental crimes and hold the polluters accountable,” said Director McLeod.  “We’ll continue our efforts to fight illegal pollution that damages our water and puts the public’s health at risk.”    “The Waccamaw is unique and wild,” said Director Herlevich of the North Carolina Coastal Land Trust. “Its watershed includes some of the most extensive cypress gum swamps in the state, and its headwaters at Lake Waccamaw contain fish that are found nowhere else on Earth.  We appreciate the trust of the court and the U. S. Attorney, and we look forward to using these funds for conservation projects in a river system that is one of our top conservation priorities.”   According to evidence presented in court, in December 2007 Freedman Farms discharged hog waste into Browder’s Branch, a tributary to the Waccamaw River that flows through the White Marsh, a large wetlands complex.  Freedman Farms, located in Columbus County, N.C., is in the business of raising hogs for market, and this particular farm had some 4,800 hogs.  The hog waste was supposed to be directed to two lagoons for treatment and disposal.  Instead, hog waste was discharged from Freedman Farms directly into Browder’s Branch.    The Clean Water Act is a federal law that makes it illegal to knowingly or negligently discharge a pollutant into a water of the United States.    The Freedman case was investigated by the U.S. Environmental Protection Agency (EPA) Criminal Investigation Division, the U.S. Army Corps of Engineers and the North Carolina State Bureau of Investigation, with assistance from the EPA Science and Ecosystem Support Division.  The case was prosecuted by Assistant U.S. Attorney J. Gaston B. Williams of the Eastern District of North Carolina and Trial Attorney Mary Dee Carraway of the Environmental Crimes Section of the Justice Department’s Environment and Natural Resources Division.   The North Carolina Coastal Land Trust is celebrating its 20th anniversary of saving special lands in eastern North Carolina. The organization has protected nearly 50,000 acres of lands with scenic, recreational, historic and ecological values. North Carolina Coastal Land Trust has saved streams and wetlands that provide clean water, forests that are havens for wildlife, working farms that provide local food and nature parks that everyone can enjoy.  More information about the Coastal Land Trust is available at www.coastallandtrust.org.   \n",
       "2                                                                                                                                                                                                                                                                                                                                                                                                                                                                                                                                                                                                                                                                                                                                                                                                                                                                                                                                                                                                                                                                                                                                                                                                                                                                                                                                                                                                                                                                                                                                                                                                                                                                                                                                                                                                                                                        BOSTON– A $1-million settlement has been reached for natural resource damages (NRD) at the Blackburn & Union Privileges Superfund Site in Walpole, Mass., the Departments of Justice and Interior (DOI), and the Office of the Massachusetts Attorney General announced today.                The Blackburn & Union Privileges Superfund Site includes 22 acres of contaminated land and water in Walpole. The contamination resulted from the operations of various industrial facilities dating back to the 19th century that exposed the site to asbestos, arsenic, lead and other hazardous substances.                The private parties involved in the settlement include two former owners and operators of the site, W.R. Grace & Co.– Conn. and Tyco Healthcare Group LP, as well as the current owners, BIM Investment Corp. and Shaffer Realty Nominee Trust.               From about 1915 to 1936, a predecessor of W.R. Grace manufactured asbestos brake linings and clutch linings on a large portion of the property. From 1946 to about 1983, a predecessor of Tyco Healthcare operated a cotton fabric manufacturing business, which used caustic solutions, on a portion of the property.               In a 2010 settlement with U.S. Environmental Protection Agency (EPA), the four private parties agreed to perform a remedial action to clean up the site at an estimated cost of $13 million. The consent decree lodged today resolves both state and federal NRD liability claims; it requires the parties to pay $1,094,169.56 to the state and federal natural resource trustees, the Massachusetts Executive Office of Energy and Environmental Affairs (EEA) and DOI, for injuries to ecological resources including groundwater and wetlands, which provide habitat for waterfowl and wading birds, including black ducks and great blue herons.  The trustees will use the settlement funds for natural resource restoration projects in the area.               “This settlement demonstrates our commitment to recovering damages from the parties responsible for injury to natural resources, in partnership with state trustees,” said Bruce Gelber, Acting Deputy Assistant Attorney General of the Justice Department’s Environment and Natural Resources Division.               “The citizens of Walpole have had to live with the environmental impact of this contamination for many years,” Attorney General Martha Coakley said. “We are pleased that today’s agreement will not only require the responsible parties to reimburse taxpayer dollars, but will also provide funding to begin restoring or replacing the wetland and other natural resources.”                 The consent decree was lodged in the U.S. District Court for Massachusetts.     A portion of the funds, $300,000, will be distributed to the EEA-sponsored groundwater restoration projects; $575,000 will be used for ecological restoration projects jointly sponsored by EEA and the U.S. Fish and Wildlife Service (FWS).               In addition, $125,000 will go for projects jointly sponsored by EEA and FWS that achieve both ecological and groundwater restoration; $57,491.34 will be allocated for reimbursement for the FWS’s assessment costs; and $36,678.22 will be distributed as reimbursement for the commonwealth’s assessment costs.       “This settlement provides the means for a range of projects designed to compensate the public for decades of groundwater and other ecological damage at this site.  I encourage local citizens and organizations to become engaged in the public process that will take place as we solicit, take comment on, and choose these projects in the months ahead,” said Energy and Environmental Affairs Secretary Richard K. Sullivan Jr., who serves as the Commonwealth’s Natural Resources Damages trustee.       “This settlement will help restore habitat for fish and wildlife in the Neponset River watershed,” said Tom Chapman of the FWS New England Field Office. “We look forward to working with the commonwealth and local stakeholders to implement restoration.”               “More than 100 years-worth of industrial activities at this site caused major environmental contamination to the Neponset River, nearby wetlands and to groundwater below the site,” said Commissioner Kenneth Kimmell of the Massachusetts Department of Environmental Protection (MassDEP), which will staff the Trustee Council for the Commonwealth. “We will ensure that the community and the public will be active participants in the process to use these NRD funds to restore the injured natural resources.”                Under the federal Comprehensive Environmental Response, Compensation and Liability Act, EEA and DOI, acting through the FWS, are the designated state and federal natural resource Trustees for the site. The site has been listed on the EPA’s National Priorities List since 1994.        The consent decree is subject to a public comment period and court approval. A copy of the consent decree and instructions about how to submit comments is available on www.usdoj.gov/enrd/Consent_Decrees.html  .               After the consent decree is approved, EEA and FWS will develop proposed restoration plans to use the settlement funds for restoration projects. The proposed restoration plans will also be made available to the public for review and comment.                Assistant Attorney General Matthew Brock of Massachusetts Attorney General Coakley's Environmental Protection Division handled this matter.  Attorney Jennifer Davis of MassDEP, Attorney Anna Blumkin of EEA and MassDEP’s NRD Coordinator Karen Pelto also worked on this settlement.   \n",
       "3                                                                                                                                                                                                                                                                                                                                                                                                                                                                                                                                                                                                                                                                                                                                                                                                                                                                                                                                                                                                                                                                                                                                                                                                                                                                                                                                                                                                                                                                                                                                                                                                                                                                                                                                                                                                                                                                                                                                                                                                                                                                                                                                                                                                                                                                                                                                                                                                                                                                                                                                                                                                                                                                                                                                                                                                                                                                                                                                                                                                                                                                                                                                                                                                                                                                                                                                                                                                                                                                                                                           WASHINGTON—A federal grand jury in Las Vegas today returned indictments against 10 Nevada-certified emissions testers for falsifying vehicle emissions test reports, the Justice Department announced.   Each defendant faces one felony Clean Air Act count for falsifying reports between November 2007 and May 2009. The number of falsifications varied by defendant, with some defendants having falsified approximately 250 records, while others falsified more than double that figure. One defendant is alleged to have falsified over 700 reports.   The individuals indicted include:     Escudero resides in Pahrump, Nev. All other individuals are from Clark County, Nev.    The 10 defendants are alleged to have engaged in a practice known as \"clean scanning\" vehicles. The scheme involved entering the Vehicle Identification Number (VIN) for a vehicle that would not pass the emissions test into the computerized system, then connecting a different vehicle the testers knew would pass the test. These falsifications were allegedly performed for anywhere from $10 to $100 over and above the usual emissions testing fee.    The U.S. Environmental Protection Agency (EPA), under the Clean Air Act, requires the state of Nevada to conduct vehicle emissions testing in certain areas because the areas exceed national standards for carbon monoxide and ozone. Las Vegas is currently required to perform emissions testing.    To obtain a registration renewal, vehicle owners bring the vehicles to a licensed inspection station for testing. The emissions inspector logs into a computer to activate the system by using a unique password issued to the emissions inspector. The emissions inspector manually inputs the vehicle’s VIN to identify the tested vehicle, then connects the vehicle for model year 1996 and later to an onboard diagnostics port connected to an analyzer. The analyzer downloads data from the vehicle’s computer, analyzes the data and provides a \"pass\" or \"fail\" result. The pass or fail result and vehicle identification data are reported on the Vehicle Inspection Report. It is a crime to knowingly alter or conceal any record or other document required to be maintained by the Clean Air Act.     \"Falsifications of vehicle emissions testing, such as those alleged in the indictments unsealed today, are serious matters and we intend to use all of our enforcement tools to stop this harmful practice. These actions undermine a system that is designed to reduce air pollutants including smog and provide better air quality for the citizens of Nevada,\" said Ignacia S. Moreno, Assistant Attorney General for the Justice Department’s Environment and Natural Resources Division.    \"The residents of Nevada deserve to know that the vast majority of licensed vehicle emission inspectors are not corrupt and are not circumventing emission testing procedures,\" said U.S. Attorney Bogden. \"These indictments should serve as a clear warning to offenders that the Department of Justice will prosecute you if you make fraudulent statements and reports concerning compliance with the federal Clean Air Act.\"    \"Lying about car emissions means dirtier air, which is especially of concern in areas like Las Vegas that are already experiencing air quality problems,\" said Cynthia Giles, Assistant Administrator for Enforcement and Compliance Assurance at EPA. \"We will take aggressive action to ensure communities have clean air.\"    The maximum penalty for the felony violations contained in the indictments includes up to two years in prison and a fine of up to $250,000.    An indictment is merely an accusation, and a defendant is presumed innocent unless and until proven guilty in a court of law.    The case was investigated by the EPA, Criminal Investigation Division; and the Nevada Department of Motor Vehicles Compliance Enforcement Division. The case is being prosecuted by the U.S. Attorney’s Office for the District of Nevada and the Justice Department’s Environmental Crimes Section.   \n",
       "4                                                                                                                                                                                                                                                                                                                                                                                                                                                                                                                                                                                                                                                                                                                                                                                                                                                                                                                                                                                                                                                                                                                                   The U.S. Department of Justice, the U.S. Environmental Protection Agency (EPA), and the Rhode Island Department of Environmental Management (RIDEM) announced today that two subsidiaries of Stanley Black & Decker Inc.—Emhart Industries Inc. and Black & Decker Inc.—have agreed to clean up dioxin contaminated sediment and soil at the Centredale Manor Restoration Project Superfund Site in North Providence and Johnston, Rhode Island.  “We are pleased to reach a resolution through collaborative work with the responsible parties, EPA, and other stakeholders,” said Acting Assistant Attorney General Jeffrey H. Wood for the Justice Department's Environment and Natural Resources Division . “Today’s settlement ends protracted litigation and allows for important work to get underway to restore a healthy environment for citizens living in and around the Centredale Manor Site and the Woonasquatucket River.” “This settlement demonstrates the tremendous progress we are achieving working with responsible parties, states, and our federal partners to expedite sites through the entire Superfund remediation process,” said EPA Acting Administrator Andrew Wheeler. “The Centredale Manor Site has been on the National Priorities List for 18 years; we are taking charge and ensuring the Agency makes good on its promise to clean it up for the betterment of the environment and those communities affected.” “Successfully concluding this settlement paves the way for EPA to make good on our commitment to aggressively pursue cleaning up the Centredale Manor Superfund Site,” said EPA New England Regional Administrator Alexandra Dunn. “We are excited to get to work on the cleanup at this site, and get it closer to the goal of being fully utilized by the North Providence and Johnston communities.” “We are pleased that the collective efforts of the State of Rhode Island, EPA, and DOJ in these negotiations have concluded in this major milestone toward the cleanup of the Centredale Manor Restoration Superfund site and are consistent with our long-standing efforts to make the polluter pay,” said RIDEM Director Janet Coit. “The settlement will speed up a remedy that protects public health and the river environment, and moves us closer to the day that we can reclaim recreational uses of this beautiful river resource.” The settlement, which includes cleanup work in the Woonasquatucket River (River) and bordering residential and commercial properties along the River, requires the companies to perform the remedy selected by EPA for the Site in 2012, which is estimated to cost approximately $100 million, and resolves longstanding litigation. The cleanup remedy includes excavation of contaminated sediment and floodplain soil from the Woonasquatucket River, including from adjacent residential properties. Once the cleanup remedy is completed, full access to the Woonasquatucket River should be restored for local citizens. The cleanup will be a step toward the State’s goal of a fishable and swimmable river. The work will also include upgrading caps over contaminated soil in the peninsula area of the Site that currently house two high-rise apartment buildings. The settlement also ensures that the long-term monitoring and maintenance of the site, as directed in the remedy, will be implemented to ensure that public health is protected.  Under the settlement, Emhart and Black & Decker will reimburse EPA for approximately $42 million in past costs incurred at the Site. The companies will also reimburse EPA and the State of Rhode Island for future costs incurred by those agencies in overseeing the work required by the settlement. The settlement will also include payments on behalf of two federal agencies to resolve claims against those agencies. These payments, along with prior settlements related to the Site, will result in a 100 percent recovery for the United States of its past and future response costs related to the Site. Litigation related to the Site has been ongoing for nearly eight years. While the Federal District Court found Black & Decker and Emhart to be liable for their hazardous waste and responsible to conduct the cleanup of the Site, it had also ruled that EPA needed to reconsider certain aspects of that cleanup. EPA appealed the decision requiring it to reconsider aspects of the cleanup. This settlement, once entered by the District Court, will resolve the litigation between the United States, Rhode Island, and Emhart and Black and Decker, allowing the cleanup of the Site to begin. The Site spans a one and a half mile stretch of the Woonasquatucket River and encompasses a nine-acre peninsula, two ponds and a significant forested wetland. From the 1940s to the early 1970s, Emhart’s predecessor operated a chemical manufacturing facility on the peninsula and used a raw material that was contaminated with 2,3,7,8-tetrachlorodibenzo-p-dioxin, a toxic form of dioxin. The Site property was also previously used by a barrel refurbisher. Elevated levels of dioxins and other contaminants have been detected in soil, groundwater, sediment, surface water and fish.  The Site was added to the National Priorities List (NPL) in 2000, and in December 2017, EPA included the Centredale Manor Restoration Project Superfund Site on a list of Superfund sites targeted for immediate and intense attention. Several short-term actions were previously performed at the Site to address immediate threats to the residents and minimize potential erosion and downstream transport of contaminated soil and sediment. This settlement is the latest agreement EPA has reached since the Site was listed on the NPL. Prior agreements addressed the performance and recovery of costs for the past environmental investigations and interim cleanup actions from Emhart, the barrel reconditioning company, the current owners of the peninsula portion of the Site, and other potentially responsible parties. The Consent Decree, lodged in the U.S. District Court of Rhode Island, will be posted in the Federal Register and available for public comment for a period of 30 days. The Consent Decree can be viewed on the Justice Department website: www.justice.gov/enrd/Consent_Decrees.html.  EPA information on the Centredale Manor Superfund Site: www.epa.gov/superfund/centredale.   \n",
       "\n",
       "                        date topics_clean  \\\n",
       "0  2014-10-01T00:00:00-04:00     No topic   \n",
       "1  2012-07-25T00:00:00-04:00     No topic   \n",
       "2  2011-08-03T00:00:00-04:00     No topic   \n",
       "3  2010-01-08T00:00:00-05:00     No topic   \n",
       "4  2018-07-09T00:00:00-04:00  Environment   \n",
       "\n",
       "                             components_clean  \n",
       "0            National Security Division (NSD)  \n",
       "1  Environment and Natural Resources Division  \n",
       "2  Environment and Natural Resources Division  \n",
       "3  Environment and Natural Resources Division  \n",
       "4  Environment and Natural Resources Division  "
      ]
     },
     "execution_count": 2,
     "metadata": {},
     "output_type": "execute_result"
    }
   ],
   "source": [
    "## first, unzip the file pset3_inputdata.zip \n",
    "## then, run this code to load the unzipped json file and convert to a dataframe\n",
    "## (may need to change the pathname depending on where you store stuff)\n",
    "## and convert some of the attributes from lists to values\n",
    "doj = pd.read_json(\"../pset3/combined.json\", lines = True)\n",
    "\n",
    "## due to json, topics are in a list so remove them and concatenate with ;\n",
    "doj['topics_clean'] = [\"; \".join(topic) \n",
    "                      if len(topic) > 0 else \"No topic\" \n",
    "                      for topic in doj.topics]\n",
    "\n",
    "## similarly with components\n",
    "doj['components_clean'] = [\"; \".join(comp) \n",
    "                           if len(comp) > 0 else \"No component\" \n",
    "                           for comp in doj.components]\n",
    "\n",
    "## drop older columns from data\n",
    "doj = doj[['id', 'title', 'contents', 'date', 'topics_clean', \n",
    "           'components_clean']].copy()\n",
    "\n",
    "doj.head()"
   ]
  },
  {
   "cell_type": "markdown",
   "metadata": {},
   "source": [
    "## 1. Tagging and sentiment scoring (17 points)\n",
    "\n",
    "Focus on the following press release: `id` == \"17-1204\" about this pharmaceutical kickback prosecution: https://www.forbes.com/sites/michelatindera/2017/11/16/fentanyl-billionaire-john-kapoor-to-plead-not-guilty-in-opioid-kickback-case/?sh=21b8574d6c6c \n",
    "\n",
    "The `contents` column is the one we're treating as a document. You may need to to convert it from a pandas series to a single string.\n",
    "\n",
    "We'll call the raw string of this press release `pharma`"
   ]
  },
  {
   "cell_type": "code",
   "execution_count": 3,
   "metadata": {},
   "outputs": [
    {
     "name": "stdout",
     "output_type": "stream",
     "text": [
      "4909    The founder and majority owner of Insys Therapeutics Inc., was arrested today and charged with leading a nationwide conspiracy to profit by using bribes and fraud to cause the illegal distribution of a Fentanyl spray intended for cancer patients experiencing breakthrough pain. \"More than 20,000 Americans died of synthetic opioid overdoses last year, and millions are addicted to opioids. And yet some medical professionals would rather take advantage of the addicts than try to help them,\" said Attorney General Jeff Sessions. \"This Justice Department will not tolerate this.  We will hold accountable anyone – from street dealers to corporate executives -- who illegally contributes to this nationwide epidemic.  And under the leadership of President Trump, we are fully committed to defeating this threat to the American people.”John N. Kapoor, 74, of Phoenix, Ariz., a current member of the Board of Directors of Insys, was arrested this morning in Arizona and charged with RICO conspiracy, as well as other felonies, including conspiracy to commit mail and wire fraud and conspiracy to violate the Anti-Kickback Law. Kapoor, the former Executive Chairman of the Board and CEO of Insys, will appear in federal court in Phoenix today.  He will appear in U.S. District Court in Boston at a later date. The superseding indictment, unsealed today in Boston, also includes additional allegations against several former Insys executives and managers who were initially indicted in December 2016.The superseding indictment charges that Kapoor; Michael L. Babich, 40, of Scottsdale, Ariz., former CEO and President of the company; Alec Burlakoff, 42, of Charlotte, N.C., former Vice President of Sales; Richard M. Simon, 46, of Seal Beach, Calif., former National Director of Sales; former Regional Sales Directors Sunrise Lee, 36, of Bryant City, Mich., and Joseph A. Rowan, 43, of Panama City, Fla.; and former Vice President of Managed Markets, Michael J. Gurry, 53, of Scottsdale, Ariz., conspired to bribe practitioners in various states, many of whom operated pain clinics, in order to get them to prescribe a fentanyl-based pain medication.  The medication, called “Subsys,” is a powerful narcotic intended to treat cancer patients suffering intense breakthrough pain.  In exchange for bribes and kickbacks, the practitioners wrote large numbers of prescriptions for the patients, most of whom were not diagnosed with cancer.The indictment also alleges that Kapoor and the six former executives conspired to mislead and defraud health insurance providers who were reluctant to approve payment for the drug when it was prescribed for non-cancer patients.  They achieved this goal by setting up the “reimbursement unit,” which was dedicated to obtaining prior authorization directly from insurers and pharmacy benefit managers. “In the midst of a nationwide opioid epidemic that has reached crisis proportions, Mr. Kapoor and his company stand accused of bribing doctors to overprescribe a potent opioid and committing fraud on insurance companies solely for profit,” said Acting United States Attorney William D. Weinreb. “Today's arrest and charges reflect our ongoing efforts to attack the opioid crisis from all angles. We must hold the industry and its leadership accountable - just as we would the cartels or a street-level drug dealer.”“As alleged, these executives created a corporate culture at Insys that utilized deception and bribery as an acceptable business practice, deceiving patients, and conspiring with doctors and insurers,” said Harold H. Shaw, Special Agent in Charge of the Federal Bureau of Investigation, Boston Field Division. “The allegations of selling a highly addictive opioid cancer pain drug to patients who did not have cancer, make them no better than street-level drug dealers. Today's charges mark an important step in holding pharmaceutical executives responsible for their part in the opioid crisis.   The FBI will vigorously investigate corrupt organizations with business practices that promote fraud with a total disregard for patient safety.”“These Insys executives allegedly fueled the opioid epidemic by paying doctors to needlessly prescribe an extremely dangerous and addictive form of fentanyl,” said Phillip Coyne, Special Agent in Charge for the Office of Inspector General of the U.S. Department of Health and Human Services.  “Corporate executives intent on illegally driving up profits need to be aware they are now squarely in the sights of law enforcement.”“As alleged, Insys executives improperly influenced health care providers to prescribe a powerful opioid for patients who did not need it, and without complying with FDA requirements, thus putting patients at risk and contributing to the current opioid crisis,” said Mark A. McCormack, Special Agent in Charge, FDA Office of Criminal Investigations’ Metro Washington Field Office. “Our office will continue to work with our law enforcement partners to pursue and bring to justice those who threaten the public health.”“Pharmaceutical companies whose products include controlled medications that can lead to addiction and overdose have a special obligation to operate in a trustworthy, transparent manner, because their customers’ health and safety and, indeed, very lives depend on it,” said DEA Special Agent in Charge Michael J. Ferguson.  “DEA pledges to work with our law enforcement and regulatory partners nationwide to ensure that rules and regulations under the Controlled Substances Act are followed.”“Today’s arrest is the result of a joint effort to identify, investigate and prosecute individuals who engage in fraudulent activity and endanger patient health,” stated Special Agent in Charge Leigh-Alistair Barzey, Defense Criminal Investigative Service (DCIS) Northeast Field Office.  “DCIS will continue to work with the U.S. Attorney’s Office, District of Massachusetts, and our law enforcement partners, to protect U.S. military members, retirees and their dependents and the integrity of TRICARE, the Defense Department’s healthcare system.”“As alleged, John Kapoor and other top executives committed fraud, placing profit before patient safety, to sell a highly potent and addictive opioid.  EBSA will take every opportunity to work collaboratively with our law enforcement partners in these important investigations to protect participants in private sector health plans and contribute in fighting the opioid epidemic,” said Susan A. Hensley, Regional Director of the U.S. Department of Labor, Employee Benefits Security Administration, Boston Regional Office.“Once again, the United States Postal Inspection Service is fully committed to protecting our nation’s mail system from criminal misuse,” said Shelly Binkowski, Inspector in Charge of the U.S. Postal Inspection Service. “We are proud to work alongside our law enforcement partners to dismantle high level prescription drug practices which directly contribute to the opioid abuse epidemic.  This investigation highlights our commitment to defending our mail system from illegal misuse and ensuring public trust in the mail.”“The U.S. Department of Veterans Affairs, Office of Inspector General will continue to aggressively investigate those that attempt to fraudulently impact programs designed to benefit our veterans and their families,” said Donna L. Neves, Special Agent in Charge of the VA OIG Northeast Field Office.The charges of conspiracy to commit RICO and conspiracy to commit mail and wire fraud each provide for a sentence of no greater than 20 years in prison, three years of supervised release and a fine of $250,000, or twice the amount of pecuniary gain or loss.  The charges of conspiracy to violate the Anti-Kickback Law provide for a sentence of no greater than five years in prison, three years of supervised release and a $25,000 fine. Sentences are imposed by a federal district court judge based upon the U.S. Sentencing Guidelines and other statutory factors.The investigation was conducted by a team that included the FBI; HHS-OIG; FDA Office of Criminal Investigations; the Defense Criminal Investigative Service; the Drug Enforcement Administration; the Department of Labor, Employee Benefits Security Administration; the Office of Personnel Management; the U.S. Postal Inspection Service; the U.S. Postal Service Office of Inspector General; and the Department of Veterans Affairs.  The U.S. Attorney’s Office would like to acknowledge the cooperation and assistance of the U.S. Attorney’s Offices around the country engaged in parallel investigations, including the District of Connecticut, Eastern District of Michigan, Southern District of Alabama, Southern District of New York, District of Rhode Island, and the District of New Hampshire.  The efforts of the Central District of California and the Justice Department’s Civil Fraud Section of the Department of Justice are also greatly appreciated. Assistant U.S. Attorneys K. Nathaniel Yeager, Chief of Weinreb’s Health Care Fraud Unit, and Susan M. Poswistilo, of Weinreb’s Civil Division, are prosecuting the case.The details contained in the charging documents are allegations.  The defendants are presumed innocent unless and until proven guilty beyond a reasonable doubt.\n",
      "Name: contents, dtype: object\n"
     ]
    }
   ],
   "source": [
    "\n",
    "pharma = str(doj[doj[\"id\"] == \"17-1204\"][\"contents\"])\n",
    "print(pharma)\n"
   ]
  },
  {
   "cell_type": "markdown",
   "metadata": {},
   "source": [
    "### 1.1 part of speech tagging (3 points)\n",
    "\n",
    "A. Preprocess the `pharma` press release to remove all punctuation / digits (you can use `.isalpha()` to subset)\n",
    "\n",
    "B. With the preprocessed press release from part A, use the part of speech tagger within nltk to tag all the words in that one press release with their part of speech. \n",
    "\n",
    "C. Using the output from B, extract the adjectives and sort those adjectives from most occurrences to fewest occurrences. Print a dataframe with the 5 most frequent adjectives and their counts in the `pharma` release. See here for a list of the names of adjectives within nltk: https://pythonprogramming.net/natural-language-toolkit-nltk-part-speech-tagging/\n",
    "\n",
    "**Resources**:\n",
    "\n",
    "- Documentation for `.isalpha()`: https://www.w3schools.com/python/ref_string_isalpha.asp"
   ]
  },
  {
   "cell_type": "code",
   "execution_count": 4,
   "metadata": {},
   "outputs": [
    {
     "name": "stdout",
     "output_type": "stream",
     "text": [
      "The founder and majority owner of Insys Therapeutics was arrested today and charged with leading a nationwide conspiracy to profit by using bribes and fraud to cause the illegal distribution of a Fentanyl spray intended for cancer patients experiencing breakthrough than Americans died of synthetic opioid overdoses last and millions are addicted to And yet some medical professionals would rather take advantage of the addicts than try to help said Attorney General Jeff Justice Department will not tolerate We will hold accountable anyone from street dealers to corporate executives who illegally contributes to this nationwide And under the leadership of President we are fully committed to defeating this threat to the American of a current member of the Board of Directors of was arrested this morning in Arizona and charged with RICO as well as other including conspiracy to commit mail and wire fraud and conspiracy to violate the the former Executive Chairman of the Board and CEO of will appear in federal court in Phoenix He will appear in District Court in Boston at a later The superseding unsealed today in also includes additional allegations against several former Insys executives and managers who were initially indicted in December superseding indictment charges that Michael of former CEO and President of the Alec of former Vice President of Richard of Seal former National Director of former Regional Sales Directors Sunrise of Bryant and Joseph of Panama and former Vice President of Managed Michael of conspired to bribe practitioners in various many of whom operated pain in order to get them to prescribe a pain The called is a powerful narcotic intended to treat cancer patients suffering intense breakthrough In exchange for bribes and the practitioners wrote large numbers of prescriptions for the most of whom were not diagnosed with indictment also alleges that Kapoor and the six former executives conspired to mislead and defraud health insurance providers who were reluctant to approve payment for the drug when it was prescribed for They achieved this goal by setting up the which was dedicated to obtaining prior authorization directly from insurers and pharmacy benefit the midst of a nationwide opioid epidemic that has reached crisis Kapoor and his company stand accused of bribing doctors to overprescribe a potent opioid and committing fraud on insurance companies solely for said Acting United States Attorney William arrest and charges reflect our ongoing efforts to attack the opioid crisis from all We must hold the industry and its leadership accountable just as we would the cartels or a drug these executives created a corporate culture at Insys that utilized deception and bribery as an acceptable business deceiving and conspiring with doctors and said Harold Special Agent in Charge of the Federal Bureau of Boston Field allegations of selling a highly addictive opioid cancer pain drug to patients who did not have make them no better than drug charges mark an important step in holding pharmaceutical executives responsible for their part in the opioid The FBI will vigorously investigate corrupt organizations with business practices that promote fraud with a total disregard for patient Insys executives allegedly fueled the opioid epidemic by paying doctors to needlessly prescribe an extremely dangerous and addictive form of said Phillip Special Agent in Charge for the Office of Inspector General of the Department of Health and Human executives intent on illegally driving up profits need to be aware they are now squarely in the sights of law Insys executives improperly influenced health care providers to prescribe a powerful opioid for patients who did not need and without complying with FDA thus putting patients at risk and contributing to the current opioid said Mark Special Agent in FDA Office of Criminal Metro Washington Field office will continue to work with our law enforcement partners to pursue and bring to justice those who threaten the public companies whose products include controlled medications that can lead to addiction and overdose have a special obligation to operate in a transparent because their health and safety very lives depend on said DEA Special Agent in Charge Michael pledges to work with our law enforcement and regulatory partners nationwide to ensure that rules and regulations under the Controlled Substances Act are arrest is the result of a joint effort to investigate and prosecute individuals who engage in fraudulent activity and endanger patient stated Special Agent in Charge Defense Criminal Investigative Service Northeast Field will continue to work with the District of and our law enforcement to protect military retirees and their dependents and the integrity of the Defense healthcare John Kapoor and other top executives committed placing profit before patient to sell a highly potent and addictive EBSA will take every opportunity to work collaboratively with our law enforcement partners in these important investigations to protect participants in private sector health plans and contribute in fighting the opioid said Susan Regional Director of the Department of Employee Benefits Security Boston Regional the United States Postal Inspection Service is fully committed to protecting our mail system from criminal said Shelly Inspector in Charge of the Postal Inspection are proud to work alongside our law enforcement partners to dismantle high level prescription drug practices which directly contribute to the opioid abuse This investigation highlights our commitment to defending our mail system from illegal misuse and ensuring public trust in the Department of Veterans Office of Inspector General will continue to aggressively investigate those that attempt to fraudulently impact programs designed to benefit our veterans and their said Donna Special Agent in Charge of the VA OIG Northeast Field charges of conspiracy to commit RICO and conspiracy to commit mail and wire fraud each provide for a sentence of no greater than years in three years of supervised release and a fine of or twice the amount of pecuniary gain or The charges of conspiracy to violate the Law provide for a sentence of no greater than five years in three years of supervised release and a Sentences are imposed by a federal district court judge based upon the Sentencing Guidelines and other statutory investigation was conducted by a team that included the FDA Office of Criminal the Defense Criminal Investigative the Drug Enforcement the Department of Employee Benefits Security the Office of Personnel the Postal Inspection the Postal Service Office of Inspector and the Department of Veterans The Office would like to acknowledge the cooperation and assistance of the Offices around the country engaged in parallel including the District of Eastern District of Southern District of Southern District of New District of Rhode and the District of New The efforts of the Central District of California and the Justice Civil Fraud Section of the Department of Justice are also greatly Assistant Attorneys Nathaniel Chief of Health Care Fraud and Susan of Civil are prosecuting the details contained in the charging documents are The defendants are presumed innocent unless and until proven guilty beyond a reasonable object\n"
     ]
    }
   ],
   "source": [
    "\n",
    "def preprocess_text(text):\n",
    "    words = text.split()\n",
    "    \n",
    "    processed_words = [word for word in words if word.isalpha()]\n",
    "    \n",
    "    processed_text = ' '.join(processed_words)\n",
    "    \n",
    "    return processed_text\n",
    "\n",
    "pro_pharma = preprocess_text(pharma)\n",
    "\n",
    "print(pro_pharma)"
   ]
  },
  {
   "cell_type": "code",
   "execution_count": 5,
   "metadata": {},
   "outputs": [
    {
     "name": "stdout",
     "output_type": "stream",
     "text": [
      "[('The', 'DT'), ('founder', 'NN'), ('and', 'CC'), ('majority', 'NN'), ('owner', 'NN'), ('of', 'IN'), ('Insys', 'NNP'), ('Therapeutics', 'NNP'), ('was', 'VBD'), ('arrested', 'VBN'), ('today', 'NN'), ('and', 'CC'), ('charged', 'VBN'), ('with', 'IN'), ('leading', 'VBG'), ('a', 'DT'), ('nationwide', 'JJ'), ('conspiracy', 'NN'), ('to', 'TO'), ('profit', 'VB'), ('by', 'IN'), ('using', 'VBG'), ('bribes', 'NNS'), ('and', 'CC'), ('fraud', 'NN'), ('to', 'TO'), ('cause', 'VB'), ('the', 'DT'), ('illegal', 'JJ'), ('distribution', 'NN'), ('of', 'IN'), ('a', 'DT'), ('Fentanyl', 'NNP'), ('spray', 'NN'), ('intended', 'VBD'), ('for', 'IN'), ('cancer', 'NN'), ('patients', 'NNS'), ('experiencing', 'VBG'), ('breakthrough', 'IN'), ('than', 'IN'), ('Americans', 'NNPS'), ('died', 'VBD'), ('of', 'IN'), ('synthetic', 'JJ'), ('opioid', 'NN'), ('overdoses', 'NNS'), ('last', 'JJ'), ('and', 'CC'), ('millions', 'NNS'), ('are', 'VBP'), ('addicted', 'VBN'), ('to', 'TO'), ('And', 'CC'), ('yet', 'RB'), ('some', 'DT'), ('medical', 'JJ'), ('professionals', 'NNS'), ('would', 'MD'), ('rather', 'RB'), ('take', 'VB'), ('advantage', 'NN'), ('of', 'IN'), ('the', 'DT'), ('addicts', 'NNS'), ('than', 'IN'), ('try', 'NN'), ('to', 'TO'), ('help', 'VB'), ('said', 'VBD'), ('Attorney', 'NNP'), ('General', 'NNP'), ('Jeff', 'NNP'), ('Justice', 'NNP'), ('Department', 'NNP'), ('will', 'MD'), ('not', 'RB'), ('tolerate', 'VB'), ('We', 'PRP'), ('will', 'MD'), ('hold', 'VB'), ('accountable', 'JJ'), ('anyone', 'NN'), ('from', 'IN'), ('street', 'NN'), ('dealers', 'NNS'), ('to', 'TO'), ('corporate', 'JJ'), ('executives', 'NNS'), ('who', 'WP'), ('illegally', 'RB'), ('contributes', 'VBZ'), ('to', 'TO'), ('this', 'DT'), ('nationwide', 'JJ'), ('And', 'CC'), ('under', 'IN'), ('the', 'DT'), ('leadership', 'NN'), ('of', 'IN'), ('President', 'NNP'), ('we', 'PRP'), ('are', 'VBP'), ('fully', 'RB'), ('committed', 'VBN'), ('to', 'TO'), ('defeating', 'VBG'), ('this', 'DT'), ('threat', 'NN'), ('to', 'TO'), ('the', 'DT'), ('American', 'NNP'), ('of', 'IN'), ('a', 'DT'), ('current', 'JJ'), ('member', 'NN'), ('of', 'IN'), ('the', 'DT'), ('Board', 'NNP'), ('of', 'IN'), ('Directors', 'NNP'), ('of', 'IN'), ('was', 'VBD'), ('arrested', 'VBN'), ('this', 'DT'), ('morning', 'NN'), ('in', 'IN'), ('Arizona', 'NNP'), ('and', 'CC'), ('charged', 'VBN'), ('with', 'IN'), ('RICO', 'NNP'), ('as', 'RB'), ('well', 'RB'), ('as', 'IN'), ('other', 'JJ'), ('including', 'VBG'), ('conspiracy', 'NN'), ('to', 'TO'), ('commit', 'VB'), ('mail', 'NN'), ('and', 'CC'), ('wire', 'NN'), ('fraud', 'NN'), ('and', 'CC'), ('conspiracy', 'NN'), ('to', 'TO'), ('violate', 'VB'), ('the', 'DT'), ('the', 'DT'), ('former', 'JJ'), ('Executive', 'NNP'), ('Chairman', 'NNP'), ('of', 'IN'), ('the', 'DT'), ('Board', 'NNP'), ('and', 'CC'), ('CEO', 'NNP'), ('of', 'IN'), ('will', 'MD'), ('appear', 'VB'), ('in', 'IN'), ('federal', 'JJ'), ('court', 'NN'), ('in', 'IN'), ('Phoenix', 'NNP'), ('He', 'PRP'), ('will', 'MD'), ('appear', 'VB'), ('in', 'IN'), ('District', 'NNP'), ('Court', 'NNP'), ('in', 'IN'), ('Boston', 'NNP'), ('at', 'IN'), ('a', 'DT'), ('later', 'RB'), ('The', 'DT'), ('superseding', 'NN'), ('unsealed', 'JJ'), ('today', 'NN'), ('in', 'IN'), ('also', 'RB'), ('includes', 'VBZ'), ('additional', 'JJ'), ('allegations', 'NNS'), ('against', 'IN'), ('several', 'JJ'), ('former', 'JJ'), ('Insys', 'NNP'), ('executives', 'NNS'), ('and', 'CC'), ('managers', 'NNS'), ('who', 'WP'), ('were', 'VBD'), ('initially', 'RB'), ('indicted', 'VBN'), ('in', 'IN'), ('December', 'NNP'), ('superseding', 'VBG'), ('indictment', 'NN'), ('charges', 'NNS'), ('that', 'IN'), ('Michael', 'NNP'), ('of', 'IN'), ('former', 'JJ'), ('CEO', 'NNP'), ('and', 'CC'), ('President', 'NNP'), ('of', 'IN'), ('the', 'DT'), ('Alec', 'NNP'), ('of', 'IN'), ('former', 'JJ'), ('Vice', 'NNP'), ('President', 'NNP'), ('of', 'IN'), ('Richard', 'NNP'), ('of', 'IN'), ('Seal', 'NNP'), ('former', 'JJ'), ('National', 'NNP'), ('Director', 'NNP'), ('of', 'IN'), ('former', 'JJ'), ('Regional', 'NNP'), ('Sales', 'NNS'), ('Directors', 'NNP'), ('Sunrise', 'NNP'), ('of', 'IN'), ('Bryant', 'NNP'), ('and', 'CC'), ('Joseph', 'NNP'), ('of', 'IN'), ('Panama', 'NNP'), ('and', 'CC'), ('former', 'JJ'), ('Vice', 'NNP'), ('President', 'NNP'), ('of', 'IN'), ('Managed', 'NNP'), ('Michael', 'NNP'), ('of', 'IN'), ('conspired', 'VBN'), ('to', 'TO'), ('bribe', 'VB'), ('practitioners', 'NNS'), ('in', 'IN'), ('various', 'JJ'), ('many', 'JJ'), ('of', 'IN'), ('whom', 'WP'), ('operated', 'VBD'), ('pain', 'NN'), ('in', 'IN'), ('order', 'NN'), ('to', 'TO'), ('get', 'VB'), ('them', 'PRP'), ('to', 'TO'), ('prescribe', 'VB'), ('a', 'DT'), ('pain', 'NN'), ('The', 'DT'), ('called', 'VBN'), ('is', 'VBZ'), ('a', 'DT'), ('powerful', 'JJ'), ('narcotic', 'JJ'), ('intended', 'VBN'), ('to', 'TO'), ('treat', 'VB'), ('cancer', 'NN'), ('patients', 'NNS'), ('suffering', 'VBG'), ('intense', 'JJ'), ('breakthrough', 'NN'), ('In', 'IN'), ('exchange', 'NN'), ('for', 'IN'), ('bribes', 'NNS'), ('and', 'CC'), ('the', 'DT'), ('practitioners', 'NNS'), ('wrote', 'VBD'), ('large', 'JJ'), ('numbers', 'NNS'), ('of', 'IN'), ('prescriptions', 'NNS'), ('for', 'IN'), ('the', 'DT'), ('most', 'JJS'), ('of', 'IN'), ('whom', 'WP'), ('were', 'VBD'), ('not', 'RB'), ('diagnosed', 'VBN'), ('with', 'IN'), ('indictment', 'NN'), ('also', 'RB'), ('alleges', 'VBZ'), ('that', 'IN'), ('Kapoor', 'NNP'), ('and', 'CC'), ('the', 'DT'), ('six', 'CD'), ('former', 'JJ'), ('executives', 'NNS'), ('conspired', 'VBD'), ('to', 'TO'), ('mislead', 'VB'), ('and', 'CC'), ('defraud', 'VB'), ('health', 'NN'), ('insurance', 'NN'), ('providers', 'NNS'), ('who', 'WP'), ('were', 'VBD'), ('reluctant', 'JJ'), ('to', 'TO'), ('approve', 'VB'), ('payment', 'NN'), ('for', 'IN'), ('the', 'DT'), ('drug', 'NN'), ('when', 'WRB'), ('it', 'PRP'), ('was', 'VBD'), ('prescribed', 'VBN'), ('for', 'IN'), ('They', 'PRP'), ('achieved', 'VBD'), ('this', 'DT'), ('goal', 'NN'), ('by', 'IN'), ('setting', 'VBG'), ('up', 'RP'), ('the', 'DT'), ('which', 'WDT'), ('was', 'VBD'), ('dedicated', 'VBN'), ('to', 'TO'), ('obtaining', 'VBG'), ('prior', 'JJ'), ('authorization', 'NN'), ('directly', 'RB'), ('from', 'IN'), ('insurers', 'NNS'), ('and', 'CC'), ('pharmacy', 'NN'), ('benefit', 'VBP'), ('the', 'DT'), ('midst', 'NN'), ('of', 'IN'), ('a', 'DT'), ('nationwide', 'JJ'), ('opioid', 'NN'), ('epidemic', 'NN'), ('that', 'WDT'), ('has', 'VBZ'), ('reached', 'VBN'), ('crisis', 'NN'), ('Kapoor', 'NNP'), ('and', 'CC'), ('his', 'PRP$'), ('company', 'NN'), ('stand', 'VBP'), ('accused', 'VBN'), ('of', 'IN'), ('bribing', 'VBG'), ('doctors', 'NNS'), ('to', 'TO'), ('overprescribe', 'VB'), ('a', 'DT'), ('potent', 'JJ'), ('opioid', 'NN'), ('and', 'CC'), ('committing', 'VBG'), ('fraud', 'NN'), ('on', 'IN'), ('insurance', 'NN'), ('companies', 'NNS'), ('solely', 'RB'), ('for', 'IN'), ('said', 'VBD'), ('Acting', 'NNP'), ('United', 'NNP'), ('States', 'NNPS'), ('Attorney', 'NNP'), ('William', 'NNP'), ('arrest', 'NN'), ('and', 'CC'), ('charges', 'NNS'), ('reflect', 'VBP'), ('our', 'PRP$'), ('ongoing', 'JJ'), ('efforts', 'NNS'), ('to', 'TO'), ('attack', 'VB'), ('the', 'DT'), ('opioid', 'JJ'), ('crisis', 'NN'), ('from', 'IN'), ('all', 'DT'), ('We', 'PRP'), ('must', 'MD'), ('hold', 'VB'), ('the', 'DT'), ('industry', 'NN'), ('and', 'CC'), ('its', 'PRP$'), ('leadership', 'NN'), ('accountable', 'JJ'), ('just', 'RB'), ('as', 'IN'), ('we', 'PRP'), ('would', 'MD'), ('the', 'DT'), ('cartels', 'NNS'), ('or', 'CC'), ('a', 'DT'), ('drug', 'NN'), ('these', 'DT'), ('executives', 'NNS'), ('created', 'VBD'), ('a', 'DT'), ('corporate', 'JJ'), ('culture', 'NN'), ('at', 'IN'), ('Insys', 'NNP'), ('that', 'WDT'), ('utilized', 'JJ'), ('deception', 'NN'), ('and', 'CC'), ('bribery', 'NN'), ('as', 'IN'), ('an', 'DT'), ('acceptable', 'JJ'), ('business', 'NN'), ('deceiving', 'NN'), ('and', 'CC'), ('conspiring', 'VBG'), ('with', 'IN'), ('doctors', 'NNS'), ('and', 'CC'), ('said', 'VBD'), ('Harold', 'NNP'), ('Special', 'NNP'), ('Agent', 'NNP'), ('in', 'IN'), ('Charge', 'NNP'), ('of', 'IN'), ('the', 'DT'), ('Federal', 'NNP'), ('Bureau', 'NNP'), ('of', 'IN'), ('Boston', 'NNP'), ('Field', 'NNP'), ('allegations', 'NNS'), ('of', 'IN'), ('selling', 'VBG'), ('a', 'DT'), ('highly', 'RB'), ('addictive', 'JJ'), ('opioid', 'NN'), ('cancer', 'NN'), ('pain', 'VBP'), ('drug', 'NN'), ('to', 'TO'), ('patients', 'NNS'), ('who', 'WP'), ('did', 'VBD'), ('not', 'RB'), ('have', 'VB'), ('make', 'VB'), ('them', 'PRP'), ('no', 'DT'), ('better', 'JJR'), ('than', 'IN'), ('drug', 'NN'), ('charges', 'NNS'), ('mark', 'VBP'), ('an', 'DT'), ('important', 'JJ'), ('step', 'NN'), ('in', 'IN'), ('holding', 'VBG'), ('pharmaceutical', 'JJ'), ('executives', 'NNS'), ('responsible', 'JJ'), ('for', 'IN'), ('their', 'PRP$'), ('part', 'NN'), ('in', 'IN'), ('the', 'DT'), ('opioid', 'NN'), ('The', 'DT'), ('FBI', 'NNP'), ('will', 'MD'), ('vigorously', 'RB'), ('investigate', 'VB'), ('corrupt', 'JJ'), ('organizations', 'NNS'), ('with', 'IN'), ('business', 'NN'), ('practices', 'NNS'), ('that', 'WDT'), ('promote', 'VBP'), ('fraud', 'NN'), ('with', 'IN'), ('a', 'DT'), ('total', 'JJ'), ('disregard', 'NN'), ('for', 'IN'), ('patient', 'NN'), ('Insys', 'NNP'), ('executives', 'NNS'), ('allegedly', 'RB'), ('fueled', 'VBD'), ('the', 'DT'), ('opioid', 'JJ'), ('epidemic', 'JJ'), ('by', 'IN'), ('paying', 'VBG'), ('doctors', 'NNS'), ('to', 'TO'), ('needlessly', 'RB'), ('prescribe', 'VB'), ('an', 'DT'), ('extremely', 'RB'), ('dangerous', 'JJ'), ('and', 'CC'), ('addictive', 'JJ'), ('form', 'NN'), ('of', 'IN'), ('said', 'VBD'), ('Phillip', 'NNP'), ('Special', 'NNP'), ('Agent', 'NNP'), ('in', 'IN'), ('Charge', 'NNP'), ('for', 'IN'), ('the', 'DT'), ('Office', 'NNP'), ('of', 'IN'), ('Inspector', 'NNP'), ('General', 'NNP'), ('of', 'IN'), ('the', 'DT'), ('Department', 'NNP'), ('of', 'IN'), ('Health', 'NNP'), ('and', 'CC'), ('Human', 'NNP'), ('executives', 'NNS'), ('intent', 'NN'), ('on', 'IN'), ('illegally', 'RB'), ('driving', 'VBG'), ('up', 'RP'), ('profits', 'NNS'), ('need', 'VBP'), ('to', 'TO'), ('be', 'VB'), ('aware', 'JJ'), ('they', 'PRP'), ('are', 'VBP'), ('now', 'RB'), ('squarely', 'RB'), ('in', 'IN'), ('the', 'DT'), ('sights', 'NNS'), ('of', 'IN'), ('law', 'NN'), ('Insys', 'NNP'), ('executives', 'NNS'), ('improperly', 'RB'), ('influenced', 'VBD'), ('health', 'NN'), ('care', 'NN'), ('providers', 'NNS'), ('to', 'TO'), ('prescribe', 'VB'), ('a', 'DT'), ('powerful', 'JJ'), ('opioid', 'NN'), ('for', 'IN'), ('patients', 'NNS'), ('who', 'WP'), ('did', 'VBD'), ('not', 'RB'), ('need', 'VB'), ('and', 'CC'), ('without', 'IN'), ('complying', 'VBG'), ('with', 'IN'), ('FDA', 'NNP'), ('thus', 'RB'), ('putting', 'VBG'), ('patients', 'NNS'), ('at', 'IN'), ('risk', 'NN'), ('and', 'CC'), ('contributing', 'VBG'), ('to', 'TO'), ('the', 'DT'), ('current', 'JJ'), ('opioid', 'NN'), ('said', 'VBD'), ('Mark', 'NNP'), ('Special', 'NNP'), ('Agent', 'NNP'), ('in', 'IN'), ('FDA', 'NNP'), ('Office', 'NNP'), ('of', 'IN'), ('Criminal', 'NNP'), ('Metro', 'NNP'), ('Washington', 'NNP'), ('Field', 'NNP'), ('office', 'NN'), ('will', 'MD'), ('continue', 'VB'), ('to', 'TO'), ('work', 'VB'), ('with', 'IN'), ('our', 'PRP$'), ('law', 'NN'), ('enforcement', 'NN'), ('partners', 'NNS'), ('to', 'TO'), ('pursue', 'VB'), ('and', 'CC'), ('bring', 'VB'), ('to', 'TO'), ('justice', 'VB'), ('those', 'DT'), ('who', 'WP'), ('threaten', 'VBP'), ('the', 'DT'), ('public', 'JJ'), ('companies', 'NNS'), ('whose', 'WP$'), ('products', 'NNS'), ('include', 'VBP'), ('controlled', 'JJ'), ('medications', 'NNS'), ('that', 'WDT'), ('can', 'MD'), ('lead', 'VB'), ('to', 'TO'), ('addiction', 'NN'), ('and', 'CC'), ('overdose', 'RB'), ('have', 'VBP'), ('a', 'DT'), ('special', 'JJ'), ('obligation', 'NN'), ('to', 'TO'), ('operate', 'VB'), ('in', 'IN'), ('a', 'DT'), ('transparent', 'NN'), ('because', 'IN'), ('their', 'PRP$'), ('health', 'NN'), ('and', 'CC'), ('safety', 'NN'), ('very', 'RB'), ('lives', 'VBZ'), ('depend', 'NN'), ('on', 'IN'), ('said', 'VBD'), ('DEA', 'NNP'), ('Special', 'NNP'), ('Agent', 'NNP'), ('in', 'IN'), ('Charge', 'NNP'), ('Michael', 'NNP'), ('pledges', 'VBZ'), ('to', 'TO'), ('work', 'VB'), ('with', 'IN'), ('our', 'PRP$'), ('law', 'NN'), ('enforcement', 'NN'), ('and', 'CC'), ('regulatory', 'JJ'), ('partners', 'NNS'), ('nationwide', 'JJ'), ('to', 'TO'), ('ensure', 'VB'), ('that', 'IN'), ('rules', 'NNS'), ('and', 'CC'), ('regulations', 'NNS'), ('under', 'IN'), ('the', 'DT'), ('Controlled', 'NNP'), ('Substances', 'NNP'), ('Act', 'NNP'), ('are', 'VBP'), ('arrest', 'NN'), ('is', 'VBZ'), ('the', 'DT'), ('result', 'NN'), ('of', 'IN'), ('a', 'DT'), ('joint', 'JJ'), ('effort', 'NN'), ('to', 'TO'), ('investigate', 'VB'), ('and', 'CC'), ('prosecute', 'JJ'), ('individuals', 'NNS'), ('who', 'WP'), ('engage', 'VBP'), ('in', 'IN'), ('fraudulent', 'JJ'), ('activity', 'NN'), ('and', 'CC'), ('endanger', 'NN'), ('patient', 'NN'), ('stated', 'VBN'), ('Special', 'JJ'), ('Agent', 'NNP'), ('in', 'IN'), ('Charge', 'NNP'), ('Defense', 'NNP'), ('Criminal', 'NNP'), ('Investigative', 'NNP'), ('Service', 'NNP'), ('Northeast', 'NNP'), ('Field', 'NNP'), ('will', 'MD'), ('continue', 'VB'), ('to', 'TO'), ('work', 'VB'), ('with', 'IN'), ('the', 'DT'), ('District', 'NNP'), ('of', 'IN'), ('and', 'CC'), ('our', 'PRP$'), ('law', 'NN'), ('enforcement', 'NN'), ('to', 'TO'), ('protect', 'VB'), ('military', 'JJ'), ('retirees', 'NNS'), ('and', 'CC'), ('their', 'PRP$'), ('dependents', 'NNS'), ('and', 'CC'), ('the', 'DT'), ('integrity', 'NN'), ('of', 'IN'), ('the', 'DT'), ('Defense', 'NNP'), ('healthcare', 'NN'), ('John', 'NNP'), ('Kapoor', 'NNP'), ('and', 'CC'), ('other', 'JJ'), ('top', 'JJ'), ('executives', 'NNS'), ('committed', 'VBD'), ('placing', 'JJ'), ('profit', 'NN'), ('before', 'IN'), ('patient', 'JJ'), ('to', 'TO'), ('sell', 'VB'), ('a', 'DT'), ('highly', 'RB'), ('potent', 'JJ'), ('and', 'CC'), ('addictive', 'JJ'), ('EBSA', 'NNP'), ('will', 'MD'), ('take', 'VB'), ('every', 'DT'), ('opportunity', 'NN'), ('to', 'TO'), ('work', 'VB'), ('collaboratively', 'RB'), ('with', 'IN'), ('our', 'PRP$'), ('law', 'NN'), ('enforcement', 'NN'), ('partners', 'NNS'), ('in', 'IN'), ('these', 'DT'), ('important', 'JJ'), ('investigations', 'NNS'), ('to', 'TO'), ('protect', 'VB'), ('participants', 'NNS'), ('in', 'IN'), ('private', 'JJ'), ('sector', 'NN'), ('health', 'NN'), ('plans', 'NNS'), ('and', 'CC'), ('contribute', 'NN'), ('in', 'IN'), ('fighting', 'VBG'), ('the', 'DT'), ('opioid', 'NN'), ('said', 'VBD'), ('Susan', 'NNP'), ('Regional', 'NNP'), ('Director', 'NNP'), ('of', 'IN'), ('the', 'DT'), ('Department', 'NNP'), ('of', 'IN'), ('Employee', 'NNP'), ('Benefits', 'NNP'), ('Security', 'NNP'), ('Boston', 'NNP'), ('Regional', 'NNP'), ('the', 'DT'), ('United', 'NNP'), ('States', 'NNPS'), ('Postal', 'NNP'), ('Inspection', 'NNP'), ('Service', 'NNP'), ('is', 'VBZ'), ('fully', 'RB'), ('committed', 'VBN'), ('to', 'TO'), ('protecting', 'VBG'), ('our', 'PRP$'), ('mail', 'NN'), ('system', 'NN'), ('from', 'IN'), ('criminal', 'NN'), ('said', 'VBD'), ('Shelly', 'NNP'), ('Inspector', 'NNP'), ('in', 'IN'), ('Charge', 'NNP'), ('of', 'IN'), ('the', 'DT'), ('Postal', 'NNP'), ('Inspection', 'NNP'), ('are', 'VBP'), ('proud', 'JJ'), ('to', 'TO'), ('work', 'VB'), ('alongside', 'RB'), ('our', 'PRP$'), ('law', 'NN'), ('enforcement', 'NN'), ('partners', 'NNS'), ('to', 'TO'), ('dismantle', 'VB'), ('high', 'JJ'), ('level', 'NN'), ('prescription', 'NN'), ('drug', 'NN'), ('practices', 'NNS'), ('which', 'WDT'), ('directly', 'RB'), ('contribute', 'VBP'), ('to', 'TO'), ('the', 'DT'), ('opioid', 'JJ'), ('abuse', 'NN'), ('This', 'DT'), ('investigation', 'NN'), ('highlights', 'VBZ'), ('our', 'PRP$'), ('commitment', 'NN'), ('to', 'TO'), ('defending', 'VBG'), ('our', 'PRP$'), ('mail', 'NN'), ('system', 'NN'), ('from', 'IN'), ('illegal', 'JJ'), ('misuse', 'NN'), ('and', 'CC'), ('ensuring', 'VBG'), ('public', 'JJ'), ('trust', 'NN'), ('in', 'IN'), ('the', 'DT'), ('Department', 'NNP'), ('of', 'IN'), ('Veterans', 'NNP'), ('Office', 'NNP'), ('of', 'IN'), ('Inspector', 'NNP'), ('General', 'NNP'), ('will', 'MD'), ('continue', 'VB'), ('to', 'TO'), ('aggressively', 'RB'), ('investigate', 'VB'), ('those', 'DT'), ('that', 'WDT'), ('attempt', 'VBP'), ('to', 'TO'), ('fraudulently', 'RB'), ('impact', 'JJ'), ('programs', 'NNS'), ('designed', 'VBN'), ('to', 'TO'), ('benefit', 'VB'), ('our', 'PRP$'), ('veterans', 'NNS'), ('and', 'CC'), ('their', 'PRP$'), ('said', 'VBD'), ('Donna', 'NNP'), ('Special', 'NNP'), ('Agent', 'NNP'), ('in', 'IN'), ('Charge', 'NNP'), ('of', 'IN'), ('the', 'DT'), ('VA', 'NNP'), ('OIG', 'NNP'), ('Northeast', 'NNP'), ('Field', 'NNP'), ('charges', 'NNS'), ('of', 'IN'), ('conspiracy', 'NN'), ('to', 'TO'), ('commit', 'VB'), ('RICO', 'NNP'), ('and', 'CC'), ('conspiracy', 'NN'), ('to', 'TO'), ('commit', 'VB'), ('mail', 'NN'), ('and', 'CC'), ('wire', 'NN'), ('fraud', 'NN'), ('each', 'DT'), ('provide', 'NN'), ('for', 'IN'), ('a', 'DT'), ('sentence', 'NN'), ('of', 'IN'), ('no', 'DT'), ('greater', 'JJR'), ('than', 'IN'), ('years', 'NNS'), ('in', 'IN'), ('three', 'CD'), ('years', 'NNS'), ('of', 'IN'), ('supervised', 'JJ'), ('release', 'NN'), ('and', 'CC'), ('a', 'DT'), ('fine', 'NN'), ('of', 'IN'), ('or', 'CC'), ('twice', 'VB'), ('the', 'DT'), ('amount', 'NN'), ('of', 'IN'), ('pecuniary', 'JJ'), ('gain', 'NN'), ('or', 'CC'), ('The', 'DT'), ('charges', 'NNS'), ('of', 'IN'), ('conspiracy', 'NN'), ('to', 'TO'), ('violate', 'VB'), ('the', 'DT'), ('Law', 'NNP'), ('provide', 'NN'), ('for', 'IN'), ('a', 'DT'), ('sentence', 'NN'), ('of', 'IN'), ('no', 'DT'), ('greater', 'JJR'), ('than', 'IN'), ('five', 'CD'), ('years', 'NNS'), ('in', 'IN'), ('three', 'CD'), ('years', 'NNS'), ('of', 'IN'), ('supervised', 'JJ'), ('release', 'NN'), ('and', 'CC'), ('a', 'DT'), ('Sentences', 'NNS'), ('are', 'VBP'), ('imposed', 'VBN'), ('by', 'IN'), ('a', 'DT'), ('federal', 'JJ'), ('district', 'NN'), ('court', 'NN'), ('judge', 'NN'), ('based', 'VBN'), ('upon', 'IN'), ('the', 'DT'), ('Sentencing', 'NNP'), ('Guidelines', 'NNPS'), ('and', 'CC'), ('other', 'JJ'), ('statutory', 'JJ'), ('investigation', 'NN'), ('was', 'VBD'), ('conducted', 'VBN'), ('by', 'IN'), ('a', 'DT'), ('team', 'NN'), ('that', 'WDT'), ('included', 'VBD'), ('the', 'DT'), ('FDA', 'NNP'), ('Office', 'NNP'), ('of', 'IN'), ('Criminal', 'NNP'), ('the', 'DT'), ('Defense', 'NNP'), ('Criminal', 'NNP'), ('Investigative', 'NNP'), ('the', 'DT'), ('Drug', 'NNP'), ('Enforcement', 'NNP'), ('the', 'DT'), ('Department', 'NNP'), ('of', 'IN'), ('Employee', 'NNP'), ('Benefits', 'NNP'), ('Security', 'NNP'), ('the', 'DT'), ('Office', 'NNP'), ('of', 'IN'), ('Personnel', 'NNP'), ('the', 'DT'), ('Postal', 'NNP'), ('Inspection', 'NNP'), ('the', 'DT'), ('Postal', 'NNP'), ('Service', 'NNP'), ('Office', 'NNP'), ('of', 'IN'), ('Inspector', 'NNP'), ('and', 'CC'), ('the', 'DT'), ('Department', 'NNP'), ('of', 'IN'), ('Veterans', 'NNP'), ('The', 'DT'), ('Office', 'NNP'), ('would', 'MD'), ('like', 'VB'), ('to', 'TO'), ('acknowledge', 'VB'), ('the', 'DT'), ('cooperation', 'NN'), ('and', 'CC'), ('assistance', 'NN'), ('of', 'IN'), ('the', 'DT'), ('Offices', 'NNPS'), ('around', 'IN'), ('the', 'DT'), ('country', 'NN'), ('engaged', 'VBD'), ('in', 'IN'), ('parallel', 'JJ'), ('including', 'VBG'), ('the', 'DT'), ('District', 'NNP'), ('of', 'IN'), ('Eastern', 'NNP'), ('District', 'NNP'), ('of', 'IN'), ('Southern', 'NNP'), ('District', 'NNP'), ('of', 'IN'), ('Southern', 'NNP'), ('District', 'NNP'), ('of', 'IN'), ('New', 'NNP'), ('District', 'NNP'), ('of', 'IN'), ('Rhode', 'NNP'), ('and', 'CC'), ('the', 'DT'), ('District', 'NNP'), ('of', 'IN'), ('New', 'NNP'), ('The', 'DT'), ('efforts', 'NNS'), ('of', 'IN'), ('the', 'DT'), ('Central', 'NNP'), ('District', 'NNP'), ('of', 'IN'), ('California', 'NNP'), ('and', 'CC'), ('the', 'DT'), ('Justice', 'NNP'), ('Civil', 'NNP'), ('Fraud', 'NNP'), ('Section', 'NNP'), ('of', 'IN'), ('the', 'DT'), ('Department', 'NNP'), ('of', 'IN'), ('Justice', 'NNP'), ('are', 'VBP'), ('also', 'RB'), ('greatly', 'RB'), ('Assistant', 'NNP'), ('Attorneys', 'NNP'), ('Nathaniel', 'NNP'), ('Chief', 'NNP'), ('of', 'IN'), ('Health', 'NNP'), ('Care', 'NNP'), ('Fraud', 'NNP'), ('and', 'CC'), ('Susan', 'NNP'), ('of', 'IN'), ('Civil', 'NNP'), ('are', 'VBP'), ('prosecuting', 'VBG'), ('the', 'DT'), ('details', 'NNS'), ('contained', 'VBN'), ('in', 'IN'), ('the', 'DT'), ('charging', 'NN'), ('documents', 'NNS'), ('are', 'VBP'), ('The', 'DT'), ('defendants', 'NNS'), ('are', 'VBP'), ('presumed', 'VBN'), ('innocent', 'JJ'), ('unless', 'IN'), ('and', 'CC'), ('until', 'IN'), ('proven', 'RB'), ('guilty', 'JJ'), ('beyond', 'IN'), ('a', 'DT'), ('reasonable', 'JJ'), ('object', 'NN')]\n"
     ]
    }
   ],
   "source": [
    "\n",
    "tokens = word_tokenize(pro_pharma)\n",
    "tokens_pos = pos_tag(tokens)\n",
    "print(tokens_pos)\n"
   ]
  },
  {
   "cell_type": "code",
   "execution_count": 6,
   "metadata": {},
   "outputs": [
    {
     "name": "stdout",
     "output_type": "stream",
     "text": [
      "          Word  Count\n",
      "9       former      8\n",
      "0   nationwide      4\n",
      "8        other      3\n",
      "28   addictive      3\n",
      "25      opioid      3\n"
     ]
    }
   ],
   "source": [
    "\n",
    "all_adjectives = [token[0] for token in tokens_pos if token[1] == \"JJ\" or \n",
    "                  token[1] == \"JJR\" or token[1] == \"JJS\"]\n",
    "\n",
    "from collections import Counter\n",
    "\n",
    "word_counts = Counter(all_adjectives)\n",
    "word_counts_df = pd.DataFrame(list(word_counts.items()), \n",
    "                              columns = [\"Word\", \"Count\"])\n",
    "word_counts_df = word_counts_df.sort_values(by = \"Count\", ascending = False)\n",
    "word_counts_5 = word_counts_df.head(n = 5)\n",
    "print(word_counts_5)"
   ]
  },
  {
   "cell_type": "markdown",
   "metadata": {},
   "source": [
    "## 1.2 named entity recognition (4 points)"
   ]
  },
  {
   "cell_type": "markdown",
   "metadata": {},
   "source": [
    "A. Using the original `pharma` press release (so the one before stripping punctuation/digits), use spaCy to extract all named entities from the press release.\n",
    "\n",
    "B. Print the unique named entities with the tag: `LAW`"
   ]
  },
  {
   "cell_type": "code",
   "execution_count": 7,
   "metadata": {},
   "outputs": [],
   "source": [
    "\n",
    "spacy_pharma = nlp(pharma) "
   ]
  },
  {
   "cell_type": "code",
   "execution_count": 8,
   "metadata": {},
   "outputs": [
    {
     "name": "stdout",
     "output_type": "stream",
     "text": [
      "Entity: RICO; NER tag: LAW\n",
      "Entity: the Controlled Substances Act; NER tag: LAW\n",
      "Entity: RICO; NER tag: LAW\n"
     ]
    }
   ],
   "source": [
    "\n",
    "for token in spacy_pharma.ents:\n",
    "    if token.label_ == \"LAW\":\n",
    "        print(\"Entity: \" + token.text + \"; NER tag: \" + token.label_)\n",
    "        "
   ]
  },
  {
   "cell_type": "markdown",
   "metadata": {},
   "source": [
    "C. Use Google to summarize in one sentence what the `RICO` named entity means and why this might apply to a pharmaceutical kickbacks case (and not just a mafia case...) "
   ]
  },
  {
   "cell_type": "code",
   "execution_count": 9,
   "metadata": {},
   "outputs": [
    {
     "name": "stdout",
     "output_type": "stream",
     "text": [
      "The Racketeer Influenced and Corrupt Organizations Act \n",
      "    was enacted in 1970 to strengthen legal tools for investigators in cases \n",
      "    involving organized crime, and after reading about \n",
      "    a pharmaceutical case involving RICO, it's because these companies are \n",
      "    functioning basically as organized crime, offering bribes \n",
      "    to have doctors perscribe their drug and disguising payments as speaking events.\n"
     ]
    }
   ],
   "source": [
    "\n",
    "print(\"\"\"The Racketeer Influenced and Corrupt Organizations Act \n",
    "    was enacted in 1970 to strengthen legal tools for investigators in cases \n",
    "    involving organized crime, and after reading about \n",
    "    a pharmaceutical case involving RICO, it's because these companies are \n",
    "    functioning basically as organized crime, offering bribes \n",
    "    to have doctors perscribe their drug and disguising payments as speaking events.\"\"\")\n",
    "      "
   ]
  },
  {
   "cell_type": "markdown",
   "metadata": {},
   "source": [
    "D. You want to extract the possible sentence lengths the CEO is facing; pull out the named entities with (1) the label `DATE` and (2) that contain the word year or years (hint: you may want to use the `re` module for that second part). Print these named entities."
   ]
  },
  {
   "cell_type": "code",
   "execution_count": 10,
   "metadata": {},
   "outputs": [
    {
     "name": "stdout",
     "output_type": "stream",
     "text": [
      "last year\n",
      "20 years\n",
      "three years\n",
      "five years\n",
      "three years\n"
     ]
    }
   ],
   "source": [
    "\n",
    "for token in spacy_pharma.ents:\n",
    "    if (token.label_ == \"DATE\"): \n",
    "        if (re.search(r\"year(?:s)?\", token.text)):\n",
    "            print(token.text)\n",
    "            \n",
    "        "
   ]
  },
  {
   "cell_type": "markdown",
   "metadata": {},
   "source": [
    "E. Pull and print the original parts of the press releases where those year lengths are mentioned (e.g., the sentences or rough region of the press release). Describe in your own words (1 sentence) what length of sentence (prison) and probation (supervised release) the CEO may be facing if convicted after this indictment (if there are multiple lengths mentioned describe the maximum). \n",
    "\n",
    "**Hint**: you may want to use re.search or re.findall \n",
    "\n",
    "- For part E, you can use `re.search` and `re.findall`, or anything that works 😳."
   ]
  },
  {
   "cell_type": "code",
   "execution_count": 11,
   "metadata": {},
   "outputs": [
    {
     "name": "stdout",
     "output_type": "stream",
     "text": [
      "More than 20,000 Americans died of synthetic opioid overdoses last year\n",
      "The charges of conspiracy to commit RICO and conspiracy to commit mail and wire fraud each provide for a sentence of no greater than 20 years in prison, three years of supervised release and a fine\n",
      "The charges of conspiracy to violate the Anti-Kickback Law provide for a sentence of no greater than five years in prison, three years of supervised release and a\n",
      "The CEO may be facing up to 20 years of imprisonment and 3 years \n",
      "    of supervised release if convicted.\n"
     ]
    }
   ],
   "source": [
    "\n",
    "pattern = r\"[A-Z][^.]*\\b(?:year|years)\\b(?:\\s+\\w+){0,6}\"\n",
    "matches = re.finditer(pattern, pharma)\n",
    "\n",
    "for match in matches:\n",
    "    print(match.group().strip())\n",
    "    \n",
    "## Describe in your own words (1 sentence) what length of sentence (prison) \n",
    "## and probation (supervised release) the CEO may be facing if convicted after this indictment\n",
    "print(\"\"\"The CEO may be facing up to 20 years of imprisonment and 3 years \n",
    "    of supervised release if convicted.\"\"\")\n",
    "    "
   ]
  },
  {
   "cell_type": "markdown",
   "metadata": {},
   "source": [
    "## 1.3 sentiment analysis  (10 points)\n",
    "\n",
    "A. Subset the press releases to those labeled with one of three topics via `topics_clean`: Civil Rights, Hate Crimes, and Project Safe Childhood. We'll call this `doj_subset` going forward and it should have 717 rows.\n",
    "\n"
   ]
  },
  {
   "cell_type": "code",
   "execution_count": 12,
   "metadata": {},
   "outputs": [
    {
     "data": {
      "text/plain": [
       "(717, 6)"
      ]
     },
     "execution_count": 12,
     "metadata": {},
     "output_type": "execute_result"
    }
   ],
   "source": [
    "\n",
    "topics_list = [\"Civil Rights\",\"Hate Crimes\",\"Project Safe Childhood\"]\n",
    "doj_subset = doj[doj[\"topics_clean\"].isin(topics_list)]\n",
    "doj_subset.shape"
   ]
  },
  {
   "cell_type": "markdown",
   "metadata": {},
   "source": [
    "B. Write a function that takes one press release string as an input and:\n",
    "\n",
    "- Removes named entities from each press release string (**Hint**: you may want to use `re.sub` with an or condition)\n",
    "- Scores the sentiment of the entire press release using the `SentimentIntensityAnalyzer` and `polarity_scores`\n",
    "- Returns the length-four (negative, positive, neutral, compound) sentiment dictionary (any order is fine)\n",
    "\n",
    "Apply that function to each of the press releases in `doj_subset`. \n",
    "\n",
    "**Hints**: \n",
    "\n",
    "- A function + list comprehension to execute will takes about 30 seconds on a respectable local machine and about 2 mins on jhub; if it's taking a very long time, you may want to check your code for inefficiencies. If you can't fix those, for partial credit on this part/full credit on remainder, you can take a small random sample of the 717\n"
   ]
  },
  {
   "cell_type": "code",
   "execution_count": 13,
   "metadata": {},
   "outputs": [],
   "source": [
    "\n",
    "def func(string):\n",
    "  # To get list of named entities\n",
    "  spacy_string = nlp(string)\n",
    "  ne_list = [one_tok.text for one_tok in spacy_string.ents]\n",
    "\n",
    "  # To remove named entities\n",
    "  ne_string = \"(\"\n",
    "  for i in ne_list:\n",
    "    ne_string += re.escape(i) + \"|\"\n",
    "  ne_string += \")\"\n",
    "  string_cleaned = re.sub(r\"({ne})\".format(ne = ne_string), \"\", string)\n",
    "\n",
    "  # Sentiment analysis\n",
    "  sent_obj = SentimentIntensityAnalyzer()\n",
    "  sentiment = sent_obj.polarity_scores(string_cleaned)\n",
    "\n",
    "  return sentiment\n",
    "\n",
    "text_scores = [func(release) for release in doj_subset[\"contents\"]]\n",
    "    \n"
   ]
  },
  {
   "cell_type": "code",
   "execution_count": null,
   "metadata": {},
   "outputs": [],
   "source": [
    "\n"
   ]
  },
  {
   "cell_type": "code",
   "execution_count": null,
   "metadata": {},
   "outputs": [],
   "source": []
  },
  {
   "cell_type": "markdown",
   "metadata": {},
   "source": [
    "C. Add the four sentiment scores to the `doj_subset` dataframe to create a dataframe: `doj_subset_wscore`. Sort from highest neg to lowest neg score and print the top `id`, `contents`, and `neg` columns of the two most neg press releases. \n",
    "\n",
    "Notes:\n",
    "\n",
    "- Don't worry if your sentiment score differs slightly from our output on GitHub; differences in preprocessing can lead to diff scores"
   ]
  },
  {
   "cell_type": "code",
   "execution_count": null,
   "metadata": {},
   "outputs": [],
   "source": [
    "\n",
    "doj_subset['sentiment_scores'] = doj_subset['contents'].apply(function)"
   ]
  },
  {
   "cell_type": "code",
   "execution_count": 16,
   "metadata": {},
   "outputs": [
    {
     "data": {
      "text/html": [
       "<div>\n",
       "<style scoped>\n",
       "    .dataframe tbody tr th:only-of-type {\n",
       "        vertical-align: middle;\n",
       "    }\n",
       "\n",
       "    .dataframe tbody tr th {\n",
       "        vertical-align: top;\n",
       "    }\n",
       "\n",
       "    .dataframe thead th {\n",
       "        text-align: right;\n",
       "    }\n",
       "</style>\n",
       "<table border=\"1\" class=\"dataframe\">\n",
       "  <thead>\n",
       "    <tr style=\"text-align: right;\">\n",
       "      <th></th>\n",
       "      <th>id</th>\n",
       "      <th>contents</th>\n",
       "      <th>neg</th>\n",
       "    </tr>\n",
       "  </thead>\n",
       "  <tbody>\n",
       "    <tr>\n",
       "      <th>329</th>\n",
       "      <td>14-248</td>\n",
       "      <td>The Department of Justice announced that this morning John W. Ng, 58, of Albuquerque, N.M., made his initial appearance in federal court on a criminal complaint charging him with a hate crime offense.  This charge is related to anti-Semitic threats Ng made against a Jewish woman who owns and operates the Nosh Jewish Delicatessen and Bakery in Albuquerque. Ng was arrested by the FBI on March 7, 2014, based on a criminal complaint alleging that he interfered with the victim’s federally protected rights by threatening her and interfering with her business because of her religion.  According to the criminal complaint, between Jan. 22, 2014, and Feb. 8, 2014, Ng allegedly posted threatening anti-Semitic notes on and in the vicinity of the victim’s business. A criminal complaint merely establishes probable cause, and Ng is presumed innocent unless proven guilty.  If convicted on the offense charged in the criminal complaint, Ng faces a maximum statutory penalty of one year in prison. This matter was investigated by the Albuquerque Division of the FBI and is being prosecuted by Assistant U.S. Attorney Mark T. Baker of the U.S. Attorney’s Office for the District of New Mexico and Trial Attorney AeJean Cha of the U.S. Department of Justice’s Civil Rights Division.</td>\n",
       "      <td>0.334</td>\n",
       "    </tr>\n",
       "    <tr>\n",
       "      <th>572</th>\n",
       "      <td>13-312</td>\n",
       "      <td>John Hall, 27, an Aryan Brotherhood member and inmate at the Federal Correctional Institution (FCI) in Seagoville, Texas, was sentenced today by U.S. District Judge Reed O’Connor after pleading guilty to violating the Matthew Shepard and James Byrd Jr. Hate Crimes Prevention Act stemming from his assault of a fellow inmate, whom he believed to be gay, the Department of Justice announced. Hall assaulted his fellow inmate with a dangerous weapon, causing bodily injury to the victim on Dec. 20, 2011. Hall was sentenced to serve 71 months in prison to be served consecutively with the sentence he is currently serving. The assault occurred on Dec. 20, 2011, inside the FCI Seagoville when Hall targeted and attacked the victim, a fellow inmate, because he believed the victim was gay or involved in a sexual relationship with another male inmate. Hall repeatedly punched, kicked and stomped on the victim’s face with his shod feet, a dangerous weapon, while yelling a homophobic slur. The victim lost consciousness during the assault and suffered multiple lacerations to his face. The victim also sustained a fractured eye socket, lost a tooth, fractured other teeth and was treated at a hospital for the injuries he sustained during Hall’s unprovoked attack. Hall pleaded guilty to violating the Matthew Shepard and James Byrd Jr. Hate Crimes Prevention Act on Nov. 8, 2012. “Brutality and violence based on sexual orientation has no place in a civilized society,” said Thomas E. Perez, Assistant Attorney General for the Civil Rights Division. “The Justice Department is committed to using all the tools in our law enforcement arsenal, including the Matthew Shepard and James Byrd Jr. Hate Crimes Prevention Act, to prosecute acts motivated by hate.” “This prosecution sends a clear message that this office, in partnership with attorneys in the department’s Civil Rights Division, will prioritize and aggressively prosecute hate crimes and others civil rights violations in North Texas,” said U.S. Attorney Sarah R. Saldaña of the Northern District of Texas. This case was investigated by the FBI Dallas Division. The case was prosecuted by Assistant U.S. Attorney Errin Martin and Trial Attorney Adriana Vieco of the Civil Rights Division.</td>\n",
       "      <td>0.301</td>\n",
       "    </tr>\n",
       "  </tbody>\n",
       "</table>\n",
       "</div>"
      ],
      "text/plain": [
       "         id  \\\n",
       "329  14-248   \n",
       "572  13-312   \n",
       "\n",
       "                                                                                                                                                                                                                                                                                                                                                                                                                                                                                                                                                                                                                                                                                                                                                                                                                                                                                                                                                                                                                                                                                                                                                                                                                                                                                                                                                                                                                                                                                                                                                                                                                                                                                                                                                                                                                                                                                                                                                                                                                                                                                                                                                                                                                                                                                                                                  contents  \\\n",
       "329                                                                                                                                                                                                                                                                                                                                                                                                                                                                                                                                                                                                                                                                                                                                                                                                                                                                                                                                                                                                            The Department of Justice announced that this morning John W. Ng, 58, of Albuquerque, N.M., made his initial appearance in federal court on a criminal complaint charging him with a hate crime offense.  This charge is related to anti-Semitic threats Ng made against a Jewish woman who owns and operates the Nosh Jewish Delicatessen and Bakery in Albuquerque. Ng was arrested by the FBI on March 7, 2014, based on a criminal complaint alleging that he interfered with the victim’s federally protected rights by threatening her and interfering with her business because of her religion.  According to the criminal complaint, between Jan. 22, 2014, and Feb. 8, 2014, Ng allegedly posted threatening anti-Semitic notes on and in the vicinity of the victim’s business. A criminal complaint merely establishes probable cause, and Ng is presumed innocent unless proven guilty.  If convicted on the offense charged in the criminal complaint, Ng faces a maximum statutory penalty of one year in prison. This matter was investigated by the Albuquerque Division of the FBI and is being prosecuted by Assistant U.S. Attorney Mark T. Baker of the U.S. Attorney’s Office for the District of New Mexico and Trial Attorney AeJean Cha of the U.S. Department of Justice’s Civil Rights Division.   \n",
       "572  John Hall, 27, an Aryan Brotherhood member and inmate at the Federal Correctional Institution (FCI) in Seagoville, Texas, was sentenced today by U.S. District Judge Reed O’Connor after pleading guilty to violating the Matthew Shepard and James Byrd Jr. Hate Crimes Prevention Act stemming from his assault of a fellow inmate, whom he believed to be gay, the Department of Justice announced. Hall assaulted his fellow inmate with a dangerous weapon, causing bodily injury to the victim on Dec. 20, 2011. Hall was sentenced to serve 71 months in prison to be served consecutively with the sentence he is currently serving. The assault occurred on Dec. 20, 2011, inside the FCI Seagoville when Hall targeted and attacked the victim, a fellow inmate, because he believed the victim was gay or involved in a sexual relationship with another male inmate. Hall repeatedly punched, kicked and stomped on the victim’s face with his shod feet, a dangerous weapon, while yelling a homophobic slur. The victim lost consciousness during the assault and suffered multiple lacerations to his face. The victim also sustained a fractured eye socket, lost a tooth, fractured other teeth and was treated at a hospital for the injuries he sustained during Hall’s unprovoked attack. Hall pleaded guilty to violating the Matthew Shepard and James Byrd Jr. Hate Crimes Prevention Act on Nov. 8, 2012. “Brutality and violence based on sexual orientation has no place in a civilized society,” said Thomas E. Perez, Assistant Attorney General for the Civil Rights Division. “The Justice Department is committed to using all the tools in our law enforcement arsenal, including the Matthew Shepard and James Byrd Jr. Hate Crimes Prevention Act, to prosecute acts motivated by hate.” “This prosecution sends a clear message that this office, in partnership with attorneys in the department’s Civil Rights Division, will prioritize and aggressively prosecute hate crimes and others civil rights violations in North Texas,” said U.S. Attorney Sarah R. Saldaña of the Northern District of Texas. This case was investigated by the FBI Dallas Division. The case was prosecuted by Assistant U.S. Attorney Errin Martin and Trial Attorney Adriana Vieco of the Civil Rights Division.   \n",
       "\n",
       "       neg  \n",
       "329  0.334  \n",
       "572  0.301  "
      ]
     },
     "execution_count": 16,
     "metadata": {},
     "output_type": "execute_result"
    }
   ],
   "source": [
    "\n",
    "doj_subset_wscore = doj_subset.copy()\n",
    "doj_subset_wscore['pos'] = \"\"\n",
    "doj_subset_wscore['neg'] = \"\"\n",
    "doj_subset_wscore['neu'] = \"\"\n",
    "doj_subset_wscore['compound'] = \"\"\n",
    "\n",
    "for i in range(len(text_scores)):\n",
    "  doj_subset_wscore[\"pos\"].iloc[i] = text_scores[i]['pos']\n",
    "  doj_subset_wscore[\"neg\"].iloc[i] = text_scores[i]['neg']\n",
    "  doj_subset_wscore[\"neu\"].iloc[i] = text_scores[i]['neu']\n",
    "  doj_subset_wscore[\"compound\"].iloc[i] = text_scores[i]['compound']\n",
    "\n",
    "doj_subset_wscore[[\"id\", \"contents\", \"neg\"]].sort_values('neg', ascending = False).head(2)"
   ]
  },
  {
   "cell_type": "markdown",
   "metadata": {},
   "source": [
    "D. With the dataframe from part C, find the mean compound sentiment score for each of the three topics in `topics_clean` using group_by and agg.\n",
    "\n",
    "E. Add a 1 sentence interpretation of why we might see the variation in scores (remember that compound is a standardized summary where -1 is most negative; +1 is most positive)\n"
   ]
  },
  {
   "cell_type": "code",
   "execution_count": 17,
   "metadata": {},
   "outputs": [
    {
     "data": {
      "text/html": [
       "<div>\n",
       "<style scoped>\n",
       "    .dataframe tbody tr th:only-of-type {\n",
       "        vertical-align: middle;\n",
       "    }\n",
       "\n",
       "    .dataframe tbody tr th {\n",
       "        vertical-align: top;\n",
       "    }\n",
       "\n",
       "    .dataframe thead th {\n",
       "        text-align: right;\n",
       "    }\n",
       "</style>\n",
       "<table border=\"1\" class=\"dataframe\">\n",
       "  <thead>\n",
       "    <tr style=\"text-align: right;\">\n",
       "      <th></th>\n",
       "      <th>compound</th>\n",
       "    </tr>\n",
       "    <tr>\n",
       "      <th>topics_clean</th>\n",
       "      <th></th>\n",
       "    </tr>\n",
       "  </thead>\n",
       "  <tbody>\n",
       "    <tr>\n",
       "      <th>Civil Rights</th>\n",
       "      <td>-0.094465</td>\n",
       "    </tr>\n",
       "    <tr>\n",
       "      <th>Hate Crimes</th>\n",
       "      <td>-0.935971</td>\n",
       "    </tr>\n",
       "    <tr>\n",
       "      <th>Project Safe Childhood</th>\n",
       "      <td>-0.660416</td>\n",
       "    </tr>\n",
       "  </tbody>\n",
       "</table>\n",
       "</div>"
      ],
      "text/plain": [
       "                        compound\n",
       "topics_clean                    \n",
       "Civil Rights           -0.094465\n",
       "Hate Crimes            -0.935971\n",
       "Project Safe Childhood -0.660416"
      ]
     },
     "execution_count": 17,
     "metadata": {},
     "output_type": "execute_result"
    }
   ],
   "source": [
    "doj_subset_wscore_agg = doj_subset_wscore.groupby(\"topics_clean\").agg({\"compound\":\"mean\"})\n",
    "doj_subset_wscore_agg\n",
    "\n"
   ]
  },
  {
   "cell_type": "code",
   "execution_count": 18,
   "metadata": {},
   "outputs": [
    {
     "name": "stdout",
     "output_type": "stream",
     "text": [
      "The variation of these results reflects that the DOJ writes more negatively\n",
      "    about hate crimes than the other two chosen topics, \n",
      "    which could be explained by the \n",
      "    inherent negativity of hate crimes\n"
     ]
    }
   ],
   "source": [
    "## Add a 1 sentence interpretation of why we might see the variation in scores \n",
    "print(\"\"\"The variation of these results reflects that the DOJ writes more negatively\n",
    "    about hate crimes than the other two chosen topics, \n",
    "    which could be explained by the \n",
    "    inherent negativity of hate crimes\"\"\")\n"
   ]
  },
  {
   "cell_type": "markdown",
   "metadata": {},
   "source": [
    "# 2. Topic modeling (25 points)\n",
    "\n",
    "For this question, use the `doj_subset_wscores` data that is restricted to civil rights, hate crimes, and project safe childhood and with the sentiment scores added\n"
   ]
  },
  {
   "cell_type": "markdown",
   "metadata": {},
   "source": [
    "## 2.1 Preprocess the data by removing stopwords, punctuation, and non-alpha words (5 points)\n",
    "\n",
    "A. Write a function that:\n",
    "\n",
    "- Takes in a single raw string in the `contents` column from that dataframe\n",
    "- Does the following preprocessing steps:\n",
    "\n",
    "    - Converts the words to lowercase\n",
    "    - Removes stopwords, adding the custom stopwords in your code cell below to the default stopwords list\n",
    "    - Only retains alpha words (so removes digits and punctuation)\n",
    "    - Only retains words 4 characters or longer\n",
    "    - Uses the snowball stemmer from nltk to stem\n",
    "\n",
    "- Returns a joined preprocessed string\n",
    "    \n",
    "B. Use `apply` or list comprehension to execute that function and create a new column in the data called `processed_text`\n",
    "    \n",
    "C. Print the `id`, `contents`, and `processed_text` columns for the following press releases:\n",
    "\n",
    "id = 16-718 (this case: https://www.seattletimes.com/nation-world/doj-miami-police-reach-settlement-in-civil-rights-case/)\n",
    "\n",
    "id = 16-217 (this case: https://www.wlbt.com/story/32275512/three-mississippi-correctional-officers-indicted-for-inmate-assault-and-cover-up/)\n",
    "    \n",
    "**Resources**:\n",
    "\n",
    "- Here's code examples for the snowball stemmer: https://www.geeksforgeeks.org/snowball-stemmer-nlp/"
   ]
  },
  {
   "cell_type": "code",
   "execution_count": 19,
   "metadata": {},
   "outputs": [],
   "source": [
    "custom_doj_stopwords = [\"civil\", \"rights\", \"division\", \"department\", \"justice\",\n",
    "                        \"office\", \"attorney\", \"district\", \"case\", \"investigation\", \"assistant\",\n",
    "                       \"trial\", \"assistance\", \"assist\"]"
   ]
  },
  {
   "cell_type": "code",
   "execution_count": 20,
   "metadata": {},
   "outputs": [],
   "source": [
    "\n",
    "def preprocess(text):\n",
    "    text = text.lower()\n",
    "    \n",
    "    custom_doj_stopwords = [\"civil\", \"rights\", \"division\", \"department\", \"justice\",\n",
    "                        \"office\", \"attorney\", \"district\", \"case\", \"investigation\", \"assistant\",\n",
    "                       \"trial\", \"assistance\", \"assist\"]\n",
    "    stop_words = set(stopwords.words('english') + custom_doj_stopwords)\n",
    "    \n",
    "\n",
    "    tokens = nltk.word_tokenize(text)\n",
    "\n",
    "    tokens = [word for word in tokens if word.isalpha() and word not in stop_words and len(word) >= 4]\n",
    "    \n",
    "    stemmer = SnowballStemmer('english')\n",
    "    \n",
    "    stemmed = [stemmer.stem(word) for word in tokens]\n",
    "    \n",
    "    return ' '.join(stemmed)\n",
    "    "
   ]
  },
  {
   "cell_type": "code",
   "execution_count": 21,
   "metadata": {},
   "outputs": [],
   "source": [
    "\n",
    "doj_subset[\"processed_text\"] = doj_subset[\"contents\"].apply(preprocess)\n",
    "doj_subset_wscore[\"processed_text\"] = doj_subset_wscore[\"contents\"].apply(preprocess) \n",
    "    "
   ]
  },
  {
   "cell_type": "code",
   "execution_count": 22,
   "metadata": {},
   "outputs": [
    {
     "name": "stdout",
     "output_type": "stream",
     "text": [
      "           id  \\\n",
      "6727   16-217   \n",
      "11593  16-718   \n",
      "\n",
      "                                                                                                                                                                                                                                                                                                                                                                                                                                                                                                                                                                                                                                                                                                                                                                                                                                                                                                                                                                                                                                                                                                                                                                                                                                                                                                                                                                                                                                                                                                                                                                                                                                                                                                                                                                                                                                                                                                                                                                                                                                                                                                                                                                                                                                                                                                                                                                                                                                                                                                                                                                                                                                                                                                                                                                                                                                                                                                                         contents  \\\n",
      "6727   The Justice Department has reached a comprehensive settlement agreement with the city of Miami and the Miami Police Department (MPD) resolving the Justice Department’s investigation of officer-involved shootings by MPD officers, announced Principal Deputy Assistant Attorney General Vanita Gupta, head of the Justice Department’s Civil Rights Division and U.S. Attorney Wifredo A. Ferrer of the Southern District of Florida. The settlement, which was approved by Miami’s city commission today and will go into effect when the agreement is signed by all parties, resolves claims stemming from the Justice Department’s investigation into officer-involved shootings by MPD officers, which was conducted under the Violent Crime Control and Law Enforcement Act of 1994.  The investigation’s findings, issued in July 2013, identified a pattern or practice of excessive use of force through officer-involved shootings in violation of the Fourth Amendment of the Constitution.  The city’s compliance with the settlement will be monitored by an independent reviewer, former Tampa, Florida, Police Chief Jane Castor.  Under the settlement agreement, the city will implement comprehensive reforms to ensure constitutional policing and support public trust.  The settlement agreement is designed to minimize officer-involved shootings and to more effectively and quickly investigate officer-involved shootings that do occur, through measures that include: “This settlement represents a renewed commitment by the city of Miami and Chief Rodolfo Llanes to provide constitutional policing for Miami residents and to protect public safety through sustainable reform,” said Principal Deputy Assistant Attorney General Gupta.  “The agreement will help to strengthen the relationship between the MPD and the communities they serve by improving accountability for officers who fire their weapons unlawfully, and provides for community participation in the enforcement of this agreement.”  “Today's agreement is the result of a joint effort between the Department of Justice and the City of Miami to ensure that the Miami Police Department continues its efforts to make our community safe while protecting the sacred Constitutional rights of all of our citizens,” said U.S. Attorney Ferrer.  “Through oversight and communication, the agreement seeks to make permanent the positive changes that former Chief Orosa and Chief Llanes have made, and we applaud the City Commission’s vote.” The settlement agreement builds upon important reforms implemented by the city since the Justice Department issued its findings, including:  The investigation was conducted by attorneys and staff from the Civil Rights Division’s Special Litigation Section and the Civil Division of the U. S. Attorney’s Office of the Southern District of Florida.   \n",
      "11593                                                                                                                                                                                                                                                                                                                                                                                                                                                                                                                                                                                                                                                                                                                                                                                                                                                                                                                                                                                                                                                                                                                            In a nine-count indictment unsealed today, two Mississippi correctional officers were charged with beating an inmate and a third was charged with helping to cover it up.  The indictment charged Lawardrick Marsher, 28, and Robert Sturdivant, 47, officers at Mississippi State Penitentiary, in Parchman, Mississippi, with a beating that included kicking, punching and throwing the victim to the ground.  Marsher and Sturdivant were charged with violating the right of K.H., a convicted prisoner, to be free from cruel and unusual punishment.  Sturdivant was also charged with failing to intervene while Marsher was punching and beating K.H.  The indictment alleges that their actions involved the use of a dangerous weapon and resulted in bodily injury to the victim. A third officer, Deonte Pate, 23, was charged along with Marsher and Sturdivant for conspiring to cover up the beating.  The indictment alleges that all three officers submitted false reports and that all three lied to the FBI. If convicted, Marsher and Sturdivant face a maximum sentence of 10 years in prison on the excessive force charges.  Each of the three officers faces up to five years in prison on the conspiracy and false statement charges, and up to 20 years in prison on the false report charges. An indictment is merely an accusation, and the defendants are presumed innocent unless and until proven guilty. This case is being investigated by the FBI’s Jackson Division, with the cooperation of the Mississippi Department of Corrections.  It is being prosecuted by Assistant U.S. Attorney Robert Coleman of the Northern District of Mississippi and Trial Attorney Dana Mulhauser of the Civil Rights Division’s Criminal Section.     Marsher Indictment   \n",
      "\n",
      "                                                                                                                                                                                                                                                                                                                                                                                                                                                                                                                                                                                                                                                                                                                                                                                                                                                                                                                                                                                                                                                                                                                                                                                                                                                                                                                                                                                                            processed_text  \n",
      "6727   reach comprehens settlement agreement citi miami miami polic resolv shoot offic announc princip deputi general vanita gupta head wifredo ferrer southern florida settlement approv miami citi commiss today effect agreement sign parti resolv claim stem shoot offic conduct violent crime control enforc find issu juli identifi pattern practic excess forc shoot violat fourth amend constitut citi complianc settlement monitor independ review former tampa florida polic chief jane castor settlement agreement citi implement comprehens reform ensur constitut polic support public trust settlement agreement design minim shoot effect quick investig shoot occur measur includ settlement repres renew commit citi miami chief rodolfo llane provid constitut polic miami resid protect public safeti sustain reform said princip deputi general gupta agreement help strengthen relationship communiti serv improv account offic fire weapon unlaw provid communiti particip enforc today agreement result joint effort citi miami ensur miami polic continu effort make communiti safe protect sacr constitut citizen said ferrer oversight communic agreement seek make perman posit chang former chief orosa chief llane made applaud citi commiss settlement agreement build upon import reform implement citi sinc issu find includ conduct attorney staff special litig section southern florida  \n",
      "11593                                                                                                                                                                                                                                                                                                                                                                                                                                                                   indict unseal today mississippi correct offic charg beat inmat third charg help cover indict charg lawardrick marsher robert sturdiv offic mississippi state penitentiari parchman mississippi beat includ kick punch throw victim ground marsher sturdiv charg violat right convict prison free cruel unusu punish sturdiv also charg fail interven marsher punch beat indict alleg action involv danger weapon result bodili injuri victim third offic deont pate charg along marsher sturdiv conspir cover beat indict alleg three offic submit fals report three lie convict marsher sturdiv face maximum sentenc year prison excess forc charg three offic face five year prison conspiraci fals statement charg year prison fals report charg indict mere accus defend presum innoc unless proven guilti investig jackson cooper mississippi correct prosecut robert coleman northern mississippi dana mulhaus crimin section marsher indict  \n"
     ]
    }
   ],
   "source": [
    "\n",
    "specific_ids = ['16-718', '16-217']\n",
    "filtered_data = doj_subset_wscore[doj_subset_wscore['id'].isin(specific_ids)]\n",
    "\n",
    "print(filtered_data[['id', 'contents', 'processed_text']])"
   ]
  },
  {
   "cell_type": "markdown",
   "metadata": {},
   "source": [
    "## 2.2 Create a document-term matrix from the preprocessed press releases and to explore top words (5 points)\n",
    "\n",
    "A. Use the `create_dtm` function I provide (alternately, feel free to write your own!) and create a document-term matrix using the preprocessed press releases; make sure metadata contains the following columns: `id`, `compound` sentiment column you added, and the `topics_clean` column\n",
    "\n",
    "B. Print the top 10 words for press releases with compound sentiment in the top 5% (so the most positive sentiment)\n",
    "\n",
    "C. Print the top 10 words for press releases with compound sentiment in the bottom 5% (so the most negative sentiment)\n",
    "\n",
    "**Hint**: for these, remember the pandas quantile function from pset one.  \n",
    "\n",
    "D. Print the top 10 words for press releases in each of the three `topics_clean`\n",
    "\n",
    "For steps B - D, to receive full credit, write a function `get_topwords` that helps you avoid duplicated code when you find top words for the different subsets of the data. There are different ways to structure it but one way is to feed it subsetted data (so data subsetted to one topic etc.) and for it to get the top words for that subset.\n"
   ]
  },
  {
   "cell_type": "code",
   "execution_count": 23,
   "metadata": {},
   "outputs": [],
   "source": [
    "def create_dtm(list_of_strings, metadata):\n",
    "    vectorizer = CountVectorizer(lowercase = True)\n",
    "    dtm_sparse = vectorizer.fit_transform(list_of_strings)\n",
    "    dtm_dense_named = pd.DataFrame(dtm_sparse.todense(), \n",
    "        columns=vectorizer.get_feature_names_out())\n",
    "    dtm_dense_named_withid = pd.concat([metadata.reset_index(), dtm_dense_named], axis = 1)\n",
    "    return(dtm_dense_named_withid)"
   ]
  },
  {
   "cell_type": "code",
   "execution_count": 24,
   "metadata": {},
   "outputs": [
    {
     "name": "stdout",
     "output_type": "stream",
     "text": [
      "   index       id compound            topics_clean  aaron  abandon  abbat  \\\n",
      "0     77  17-1235  -0.9931            Civil Rights      0        0      0   \n",
      "1    155  15-1522  -0.9325  Project Safe Childhood      0        0      0   \n",
      "2    157   16-213  -0.7579  Project Safe Childhood      0        0      0   \n",
      "3    162   16-381  -0.9037  Project Safe Childhood      0        0      0   \n",
      "4    168   14-464  -0.9864             Hate Crimes      0        0      0   \n",
      "\n",
      "   abbi  abbott  abdomen  ...  zamora  zane  zealand  zealous  zeeman  zero  \\\n",
      "0     0       0        0  ...       0     0        0        0       0     0   \n",
      "1     0       0        0  ...       0     0        0        0       0     0   \n",
      "2     0       0        0  ...       0     0        0        0       0     0   \n",
      "3     0       0        0  ...       0     0        0        0       0     0   \n",
      "4     0       0        0  ...       0     0        0        0       0     0   \n",
      "\n",
      "   zobel  zone  zunggeemog  zwengel  \n",
      "0      0     0           0        0  \n",
      "1      0     0           0        0  \n",
      "2      0     0           0        0  \n",
      "3      0     0           0        0  \n",
      "4      0     0           0        0  \n",
      "\n",
      "[5 rows x 6760 columns]\n",
      "Top 10 words for press releases with top 5% compound sentiment:\n",
      "agreement     173\n",
      "enforc        117\n",
      "state         116\n",
      "ensur         110\n",
      "disabl        102\n",
      "servic         87\n",
      "settlement     87\n",
      "student        86\n",
      "court          85\n",
      "communiti      85\n",
      "dtype: int64\n",
      "\n",
      "Top 10 words for press releases with bottom 5% compound sentiment:\n",
      "assault     179\n",
      "victim      164\n",
      "crime       160\n",
      "offic       155\n",
      "hate        123\n",
      "defend      119\n",
      "sentenc     104\n",
      "feder        92\n",
      "prosecut     91\n",
      "charg        90\n",
      "dtype: int64\n",
      "\n",
      "Top 10 words for press releases in topic 'Civil Rights':\n",
      "offic        627\n",
      "hous         620\n",
      "discrimin    541\n",
      "enforc       531\n",
      "disabl       509\n",
      "said         497\n",
      "feder        475\n",
      "violat       470\n",
      "state        443\n",
      "general      408\n",
      "dtype: int64\n",
      "\n",
      "Top 10 words for press releases in topic 'Project Safe Childhood':\n",
      "child          1018\n",
      "exploit         698\n",
      "sexual          570\n",
      "safe            476\n",
      "project         472\n",
      "childhood       472\n",
      "pornographi     447\n",
      "children        416\n",
      "crimin          404\n",
      "prosecut        374\n",
      "dtype: int64\n",
      "\n",
      "Top 10 words for press releases in topic 'Hate Crimes':\n",
      "victim      590\n",
      "crime       533\n",
      "prosecut    476\n",
      "hate        472\n",
      "defend      459\n",
      "sentenc     455\n",
      "charg       452\n",
      "guilti      430\n",
      "feder       426\n",
      "said        424\n",
      "dtype: int64\n"
     ]
    }
   ],
   "source": [
    "\n",
    "matrix = create_dtm(list_of_strings = doj_subset_wscore[\"processed_text\"], \n",
    "                    metadata = doj_subset_wscore[[\"id\", \"compound\", \"topics_clean\"]])\n",
    "print(matrix.head())\n",
    "\n",
    "\n",
    "import re\n",
    "from collections import Counter\n",
    "\n",
    "def get_top_words(data, column, n=10):\n",
    "\n",
    "    word_counts = Counter()\n",
    "    for text in data[column]:\n",
    "        words = re.findall(r'\\b\\w+\\b', text.lower())  # Tokenize text\n",
    "        word_counts.update(words)\n",
    " \n",
    "    tf = pd.Series(word_counts).sort_values(ascending=False)\n",
    "    \n",
    "    return tf.head(n)\n",
    "\n",
    "top_5_percent = doj_subset_wscore['compound'].quantile(0.95)\n",
    "top_5_percent_data = doj_subset_wscore[doj_subset_wscore['compound'] >= top_5_percent]\n",
    "print(\"Top 10 words for press releases with top 5% compound sentiment:\")\n",
    "print(get_top_words(top_5_percent_data, 'processed_text'))\n",
    "\n",
    "bottom_5_percent = doj_subset_wscore['compound'].quantile(0.05)\n",
    "bottom_5_percent_data = doj_subset_wscore[doj_subset_wscore['compound'] <= bottom_5_percent]\n",
    "print(\"\\nTop 10 words for press releases with bottom 5% compound sentiment:\")\n",
    "print(get_top_words(bottom_5_percent_data, 'processed_text'))\n",
    "\n",
    "for topic in doj_subset_wscore['topics_clean'].unique():\n",
    "    topic_data = doj_subset_wscore[doj_subset_wscore['topics_clean'] == topic]\n",
    "    print(f\"\\nTop 10 words for press releases in topic '{topic}':\")\n",
    "    print(get_top_words(topic_data, 'processed_text'))\n",
    "    "
   ]
  },
  {
   "cell_type": "markdown",
   "metadata": {},
   "source": [
    "## 2.3 Estimate a topic model using those preprocessed words (5 points)\n",
    "\n",
    "A. Going back to the preprocessed words from part 2.3.1, estimate a topic model with 3 topics, since you want to see if the unsupervised topic models recover different themes for each of the three manually-labeled areas (civil rights; hate crimes; project safe childhood). You have free rein over the other topic model parameters beyond the number of topics.\n",
    "\n",
    "B. After estimating the topic model, print the top 15 words in each topic.\n",
    "\n",
    "**Hints and Resources**:\n",
    "\n",
    "- Same topic modeling resources linked to above\n",
    "- Make sure to use the `random_state` argument within the model so that the numbering of topics does not move around between runs of your code"
   ]
  },
  {
   "cell_type": "code",
   "execution_count": 25,
   "metadata": {},
   "outputs": [
    {
     "name": "stdout",
     "output_type": "stream",
     "text": [
      "Filtering out very rare and very common words reduced the length of dictionary from 6756 to 603.\n",
      "Topic 1: child exploit sexual safe project childhood crimin pornographi prosecut children sentenc victim investig feder ceo\n",
      "Topic 2: offic enforc feder polic violat state said general agreement counti disabl court deputi today forc\n",
      "Topic 3: hous victim said crime defend feder discrimin prosecut hate today charg guilti sentenc alleg general\n"
     ]
    }
   ],
   "source": [
    "\n",
    "text_raw_tokens = [wordpunct_tokenize(one_text) for one_text in \n",
    "                  doj_subset_wscore[\"processed_text\"]]\n",
    "\n",
    "text_raw_dict = corpora.Dictionary(text_raw_tokens)\n",
    "raw_len = len(text_raw_dict)\n",
    "\n",
    "lower_bound = round(doj_subset_wscore.shape[0]*0.05)\n",
    "upper_bound = round(doj_subset_wscore.shape[0]*0.95)\n",
    "\n",
    "text_raw_dict.filter_extremes(no_below = lower_bound,\n",
    "                             no_above = upper_bound)\n",
    "print(f'Filtering out very rare and very common words reduced the \\\n",
    "length of dictionary from {str(raw_len)} to {str(len(text_raw_dict))}.')\n",
    "\n",
    "corpus_fromdict = [text_raw_dict.doc2bow(one_text) \n",
    "                   for one_text in text_raw_tokens]\n",
    "\n",
    "\n",
    "ldamod = gensim.models.ldamodel.LdaModel(corpus_fromdict, \n",
    "                                         num_topics = 3, random_state = 42, \n",
    "                                         id2word=text_raw_dict, \n",
    "                                         passes=6, \n",
    "                                         alpha = 'auto',\n",
    "                                         per_word_topics = True)\n",
    "\n",
    "num_words = 15\n",
    "for topic_id in range(ldamod.num_topics):\n",
    "    top_words = ldamod.show_topic(topic_id, topn=num_words)\n",
    "    words = [word for word, _ in top_words]\n",
    "    print(f\"Topic {topic_id + 1}: {' '.join(words)}\")\n"
   ]
  },
  {
   "cell_type": "markdown",
   "metadata": {},
   "source": [
    "## 2.4 Add topics back to main data and explore correlation between manual labels and our estimated topics (10 points)\n",
    "\n",
    "A. Extract the document-level topic probabilities. Within `get_document_topics`, use the argument `minimum_probability` = 0 to make sure all 3 topic probabilities are returned. Write an assert statement to make sure the length of the list is equal to the number of rows in the `doj_subset_wscores` dataframe\n",
    "\n",
    "B. Add the topic probabilities to the `doj_subset_wscores` dataframe as columns and create a column, `top_topic`, that reflects each document to its highest-probability topic (eg topic 1, 2, or 3)\n",
    "\n",
    "C. For each of the manual labels in `topics_clean` (Hate Crime, Civil Rights, Project Safe Childhood), print the breakdown of the % of documents with each top topic (so, for instance, Hate Crime has 246 documents-- if 123 of those documents are coded to topic_1, that would be 50%; and so on). **Hint**: pd.crosstab and normalize may be helpful: https://pandas.pydata.org/pandas-docs/version/0.23/generated/pandas.crosstab.html\n",
    "\n",
    "D. Using a couple press releases as examples, write a 1-2 sentence interpretation of why some of the manual topics map on more cleanly to an estimated topic than other manual topic(s)\n"
   ]
  },
  {
   "cell_type": "code",
   "execution_count": 26,
   "metadata": {},
   "outputs": [
    {
     "name": "stdout",
     "output_type": "stream",
     "text": [
      "(0, '0.034*\"child\" + 0.023*\"exploit\" + 0.019*\"sexual\" + 0.015*\"safe\" + 0.015*\"project\" + 0.015*\"childhood\" + 0.015*\"crimin\" + 0.015*\"pornographi\" + 0.014*\"prosecut\" + 0.014*\"children\"')\n",
      "(1, '0.021*\"offic\" + 0.013*\"enforc\" + 0.012*\"feder\" + 0.011*\"polic\" + 0.011*\"violat\" + 0.011*\"state\" + 0.010*\"said\" + 0.010*\"general\" + 0.009*\"agreement\" + 0.009*\"counti\"')\n",
      "(2, '0.015*\"hous\" + 0.013*\"victim\" + 0.013*\"said\" + 0.011*\"crime\" + 0.011*\"defend\" + 0.011*\"feder\" + 0.010*\"discrimin\" + 0.010*\"prosecut\" + 0.010*\"hate\" + 0.010*\"today\"')\n"
     ]
    }
   ],
   "source": [
    "topics = ldamod.print_topics(num_words = 10)\n",
    "for topic in topics:\n",
    "    print(topic)\n",
    "l=[ldamod.get_document_topics(item) for item in corpus_fromdict]\n",
    "\n",
    "document_topics = [ldamod.get_document_topics(get_document_topics, minimum_probability=0) for get_document_topics in corpus_fromdict]\n",
    "\n",
    "assert len(document_topics) == len(doj_subset_wscore), \"Length mismatch between document topics and dataframe rows\""
   ]
  },
  {
   "cell_type": "code",
   "execution_count": 27,
   "metadata": {},
   "outputs": [
    {
     "name": "stdout",
     "output_type": "stream",
     "text": [
      "          id  \\\n",
      "77   17-1235   \n",
      "155  15-1522   \n",
      "157   16-213   \n",
      "162   16-381   \n",
      "168   14-464   \n",
      "..       ...   \n",
      "712      NaN   \n",
      "713      NaN   \n",
      "714      NaN   \n",
      "715      NaN   \n",
      "716      NaN   \n",
      "\n",
      "                                                                                                                        title  \\\n",
      "77   Additional Former Correctional Officer Pleads Guilty to Beating of Handcuffed and Shackled Inmate at Angola State Prison   \n",
      "155                                                            Alabama Man Found Guilty of Aggravated Sexual Abuse of a Child   \n",
      "157                                                        Alabama Man Indicted on Child Pornography and Sex Tourism Charges    \n",
      "162                                           Alabama Man Indicted for Producing Child Pornography Involving Multiple Victims   \n",
      "168                                Alabama Man Indicted for Threatening African-American Man and Another Person at Restaurant   \n",
      "..                                                                                                                        ...   \n",
      "712                                                                                                                       NaN   \n",
      "713                                                                                                                       NaN   \n",
      "714                                                                                                                       NaN   \n",
      "715                                                                                                                       NaN   \n",
      "716                                                                                                                       NaN   \n",
      "\n",
      "                                                                                                                                                                                                                                                                                                                                                                                                                                                                                                                                                                                                                                                                                                                                                                                                                                                                                                                                                                                                                                                                                                                                                                                                                                                                                                                                                                                                                                                                                                                                                                                                                                                                                                                                                                                                                                                                                                                                                                                                                                                                                                                                                                                                                                                                                                                                                                                                                                                                                                                                      contents  \\\n",
      "77                                                                                                                                                                                                                                                                                                                                                                                                                                A former supervisory correctional officer at Louisiana State Penitentiary in Angola, Louisiana, pleaded guilty yesterday in connection with the beating of a handcuffed and shackled inmate, in addition to conspiring to cover up their misconduct by falsifying official records and lying to internal investigators about what happened.     James Savoy, 39, of Marksville, Louisiana, admitted during his plea hearing that he witnessed other officers using excessive force against the inmate and failed to intervene; that he conspired with other officers to cover up the beating by engaging in a variety of obstructive acts; and that he personally falsified official prison records to cover up the attack.   Scotty Kennedy, 48, of Beebe, Arkansas, and John Sanders, 30, of Marksville, Louisiana previously pleaded guilty in November 2016, and September 2017, for their roles in the beating and cover up.   “Every citizen has the right to due process and protection from unreasonable force, and correctional officers who violate these basic Constitutional rights must be held accountable for their egregious actions” said Acting Assistant Attorney General John Gore of the Civil Rights Division.  “The Justice Department will continue to vigorously prosecute correctional officers who violate the public’s trust by committing crimes and to covering up violations of federal criminal law.”   “Yesterday is another example of our office’s unwavering commitment to pursuing those who violate the federal criminal civil rights laws,” said Acting United States Attorney for the Middle District of Louisiana Corey Amundson. “We will continue to work closely with the Justice Department’s Civil Rights Division and the FBI to ensure that no one is above the law.”     This case is being investigated by the FBI’s Baton Rouge Resident Agency and is being prosecuted by Assistant U.S. Attorney Frederick A. Menner, Jr. of the Middle District of Louisiana and Trial Attorney Christopher J. Perras of the Civil Rights Division’s Criminal Section.   \n",
      "155                                                                                                                                                                                                                                                                                                                                                                                                                                                                                                                                                                                                                                                                                                                                                                                                                                                                                 A federal jury convicted Rick Lee Evans, 43, of Anniston, Alabama, today of aggravated sexual abuse of a child after a five-day trial, Assistant Attorney General Leslie R. Caldwell of the Justice Department’s Criminal Division and U.S. Attorney Joyce White Vance of the Northern District of Alabama announced.  According to evidence introduced at trial, Evans, a former U.S. Army soldier, and his then-wife, a Department of Defense employee, were residing in Germany when they were asked to take temporary custody of a five-year-old child whose parents were deployed to Iraq with the U.S. Army.  Evans sexually abused the child on multiple occasions during the 18 months that the child lived with him from May 2007 to December 2008.  Trial Attorney Austin M. Berry of the Criminal Division’s Child Exploitation and Obscenity Section (CEOS) and Assistant U.S. Attorney Jacquelyn Hutzell of the Northern District of Alabama are prosecuting the case.  U.S. Army Criminal Investigations Division and the FBI’s Birmingham, Alabama, Division investigated the case. This case was brought as part of Project Safe Childhood, a nationwide initiative to combat the growing epidemic of child sexual exploitation and abuse, launched in May 2006 by the Department of Justice.  Led by U.S. Attorneys’ offices and CEOS, Project Safe Childhood marshals federal, state and local resources to better locate, apprehend and prosecute individuals who exploit children via the Internet, as well as to identify and rescue victims.  For more information about Project Safe Childhood, please visit www.justice.gov/psc.     \n",
      "157  An Alabama native was indicted today and charged with multiple crimes involving travel with intent to engage in illicit sexual conduct with minors and child pornography, announced Assistant Attorney General Leslie R. Caldwell of the Justice Department’s Criminal Division and U.S. Attorney Kenyen R. Brown of the Southern District of Alabama. Clarence Edward Evers Jr., aka Bud, a technology teacher employed by the Conecuh County, Alabama, Board of Education, was arrested on Feb. 11, 2016, and was charged today with five counts of travel with intent to engage in illicit sexual conduct with a minor, one count of attempted travel with intent to engage in illicit sexual conduct with a minor, one count of production and attempted production of child pornography, one count of transportation of child pornography, one count of receipt of child pornography, one count of access with intent to view child pornography and one count of possession of child pornography. According to the indictment, Evers allegedly traveled to Thailand in the summers of 2010 through 2014 for the purpose of engaging in illicit sexual conduct with a minor and allegedly attempted to make a similar trip in the spring of 2015.  During the 2014 trip, Evers also allegedly photographed his victims’ abuse and then transported the images back to the United States.  In addition, Evers allegedly had other images of child sexual exploitation on his computers and other electronic devices. The charges contained in the indictment are only allegations.  Evers is presumed innocent unless and until he is proven guilty beyond a reasonable doubt in a court of law. ICE-HSI is investigating this case.  Trial Attorney James E. Burke IV of the Criminal Division’s Child Exploitation and Obscenity Section (CEOS) and Assistant U.S. Attorneys Sean P. Costello and Maria E. Murphy of the Southern District of Alabama are prosecuting the case. This case was brought as part of Project Safe Childhood, a nationwide initiative to combat the growing epidemic of child sexual exploitation and abuse launched in May 2006 by the Department of Justice.  Led by U.S. Attorneys’ Offices and CEOS, Project Safe Childhood marshals federal, state and local resources to better locate, apprehend and prosecute individuals who exploit children via the Internet, as well as to identify and rescue victims.  For more information about Project Safe Childhood, please visit www.justice.gov/psc.   \n",
      "162                                                                                                                                                                                                                                                                                                                                                                                                An Alabama man was indicted today by a federal grand jury in Birmingham, Alabama, on charges related to the production of child pornography involving four minor victims, announced Assistant Attorney General Leslie R. Caldwell of the Justice Department’s Criminal Division and U.S. Joyce White Vance of the Northern District of Alabama. Gregory Jerome Lee, 53, formerly of Cullman County, Alabama, was indicted on four counts of production of child pornography, one count of conspiracy to advertise child pornography and one count of conspiracy to distribute and receive child pornography. According to the indictment, from September 1996 through December 2004, Lee used, persuaded, coerced and enticed minors to engage in sexually explicit conduct in order to produce images of that conduct.  Between September 1996 and August 2007, Lee conspired with other individuals to distribute and receive child pornography through a variety of means, including the Internet. The U.S. Postal Inspection Service (USPIS) is investigating the case.  Trial Attorney Amy E. Larson of the Criminal Division’s Child Exploitation and Obscenity Section (CEOS) and Assistant U.S. Attorney Jacquelyn Hutzell of the Northern District of Alabama are prosecuting the case.  The charges and allegations contained in an indictment are merely accusations.  The defendant is presumed innocent unless and until proven guilty.  Members of the public who may have information related to this matter should call the USPIS Birmingham Office at (205) 326-2909. This case was brought as part of Project Safe Childhood, a nationwide initiative to combat the growing epidemic of child sexual exploitation and abuse launched in May 2006 by the Department of Justice.  Led by U.S. Attorneys’ Offices and CEOS, Project Safe Childhood marshals federal, state and local resources to better locate, apprehend and prosecute individuals who exploit children via the Internet, as well as to identify and rescue victims.  For more information about Project Safe Childhood, please visit www.justice.gov/psc.   \n",
      "168                                                                                                                                                                                                                                                                                                                                                                                                                                                                                                                                                                              Jeremy Heath Higgins was indicted for threatening an African-American man at a Quinton, Alabama, restaurant, and for threatening another person who ordered Higgins to leave the restaurant due to his behavior, Acting Assistant Attorney General Jocelyn Samuels for the Justice Department’s Civil Rights Division and U.S. Attorney Joyce Vance for the Northern District of Alabama announced today.   Higgins, 28, was charged in a three count indictment returned yesterday by a federal grand jury in the U.S. District Court for the Northern District of Alabama.  The indictment charges him with one felony count and two misdemeanor counts of interference with a federally-protected activity.  The indictment alleges that on June 14, 2013, Higgins approached and threatened an African-American man at the Alabama Rose Steakhouse because the man was present at the restaurant with a white woman.  According to the indictment, another person ordered Higgins to leave the premises of the restaurant because of Higgins’ behavior toward the African-American man, after which Higgins allegedly shouted a threat to burn down the restaurant.  The indictment further alleges that Higgins threatened the person who had ordered him to leave the restaurant by painting graffiti on the restaurant’s exterior and fence.     If convicted of the felony count of the indictment, Higgins could face a maximum sentence of 10 years in prison and a $250,000 fine.  For each of the misdemeanor charges, Higgins could face a maximum sentence of one year in prison and a $200,000 fine.   This case is being investigated by the FBI and is being prosecuted by Assistant U.S. Attorney Robin B. Mark of the Northern District of Alabama and Trial Attorney David Reese of the Justice Department’s Civil Rights Division. An indictment is merely an accusation, and the defendant is presumed innocent unless proven guilty.     \n",
      "..                                                                                                                                                                                                                                                                                                                                                                                                                                                                                                                                                                                                                                                                                                                                                                                                                                                                                                                                                                                                                                                                                                                                                                                                                                                                                                                                                                                                                                                                                                                                                                                                                                                                                                                                                                                                                                                                                                                                                                                                                                                                                                                                                                                                                                                                                                                                                                                                                                                                                                                                         ...   \n",
      "712                                                                                                                                                                                                                                                                                                                                                                                                                                                                                                                                                                                                                                                                                                                                                                                                                                                                                                                                                                                                                                                                                                                                                                                                                                                                                                                                                                                                                                                                                                                                                                                                                                                                                                                                                                                                                                                                                                                                                                                                                                                                                                                                                                                                                                                                                                                                                                                                                                                                                                                                        NaN   \n",
      "713                                                                                                                                                                                                                                                                                                                                                                                                                                                                                                                                                                                                                                                                                                                                                                                                                                                                                                                                                                                                                                                                                                                                                                                                                                                                                                                                                                                                                                                                                                                                                                                                                                                                                                                                                                                                                                                                                                                                                                                                                                                                                                                                                                                                                                                                                                                                                                                                                                                                                                                                        NaN   \n",
      "714                                                                                                                                                                                                                                                                                                                                                                                                                                                                                                                                                                                                                                                                                                                                                                                                                                                                                                                                                                                                                                                                                                                                                                                                                                                                                                                                                                                                                                                                                                                                                                                                                                                                                                                                                                                                                                                                                                                                                                                                                                                                                                                                                                                                                                                                                                                                                                                                                                                                                                                                        NaN   \n",
      "715                                                                                                                                                                                                                                                                                                                                                                                                                                                                                                                                                                                                                                                                                                                                                                                                                                                                                                                                                                                                                                                                                                                                                                                                                                                                                                                                                                                                                                                                                                                                                                                                                                                                                                                                                                                                                                                                                                                                                                                                                                                                                                                                                                                                                                                                                                                                                                                                                                                                                                                                        NaN   \n",
      "716                                                                                                                                                                                                                                                                                                                                                                                                                                                                                                                                                                                                                                                                                                                                                                                                                                                                                                                                                                                                                                                                                                                                                                                                                                                                                                                                                                                                                                                                                                                                                                                                                                                                                                                                                                                                                                                                                                                                                                                                                                                                                                                                                                                                                                                                                                                                                                                                                                                                                                                                        NaN   \n",
      "\n",
      "                          date            topics_clean  \\\n",
      "77   2017-11-02T00:00:00-04:00            Civil Rights   \n",
      "155  2015-12-11T00:00:00-05:00  Project Safe Childhood   \n",
      "157  2016-02-24T00:00:00-05:00  Project Safe Childhood   \n",
      "162  2016-03-30T00:00:00-04:00  Project Safe Childhood   \n",
      "168  2014-05-01T00:00:00-04:00             Hate Crimes   \n",
      "..                         ...                     ...   \n",
      "712                        NaN                     NaN   \n",
      "713                        NaN                     NaN   \n",
      "714                        NaN                     NaN   \n",
      "715                        NaN                     NaN   \n",
      "716                        NaN                     NaN   \n",
      "\n",
      "                                                                                     components_clean  \\\n",
      "77                                                    Civil Rights Division; USAO - Louisiana, Middle   \n",
      "155  Criminal Division; Criminal - Child Exploitation and Obscenity Section; USAO - Alabama, Northern   \n",
      "157  Criminal Division; Criminal - Child Exploitation and Obscenity Section; USAO - Alabama, Southern   \n",
      "162  Criminal Division; Criminal - Child Exploitation and Obscenity Section; USAO - Alabama, Northern   \n",
      "168                                            Civil Rights Division; Civil Rights - Criminal Section   \n",
      "..                                                                                                ...   \n",
      "712                                                                                               NaN   \n",
      "713                                                                                               NaN   \n",
      "714                                                                                               NaN   \n",
      "715                                                                                               NaN   \n",
      "716                                                                                               NaN   \n",
      "\n",
      "       pos    neg    neu compound  \\\n",
      "77   0.049    0.2  0.751  -0.9931   \n",
      "155  0.069  0.134  0.797  -0.9325   \n",
      "157  0.076  0.092  0.832  -0.7579   \n",
      "162  0.085  0.127  0.788  -0.9037   \n",
      "168  0.044  0.179  0.777  -0.9864   \n",
      "..     ...    ...    ...      ...   \n",
      "712    NaN    NaN    NaN      NaN   \n",
      "713    NaN    NaN    NaN      NaN   \n",
      "714    NaN    NaN    NaN      NaN   \n",
      "715    NaN    NaN    NaN      NaN   \n",
      "716    NaN    NaN    NaN      NaN   \n",
      "\n",
      "                                                                                                                                                                                                                                                                                                                                                                                                                                                                                                                                                                                                                                                                                                                                                                                                                                                                                                                                                                                                                                                                                                                                                                                                                                                                                                                                                                                                                                          processed_text  \\\n",
      "77                                                                                                                                                                                                                                                                                                                                                                                                   former supervisori correct offic louisiana state penitentiari angola louisiana plead guilti yesterday connect beat handcuf shackl inmat addit conspir cover misconduct falsifi offici record lie intern investig happen jame savoy marksvill louisiana admit plea hear wit offic use excess forc inmat fail interven conspir offic cover beat engag varieti obstruct act person falsifi offici prison record cover attack scotti kennedi beeb arkansa john sander marksvill louisiana previous plead guilti novemb septemb role beat cover everi citizen right process protect unreason forc correct offic violat basic constitut must held account egregi action said act general john gore continu vigor prosecut correct offic violat public trust commit crime cover violat feder crimin yesterday anoth exampl unwav commit pursu violat feder crimin law said act unit state middl louisiana corey amundson continu work close ensur investig baton roug resid agenc prosecut frederick menner middl louisiana christoph perra crimin section   \n",
      "155                                                                                                                                                                                                                                                                                                                                                                                                                                                                                                                                                                                                               feder juri convict rick evan anniston alabama today aggrav sexual abus child general lesli caldwel crimin joyc white vanc northern alabama announc accord evid introduc evan former armi soldier defens employe resid germani ask take temporari custodi child whose parent deploy iraq armi evan sexual abus child multipl occas month child live decemb austin berri crimin child exploit obscen section ceo jacquelyn hutzel northern alabama prosecut armi crimin investig birmingham alabama investig brought part project safe childhood nationwid initi combat grow epidem child sexual exploit abus launch attorney offic ceo project safe childhood marshal feder state local resourc better locat apprehend prosecut individu exploit children internet well identifi rescu victim inform project safe childhood pleas visit   \n",
      "157  alabama nativ indict today charg multipl crime involv travel intent engag illicit sexual conduct minor child pornographi announc general lesli caldwel crimin kenyen brown southern alabama clarenc edward ever technolog teacher employ conecuh counti alabama board educ arrest charg today five count travel intent engag illicit sexual conduct minor count attempt travel intent engag illicit sexual conduct minor count product attempt product child pornographi count transport child pornographi count receipt child pornographi count access intent view child pornographi count possess child pornographi accord indict ever alleg travel thailand summer purpos engag illicit sexual conduct minor alleg attempt make similar trip spring trip ever also alleg photograph victim abus transport imag back unit state addit ever alleg imag child sexual exploit comput electron devic charg contain indict alleg ever presum innoc unless proven guilti beyond reason doubt court investig jame burk crimin child exploit obscen section ceo attorney sean costello maria murphi southern alabama prosecut brought part project safe childhood nationwid initi combat grow epidem child sexual exploit abus launch attorney offic ceo project safe childhood marshal feder state local resourc better locat apprehend prosecut individu exploit children internet well identifi rescu victim inform project safe childhood pleas visit   \n",
      "162                                                                                                                                                                                                                                             alabama indict today feder grand juri birmingham alabama charg relat product child pornographi involv four minor victim announc general lesli caldwel crimin joyc white vanc northern alabama gregori jerom former cullman counti alabama indict four count product child pornographi count conspiraci advertis child pornographi count conspiraci distribut receiv child pornographi accord indict septemb decemb use persuad coerc entic minor engag sexual explicit conduct order produc imag conduct septemb august conspir individu distribut receiv child pornographi varieti mean includ internet postal inspect servic uspi investig larson crimin child exploit obscen section ceo jacquelyn hutzel northern alabama prosecut charg alleg contain indict mere accus defend presum innoc unless proven guilti member public inform relat matter call uspi birmingham brought part project safe childhood nationwid initi combat grow epidem child sexual exploit abus launch attorney offic ceo project safe childhood marshal feder state local resourc better locat apprehend prosecut individu exploit children internet well identifi rescu victim inform project safe childhood pleas visit   \n",
      "168                                                                                                                                                                                                                                                                                                                                                                                                                                                                                                             jeremi heath higgin indict threaten quinton alabama restaur threaten anoth person order higgin leav restaur behavior act general jocelyn samuel joyc vanc northern alabama announc today higgin charg three count indict return yesterday feder grand juri court northern alabama indict charg feloni count misdemeanor count interfer activ indict alleg june higgin approach threaten alabama rose steakhous present restaur white woman accord indict anoth person order higgin leav premis restaur higgin behavior toward higgin alleg shout threat burn restaur indict alleg higgin threaten person order leav restaur paint graffiti restaur exterior fenc convict feloni count indict higgin could face maximum sentenc year prison fine misdemeanor charg higgin could face maximum sentenc year prison fine investig prosecut robin mark northern alabama david rees indict mere accus defend presum innoc unless proven guilti   \n",
      "..                                                                                                                                                                                                                                                                                                                                                                                                                                                                                                                                                                                                                                                                                                                                                                                                                                                                                                                                                                                                                                                                                                                                                                                                                                                                                                                                                                                                                                                   ...   \n",
      "712                                                                                                                                                                                                                                                                                                                                                                                                                                                                                                                                                                                                                                                                                                                                                                                                                                                                                                                                                                                                                                                                                                                                                                                                                                                                                                                                                                                                                                                  NaN   \n",
      "713                                                                                                                                                                                                                                                                                                                                                                                                                                                                                                                                                                                                                                                                                                                                                                                                                                                                                                                                                                                                                                                                                                                                                                                                                                                                                                                                                                                                                                                  NaN   \n",
      "714                                                                                                                                                                                                                                                                                                                                                                                                                                                                                                                                                                                                                                                                                                                                                                                                                                                                                                                                                                                                                                                                                                                                                                                                                                                                                                                                                                                                                                                  NaN   \n",
      "715                                                                                                                                                                                                                                                                                                                                                                                                                                                                                                                                                                                                                                                                                                                                                                                                                                                                                                                                                                                                                                                                                                                                                                                                                                                                                                                                                                                                                                                  NaN   \n",
      "716                                                                                                                                                                                                                                                                                                                                                                                                                                                                                                                                                                                                                                                                                                                                                                                                                                                                                                                                                                                                                                                                                                                                                                                                                                                                                                                                                                                                                                                  NaN   \n",
      "\n",
      "            0         1         2 top_topic  \n",
      "77   0.998240  0.000715  0.001044         0  \n",
      "155  0.038009  0.960620  0.001370         1  \n",
      "157  0.000613  0.998432  0.000955         1  \n",
      "162  0.000537  0.079440  0.920023         2  \n",
      "168  0.000864  0.997791  0.001346         1  \n",
      "..        ...       ...       ...       ...  \n",
      "712  0.000975  0.001037  0.997988         2  \n",
      "713  0.998426  0.000640  0.000934         0  \n",
      "714  0.998239  0.000715  0.001046         0  \n",
      "715  0.109090  0.299748  0.591162         2  \n",
      "716  0.000567  0.000604  0.998829         2  \n",
      "\n",
      "[1398 rows x 15 columns]\n"
     ]
    }
   ],
   "source": [
    "def get_topic_probabilities(lda_model, corpus):\n",
    "    topic_probs = []\n",
    "    for doc in corpus:\n",
    "        topic_prob = dict(lda_model.get_document_topics(doc, minimum_probability=0.0))\n",
    "        topic_probs.append(topic_prob)\n",
    "    return topic_probs\n",
    "\n",
    "doc_topic_probs = get_topic_probabilities(ldamod, corpus_fromdict)\n",
    "\n",
    "topic_probs_df = pd.DataFrame(doc_topic_probs)\n",
    "\n",
    "doj_subset_wscores_with_topics = pd.concat([doj_subset_wscore, topic_probs_df], axis=1)\n",
    "\n",
    "doj_subset_wscores_with_topics['top_topic'] = doj_subset_wscores_with_topics.iloc[:, -ldamod.num_topics:].idxmax(axis=1)\n",
    "\n",
    "print(doj_subset_wscores_with_topics)"
   ]
  },
  {
   "cell_type": "code",
   "execution_count": 28,
   "metadata": {},
   "outputs": [
    {
     "name": "stdout",
     "output_type": "stream",
     "text": [
      "Breakdown of % of documents with each top topic for each manual label:\n",
      "top_topic                       0          1          2\n",
      "topics_clean                                           \n",
      "Civil Rights            33.333333   0.000000  66.666667\n",
      "Hate Crimes             31.818182  22.727273  45.454545\n",
      "Project Safe Childhood   9.090909  63.636364  27.272727\n"
     ]
    }
   ],
   "source": [
    "manual_labels = ['Hate Crimes', 'Civil Rights', 'Project Safe Childhood']\n",
    "filtered_df = doj_subset_wscores_with_topics[doj_subset_wscores_with_topics['topics_clean'].isin(manual_labels)]\n",
    "\n",
    "cross_tab = pd.crosstab(filtered_df['topics_clean'], filtered_df['top_topic'])\n",
    "\n",
    "normalized_cross_tab = cross_tab.div(cross_tab.sum(axis=1), axis=0) * 100\n",
    "\n",
    "print(\"Breakdown of % of documents with each top topic for each manual label:\")\n",
    "print(normalized_cross_tab)\n",
    "\n"
   ]
  },
  {
   "cell_type": "code",
   "execution_count": 29,
   "metadata": {},
   "outputs": [
    {
     "name": "stdout",
     "output_type": "stream",
     "text": [
      "Using the press releases above as examples, it is clear that the Project Safe Childhood is more cleanly estimated than civl rights and hate crimes because there is a lot more overlap in vocabularly and phrasing for hate crimes and civil rights rather than for child exploitation. Wheras hate crimes and civil rights may very well be about race/prejudiced groups, the same cannot always be said about Project Safe Childhood PRs.\n"
     ]
    }
   ],
   "source": [
    "## Using a couple press releases as examples, write a 1-2 sentence interpretation of why some of the manual topics map \n",
    "## on more cleanly to an estimated topic than other manual topic(s)\n",
    "\n",
    "print(\"Using the press releases above as examples, it is clear that the Project Safe Childhood is more cleanly estimated than civl rights and hate crimes because there is a lot more overlap in vocabularly and phrasing for hate crimes and civil rights rather than for child exploitation. Wheras hate crimes and civil rights may very well be about race/prejudiced groups, the same cannot always be said about Project Safe Childhood PRs.\")\n",
    "\n"
   ]
  },
  {
   "cell_type": "markdown",
   "metadata": {},
   "source": [
    "# 3. Extend the analysis from unigrams to bigrams (10 points)\n",
    "\n",
    "In the previous question, you found top words via a unigram representation of the text. Now, we want to see how those top words change with bigrams (pairs of words)\n",
    "\n",
    "A. Using the `doj_subset_wscore` data and the `processed_text` column (so the words after stemming/other preprocessing), create a column in the data called `processed_text_bigrams` that combines each consecutive pairs of word into a bigram separated by an underscore. Eg:\n",
    "\n",
    "\"depart reach settlem\" would become \"depart_reach reach_settlem\"\n",
    "\n",
    "Do this by writing a function `create_bigram_onedoc` that takes in a single `processed_text` string and returns a string with its bigrams structured similarly to above example\n",
    " \n",
    "**Hint**: there are many ways to solve but `zip` may be helpful: https://stackoverflow.com/questions/21303224/iterate-over-all-pairs-of-consecutive-items-in-a-list\n",
    "\n",
    "B. Print the `id`, `processed_text`, and `processed_text_bigram` columns for press release with id = 16-217"
   ]
  },
  {
   "cell_type": "code",
   "execution_count": 30,
   "metadata": {},
   "outputs": [
    {
     "name": "stdout",
     "output_type": "stream",
     "text": [
      "          id  \\\n",
      "6727  16-217   \n",
      "\n",
      "                                                                                                                                                                                                                                                                                                                                                                                                                                                                                                                                                                                                                                                                                                                                                                                                                                                                                                                                                                                                                                                                                                                                                                                                                                                                                                                                                                                                           processed_text  \\\n",
      "6727  reach comprehens settlement agreement citi miami miami polic resolv shoot offic announc princip deputi general vanita gupta head wifredo ferrer southern florida settlement approv miami citi commiss today effect agreement sign parti resolv claim stem shoot offic conduct violent crime control enforc find issu juli identifi pattern practic excess forc shoot violat fourth amend constitut citi complianc settlement monitor independ review former tampa florida polic chief jane castor settlement agreement citi implement comprehens reform ensur constitut polic support public trust settlement agreement design minim shoot effect quick investig shoot occur measur includ settlement repres renew commit citi miami chief rodolfo llane provid constitut polic miami resid protect public safeti sustain reform said princip deputi general gupta agreement help strengthen relationship communiti serv improv account offic fire weapon unlaw provid communiti particip enforc today agreement result joint effort citi miami ensur miami polic continu effort make communiti safe protect sacr constitut citizen said ferrer oversight communic agreement seek make perman posit chang former chief orosa chief llane made applaud citi commiss settlement agreement build upon import reform implement citi sinc issu find includ conduct attorney staff special litig section southern florida   \n",
      "\n",
      "                                                                                                                                                                                                                                                                                                                                                                                                                                                                                                                                                                                                                                                                                                                                                                                                                                                                                                                                                                                                                                                                                                                                                                                                                                                                                                                                                                                                                                                                                                                                                                                                                                                                                                                                                                                                                                                                                                                                                                                                                                                                                                                                                                                                                                                                                                                                                                                                                                                                                                                                                                                                                                                                                                                                                                                                         processed_text_bigrams  \n",
      "6727  reach_comprehens comprehens_settlement settlement_agreement agreement_citi citi_miami miami_miami miami_polic polic_resolv resolv_shoot shoot_offic offic_announc announc_princip princip_deputi deputi_general general_vanita vanita_gupta gupta_head head_wifredo wifredo_ferrer ferrer_southern southern_florida florida_settlement settlement_approv approv_miami miami_citi citi_commiss commiss_today today_effect effect_agreement agreement_sign sign_parti parti_resolv resolv_claim claim_stem stem_shoot shoot_offic offic_conduct conduct_violent violent_crime crime_control control_enforc enforc_find find_issu issu_juli juli_identifi identifi_pattern pattern_practic practic_excess excess_forc forc_shoot shoot_violat violat_fourth fourth_amend amend_constitut constitut_citi citi_complianc complianc_settlement settlement_monitor monitor_independ independ_review review_former former_tampa tampa_florida florida_polic polic_chief chief_jane jane_castor castor_settlement settlement_agreement agreement_citi citi_implement implement_comprehens comprehens_reform reform_ensur ensur_constitut constitut_polic polic_support support_public public_trust trust_settlement settlement_agreement agreement_design design_minim minim_shoot shoot_effect effect_quick quick_investig investig_shoot shoot_occur occur_measur measur_includ includ_settlement settlement_repres repres_renew renew_commit commit_citi citi_miami miami_chief chief_rodolfo rodolfo_llane llane_provid provid_constitut constitut_polic polic_miami miami_resid resid_protect protect_public public_safeti safeti_sustain sustain_reform reform_said said_princip princip_deputi deputi_general general_gupta gupta_agreement agreement_help help_strengthen strengthen_relationship relationship_communiti communiti_serv serv_improv improv_account account_offic offic_fire fire_weapon weapon_unlaw unlaw_provid provid_communiti communiti_particip particip_enforc enforc_today today_agreement agreement_result result_joint joint_effort effort_citi citi_miami miami_ensur ensur_miami miami_polic polic_continu continu_effort effort_make make_communiti communiti_safe safe_protect protect_sacr sacr_constitut constitut_citizen citizen_said said_ferrer ferrer_oversight oversight_communic communic_agreement agreement_seek seek_make make_perman perman_posit posit_chang chang_former former_chief chief_orosa orosa_chief chief_llane llane_made made_applaud applaud_citi citi_commiss commiss_settlement settlement_agreement agreement_build build_upon upon_import import_reform reform_implement implement_citi citi_sinc sinc_issu issu_find find_includ includ_conduct conduct_attorney attorney_staff staff_special special_litig litig_section section_southern southern_florida  \n"
     ]
    }
   ],
   "source": [
    "\n",
    "def create_bigram_onedoc(text):\n",
    "    words = text.split()\n",
    "\n",
    "    bigrams = [f\"{w1}_{w2}\" for w1, w2 in zip(words[:-1], words[1:])]\n",
    "\n",
    "    return ' '.join(bigrams)\n",
    "\n",
    "doj_subset_wscore['processed_text_bigrams'] = doj_subset_wscore['processed_text'].apply(create_bigram_onedoc)\n",
    "\n",
    "specific_press_release = doj_subset_wscore[doj_subset_wscore['id'] == '16-217']\n",
    "print(specific_press_release[['id', 'processed_text', 'processed_text_bigrams']])"
   ]
  },
  {
   "cell_type": "markdown",
   "metadata": {},
   "source": [
    "C. Use the create_dtm function and the `processed_text_bigrams` column to create a document-term matrix (`dtm_bigram`) with these bigrams. Keep the following three columns in the data: `id`, `topics_clean`, and `compound` \n",
    "\n",
    "D. Print the (1) dimensions of the `dtm` matrix from question 2.2  and (2) the dimensions of the `dtm_bigram` matrix. Comment on why the bigram matrix has more dimensions than the unigram matrix "
   ]
  },
  {
   "cell_type": "markdown",
   "metadata": {},
   "source": [
    "E. Find and print the 10 most prevelant bigrams for each of the three topics_clean using the `get_topwords` function from 2.2"
   ]
  },
  {
   "cell_type": "code",
   "execution_count": 31,
   "metadata": {},
   "outputs": [
    {
     "name": "stdout",
     "output_type": "stream",
     "text": [
      "   index       id            topics_clean compound  aaron_ford ford_memphi  \\\n",
      "0     77  17-1235            Civil Rights  -0.9931                       0   \n",
      "1    155  15-1522  Project Safe Childhood  -0.9325                       0   \n",
      "2    157   16-213  Project Safe Childhood  -0.7579                       0   \n",
      "3    162   16-381  Project Safe Childhood  -0.9037                       0   \n",
      "4    168   14-464             Hate Crimes  -0.9864                       0   \n",
      "\n",
      "   aaron_latham latham_munci  aaron_mcgrath mcgrath_websit  \\\n",
      "0                          0                             0   \n",
      "1                          0                             0   \n",
      "2                          0                             0   \n",
      "3                          0                             0   \n",
      "4                          0                             0   \n",
      "\n",
      "   aaron_parrish parrish_arrest  aaron_parrish parrish_constitut  \\\n",
      "0                             0                                0   \n",
      "1                             0                                0   \n",
      "2                             0                                0   \n",
      "3                             0                                0   \n",
      "4                             0                                0   \n",
      "\n",
      "   aaron_parrish parrish_crimin  ...  zone_restrict restrict_group  \\\n",
      "0                             0  ...                             0   \n",
      "1                             0  ...                             0   \n",
      "2                             0  ...                             0   \n",
      "3                             0  ...                             0   \n",
      "4                             0  ...                             0   \n",
      "\n",
      "   zone_restrict restrict_place  zone_student student_affect  \\\n",
      "0                             0                            0   \n",
      "1                             0                            0   \n",
      "2                             0                            0   \n",
      "3                             0                            0   \n",
      "4                             0                            0   \n",
      "\n",
      "   zone_time time_islam  zone_today today_announc  zone_varianc varianc_would  \\\n",
      "0                     0                         0                           0   \n",
      "1                     0                         0                           0   \n",
      "2                     0                         0                           0   \n",
      "3                     0                         0                           0   \n",
      "4                     0                         0                           0   \n",
      "\n",
      "   zunggeemog_noel noel_womack  zunggeemog_prompt prompt_forc  \\\n",
      "0                            0                              0   \n",
      "1                            0                              0   \n",
      "2                            0                              0   \n",
      "3                            0                              0   \n",
      "4                            0                              0   \n",
      "\n",
      "   zunggeemog_write write_report  zwengel_princeton princeton_illinoi  \n",
      "0                              0                                    0  \n",
      "1                              0                                    0  \n",
      "2                              0                                    0  \n",
      "3                              0                                    0  \n",
      "4                              0                                    0  \n",
      "\n",
      "[5 rows x 102939 columns]\n",
      "Dimensions of the unigram DTM: (717, 6760)\n",
      "Dimensions of the bigram DTM: (717, 102939)\n",
      "The bigram matrix has more dimensions than the unigram matrix primarily because bigrams capture more unique combinations of consecutive words, resulting in a higher number of columns because each column corresponds to a pair of words, and the combination of words into pairs produces a larger set of unique tokens than the set of unique single words.\n",
      "Top 10 bigrams for topic 'Civil Rights':\n",
      "fair_hous         227\n",
      "princip_deputi    221\n",
      "deputi_general    221\n",
      "vanita_gupta      202\n",
      "gupta_head        200\n",
      "general_vanita    199\n",
      "said_princip      186\n",
      "unit_state        152\n",
      "nation_origin     141\n",
      "consent_decre     127\n",
      "dtype: int64\n",
      "Top 10 bigrams for topic 'Project Safe Childhood':\n",
      "project_safe         472\n",
      "safe_childhood       472\n",
      "child_pornographi    445\n",
      "child_exploit        279\n",
      "sexual_exploit       223\n",
      "exploit_children     199\n",
      "plead_guilti         197\n",
      "exploit_obscen       175\n",
      "child_sexual         175\n",
      "obscen_section       174\n",
      "dtype: int64\n",
      "Top 10 bigrams for topic 'Hate Crimes':\n",
      "hate_crime       368\n",
      "plead_guilti     275\n",
      "year_prison      160\n",
      "special_agent    117\n",
      "thoma_perez      111\n",
      "grand_juri       101\n",
      "perez_general     95\n",
      "said_thoma        91\n",
      "unit_state        87\n",
      "act_general       85\n",
      "dtype: int64\n"
     ]
    }
   ],
   "source": [
    "\n",
    "def create_dtm_bigrams(list_of_strings, metadata):\n",
    "    vectorizer = CountVectorizer(lowercase=True, ngram_range=(2,2))\n",
    "    dtm_sparse = vectorizer.fit_transform(list_of_strings)\n",
    "    dtm_dense_named = pd.DataFrame(dtm_sparse.todense(), columns=vectorizer.get_feature_names_out())\n",
    "    dtm_dense_named_withid = pd.concat([metadata.reset_index(), dtm_dense_named], axis = 1)\n",
    "    \n",
    "    return dtm_dense_named_withid\n",
    "\n",
    "metadata_columns = doj_subset_wscore[['id', 'topics_clean', 'compound']]\n",
    "bigram_text = doj_subset_wscore['processed_text_bigrams']\n",
    "\n",
    "dtm_bigram = create_dtm_bigrams(bigram_text, metadata_columns)\n",
    "\n",
    "print(dtm_bigram.head())\n",
    "\n",
    "print(\"Dimensions of the unigram DTM:\", matrix.shape)\n",
    "print(\"Dimensions of the bigram DTM:\", dtm_bigram.shape)\n",
    "## Comment on why the bigram matrix has more dimensions than the unigram matrix\n",
    "print(\"The bigram matrix has more dimensions than the unigram matrix primarily because bigrams capture more unique combinations of consecutive words, resulting in a higher number of columns because each column corresponds to a pair of words, and the combination of words into pairs produces a larger set of unique tokens than the set of unique single words.\")\n",
    "\n",
    "\n",
    "if 'processed_text_bigrams' in doj_subset_wscore.columns:\n",
    "    topics = doj_subset_wscore['topics_clean'].unique()\n",
    "    for topic in topics:\n",
    "        topic_data = doj_subset_wscore[doj_subset_wscore['topics_clean'] == topic]\n",
    "        top_bigrams = get_top_words(topic_data, 'processed_text_bigrams', 10)\n",
    "        print(f\"Top 10 bigrams for topic '{topic}':\")\n",
    "        print(top_bigrams)\n",
    "else:\n",
    "    print(\"processed_text_bigrams column not found. Please create it first.\")"
   ]
  },
  {
   "cell_type": "markdown",
   "metadata": {},
   "source": [
    "# 4. Optional extra credit (2 points)\n",
    "\n",
    "You notice that the pharmaceutical kickbacks press release we analyzed in question 1 was for an indictment, and that in the original data, there's not a clear label for whether a press release outlines an indictment (charging someone with a crime), a conviction (convicting them after that charge either via a settlement or trial), or a sentencing (how many years of prison or supervised release a defendant is sentenced to after their conviction).\n",
    "\n",
    "You want to see if you can identify pairs of press releases where one press release is from one stage (e.g., indictment) and another is from a different stage (e.g., a sentencing).\n",
    "\n",
    "You decide that one way to approach is to find the pairwise string similarity between each of the processed press releases in `doj_subset`. There are many ways to do this, so Google for some approaches, focusing on ones that work well for entire documents rather than small strings.\n",
    "\n",
    "Find the top two pairs (so four press releases total)-- do they seem like different stages of the same crime or just press releases covering similar crimes?"
   ]
  },
  {
   "cell_type": "markdown",
   "metadata": {},
   "source": [
    "# your code here "
   ]
  },
  {
   "cell_type": "code",
   "execution_count": 32,
   "metadata": {},
   "outputs": [
    {
     "name": "stdout",
     "output_type": "stream",
     "text": [
      "Pair 1:\n",
      "Press Release 1:\n",
      "church hill maryland resid sentenc today year prison follow lifetim term supervis releas entic minor engag sexual activ attempt transfer obscen materi minor announc act general kenneth blanco crimin act benjamin greenberg southern florida robert moor plead guilti march judg daniel hurley southern florida moor employ secret assign white hous time arrest remain custodi sinc time moor sinc termin secret servic posit accord admiss made connect plea moor maintain profil social media applic provid platform exchang digit imag well voic text messag delawar state polic detect delawar child predat task forc creat profil site pose girl moor engag number onlin chat session mobil app period includ moor work number onlin chat moor undercov offic pose femal minor sexual natur sever occas moor sent pictur includ sexual explicit imag accord plea document arrest enforc discov moor communic minor florida moor admit communic sent sexual explicit imag entic minor send sexual explicit photo well moor engag type behavior girl texa anoth girl missouri moor request feder charg delawar transfer southern florida could plead guilti charg time immigr custom enforc homeland secur investig delawar child predat task forc investig austin berri crimin child exploit obscen section ceo corey steinberg southern florida prosecut delawar brought part project safe childhood nationwid initi combat grow epidem child sexual exploit abus launch attorney offic ceo project safe childhood marshal feder state local resourc better locat apprehend prosecut individu exploit children internet well identifi rescu victim inform project safe childhood pleas visit http\n",
      "\n",
      "Press Release 2:\n",
      "church hill maryland resid plead guilti today feder court count entic minor engag sexual activ count attempt transfer obscen materi minor announc act general kenneth blanco crimin wifredo ferrer southern florida robert moor plead guilti today judg daniel hurley southern florida moor employ secret assign white hous time arrest remain custodi sinc time moor sinc termin secret servic posit accord admiss made connect plea moor maintain profil social media applic provid platform exchang digit imag well voic text messag delawar state polic detect delawar child predat task forc creat profil site pose girl moor engag number onlin chat session mobil app period includ moor work number onlin chat moor undercov offic pose femal minor sexual natur sever occas moor sent pictur includ sexual explicit imag accord plea document arrest enforc discov moor communic minor florida moor admit communic sent sexual explicit imag entic minor send sexual explicit photo well moor engag type behavior girl texa anoth girl missouri moor request feder charg delawar transfer southern florida could plead guilti charg time immigr custom enforc homeland secur investig delawar child predat task forc investig austin berri crimin child exploit obscen section ceo corey steinberg southern florida prosecut brought part project safe childhood nationwid initi combat grow epidem child sexual exploit abus launch attorney offic ceo project safe childhood marshal feder state local resourc better locat apprehend prosecut individu exploit children internet well identifi rescu victim inform project safe childhood pleas visit http\n",
      "\n",
      "Similarity Score: 0.9874669146558986\n",
      "-------------------------------\n",
      "Pair 2:\n",
      "Press Release 1:\n",
      "coerc sexual explicit photo video minor distribut internet plead guilti coercion entic minor engag sexual activ act general kenneth blanco crimin act david weiss delawar made announc justin gulisano newark york charg march plead guilti judg leonard stark delawar accord admiss made connect plea agreement gulisano victim onlin victim year gulisano began request receiv sexual explicit imag video victim gulisano post sexual explicit video victim pornographi websit download post repost viewer addit pornograph websit victim refus make send addit imag video gulisano respond threaten victim occas threaten post victim imag video internet threaten share imag video victim brother threaten victim life immigr custom enforc homeland secur investig delawar child predat task forc investig lauren britsch crimin child exploit obscen section ceo graham robinson delawar prosecut brought part project safe childhood nationwid initi combat grow epidem child sexual exploit abus launch attorney offic ceo project safe childhood marshal feder state local resourc better locat apprehend prosecut individu exploit children internet well identifi rescu victim inform project safe childhood pleas visit\n",
      "\n",
      "Press Release 2:\n",
      "solicit sexual explicit photo video minor distribut internet sentenc month prison follow year supervis releas plead guilti coercion entic minor engag sexual activ act general john cronan crimin david weiss delawar made announc sentenc judg leonard stark delawar justin gulisano emma alexand gulisano newark york charg march plead guilti accord admiss made connect plea agreement gulisano victim onlin victim year gulisano began request receiv sexual explicit imag video victim gulisano post sexual explicit video victim pornographi websit download post repost viewer addit pornograph websit eventu victim refus make send addit imag video gulisano respond threaten victim occas threaten post victim imag video internet threaten share imag video victim brother threaten victim life immigr custom enforc homeland secur investig delawar child predat task forc investig lauren britsch crimin child exploit obscen section ceo graham robinson delawar prosecut brought part project safe childhood nationwid initi combat grow epidem child sexual exploit abus launch attorney offic ceo project safe childhood marshal feder state local resourc better locat apprehend prosecut individu exploit children internet well identifi rescu victim inform project safe childhood pleas visit\n",
      "\n",
      "Similarity Score: 0.9709252814858462\n",
      "-------------------------------\n",
      "Both these pairs of press releases seem to be from different times, \n",
      "    one from the indictment and the other from the sentencing. This is because both \n",
      "    pairs contain similar names, locations, and crimes, but sentencing comes up first and more frequently in one, while the other mentions pleas\n",
      "    and guilt first and more frequently.\n"
     ]
    }
   ],
   "source": [
    "\n",
    "from sklearn.feature_extraction.text import TfidfVectorizer\n",
    "from sklearn.metrics.pairwise import cosine_similarity\n",
    "\n",
    "tfidf_vectorizer = TfidfVectorizer()\n",
    "\n",
    "tfidf_matrix = tfidf_vectorizer.fit_transform(doj_subset['processed_text'])\n",
    "\n",
    "cosine_sim = cosine_similarity(tfidf_matrix, tfidf_matrix)\n",
    "\n",
    "top_pairs = []\n",
    "\n",
    "for i in range(len(cosine_sim)):\n",
    "    for j in range(i+1, len(cosine_sim)):\n",
    "        similarity_score = cosine_sim[i][j]\n",
    "        top_pairs.append((i, j, similarity_score))\n",
    "\n",
    "\n",
    "top_pairs.sort(key=lambda x: x[2], reverse=True)\n",
    "\n",
    "\n",
    "top_pairs = top_pairs[:2]\n",
    "\n",
    "\n",
    "top_press_releases = []\n",
    "for pair in top_pairs:\n",
    "    idx1, idx2, similarity_score = pair\n",
    "    press_release1 = doj_subset.iloc[idx1]['processed_text']\n",
    "    press_release2 = doj_subset.iloc[idx2]['processed_text']\n",
    "    top_press_releases.extend([press_release1, press_release2])\n",
    "\n",
    "\n",
    "for i, pair in enumerate(top_pairs):\n",
    "    idx1, idx2, similarity_score = pair\n",
    "    print(f\"Pair {i+1}:\")\n",
    "    print(\"Press Release 1:\")\n",
    "    print(top_press_releases[i*2])\n",
    "    print(\"\\nPress Release 2:\")\n",
    "    print(top_press_releases[i*2 + 1])\n",
    "    print(\"\\nSimilarity Score:\", similarity_score)\n",
    "    print(\"-------------------------------\")\n",
    "\n",
    "\n",
    "print(\"\"\"Both these pairs of press releases seem to be from different times, \n",
    "    one from the indictment and the other from the sentencing. This is because both \n",
    "    pairs contain similar names, locations, and crimes, but sentencing comes up first and more frequently in one, while the other mentions pleas\n",
    "    and guilt first and more frequently.\"\"\")"
   ]
  }
 ],
 "metadata": {
  "kernelspec": {
   "display_name": "Python 3 (ipykernel)",
   "language": "python",
   "name": "python3"
  },
  "language_info": {
   "codemirror_mode": {
    "name": "ipython",
    "version": 3
   },
   "file_extension": ".py",
   "mimetype": "text/x-python",
   "name": "python",
   "nbconvert_exporter": "python",
   "pygments_lexer": "ipython3",
   "version": "3.11.7"
  }
 },
 "nbformat": 4,
 "nbformat_minor": 4
}
