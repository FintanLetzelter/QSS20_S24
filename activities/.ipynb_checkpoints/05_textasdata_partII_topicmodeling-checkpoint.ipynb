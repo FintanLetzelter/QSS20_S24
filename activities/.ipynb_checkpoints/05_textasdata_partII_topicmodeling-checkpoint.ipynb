{
 "cells": [
  {
   "cell_type": "markdown",
   "metadata": {},
   "source": [
    "# Notebook for topic modeling "
   ]
  },
  {
   "cell_type": "markdown",
   "metadata": {},
   "source": [
    "# 0. Imports"
   ]
  },
  {
   "cell_type": "code",
   "execution_count": 5,
   "metadata": {},
   "outputs": [
    {
     "name": "stderr",
     "output_type": "stream",
     "text": [
      "[nltk_data] Downloading package punkt to\n",
      "[nltk_data]     /Users/fintanletzelter/nltk_data...\n",
      "[nltk_data]   Package punkt is already up-to-date!\n"
     ]
    },
    {
     "data": {
      "text/plain": [
       "True"
      ]
     },
     "execution_count": 5,
     "metadata": {},
     "output_type": "execute_result"
    },
    {
     "name": "stderr",
     "output_type": "stream",
     "text": [
      "[nltk_data] Downloading package stopwords to\n",
      "[nltk_data]     /Users/fintanletzelter/nltk_data...\n",
      "[nltk_data]   Unzipping corpora/stopwords.zip.\n"
     ]
    },
    {
     "data": {
      "text/plain": [
       "True"
      ]
     },
     "execution_count": 5,
     "metadata": {},
     "output_type": "execute_result"
    }
   ],
   "source": [
    "## load packages \n",
    "import pandas as pd\n",
    "import re\n",
    "import numpy as np\n",
    "\n",
    "## nltk imports\n",
    "#!pip install nltk # can install on terminal or by uncommenting this line\n",
    "#import nltk; nltk.download('punkt'); nltk.download('stopwords')\n",
    "from nltk.tokenize import word_tokenize, wordpunct_tokenize\n",
    "from nltk.corpus import stopwords\n",
    "from nltk.stem.porter import PorterStemmer\n",
    "\n",
    "## sklearn imports\n",
    "from sklearn.feature_extraction.text import CountVectorizer\n",
    "\n",
    "## lda\n",
    "#!pip install gensim # can install by uncommenting this line\n",
    "from gensim import corpora\n",
    "import gensim\n",
    "\n",
    "## visualizing LDA--likely need to install\n",
    "#!pip install pyLDAvis # can install by uncommenting this line\n",
    "import pyLDAvis.gensim_models as gensimvis\n",
    "import pyLDAvis\n",
    "pyLDAvis.enable_notebook()\n",
    "\n",
    "## print mult things\n",
    "from IPython.core.interactiveshell import InteractiveShell\n",
    "InteractiveShell.ast_node_interactivity = \"all\"\n",
    "\n",
    "## random\n",
    "import random\n",
    "import string; punctlist = [char for char in string.punctuation] # list of english punctuation marks"
   ]
  },
  {
   "cell_type": "markdown",
   "metadata": {},
   "source": [
    "# 0. Load data"
   ]
  },
  {
   "cell_type": "code",
   "execution_count": 3,
   "metadata": {},
   "outputs": [
    {
     "data": {
      "text/html": [
       "<div>\n",
       "<style scoped>\n",
       "    .dataframe tbody tr th:only-of-type {\n",
       "        vertical-align: middle;\n",
       "    }\n",
       "\n",
       "    .dataframe tbody tr th {\n",
       "        vertical-align: top;\n",
       "    }\n",
       "\n",
       "    .dataframe thead th {\n",
       "        text-align: right;\n",
       "    }\n",
       "</style>\n",
       "<table border=\"1\" class=\"dataframe\">\n",
       "  <thead>\n",
       "    <tr style=\"text-align: right;\">\n",
       "      <th></th>\n",
       "      <th>id</th>\n",
       "      <th>name</th>\n",
       "      <th>name_upper</th>\n",
       "      <th>neighbourhood_group</th>\n",
       "      <th>price</th>\n",
       "    </tr>\n",
       "  </thead>\n",
       "  <tbody>\n",
       "    <tr>\n",
       "      <th>0</th>\n",
       "      <td>2539</td>\n",
       "      <td>Clean &amp; quiet apt home by the park</td>\n",
       "      <td>CLEAN &amp; QUIET APT HOME BY THE PARK</td>\n",
       "      <td>Brooklyn</td>\n",
       "      <td>149</td>\n",
       "    </tr>\n",
       "    <tr>\n",
       "      <th>1</th>\n",
       "      <td>2595</td>\n",
       "      <td>Skylit Midtown Castle</td>\n",
       "      <td>SKYLIT MIDTOWN CASTLE</td>\n",
       "      <td>Manhattan</td>\n",
       "      <td>225</td>\n",
       "    </tr>\n",
       "    <tr>\n",
       "      <th>2</th>\n",
       "      <td>3647</td>\n",
       "      <td>THE VILLAGE OF HARLEM....NEW YORK !</td>\n",
       "      <td>THE VILLAGE OF HARLEM....NEW YORK !</td>\n",
       "      <td>Manhattan</td>\n",
       "      <td>150</td>\n",
       "    </tr>\n",
       "    <tr>\n",
       "      <th>3</th>\n",
       "      <td>3831</td>\n",
       "      <td>Cozy Entire Floor of Brownstone</td>\n",
       "      <td>COZY ENTIRE FLOOR OF BROWNSTONE</td>\n",
       "      <td>Brooklyn</td>\n",
       "      <td>89</td>\n",
       "    </tr>\n",
       "    <tr>\n",
       "      <th>4</th>\n",
       "      <td>5022</td>\n",
       "      <td>Entire Apt: Spacious Studio/Loft by central park</td>\n",
       "      <td>ENTIRE APT: SPACIOUS STUDIO/LOFT BY CENTRAL PARK</td>\n",
       "      <td>Manhattan</td>\n",
       "      <td>80</td>\n",
       "    </tr>\n",
       "  </tbody>\n",
       "</table>\n",
       "</div>"
      ],
      "text/plain": [
       "     id                                              name  \\\n",
       "0  2539                Clean & quiet apt home by the park   \n",
       "1  2595                             Skylit Midtown Castle   \n",
       "2  3647               THE VILLAGE OF HARLEM....NEW YORK !   \n",
       "3  3831                   Cozy Entire Floor of Brownstone   \n",
       "4  5022  Entire Apt: Spacious Studio/Loft by central park   \n",
       "\n",
       "                                         name_upper neighbourhood_group  price  \n",
       "0                CLEAN & QUIET APT HOME BY THE PARK            Brooklyn    149  \n",
       "1                             SKYLIT MIDTOWN CASTLE           Manhattan    225  \n",
       "2               THE VILLAGE OF HARLEM....NEW YORK !           Manhattan    150  \n",
       "3                   COZY ENTIRE FLOOR OF BROWNSTONE            Brooklyn     89  \n",
       "4  ENTIRE APT: SPACIOUS STUDIO/LOFT BY CENTRAL PARK           Manhattan     80  "
      ]
     },
     "execution_count": 3,
     "metadata": {},
     "output_type": "execute_result"
    }
   ],
   "source": [
    "ab = pd.read_csv(\"../public_data/airbnb_text.zip\")\n",
    "ab.head()"
   ]
  },
  {
   "cell_type": "markdown",
   "metadata": {},
   "source": [
    "# 1. Preprocess documents\n",
    "\n",
    "In this case, each name/name_upper, or listing title, we're treating as a document"
   ]
  },
  {
   "cell_type": "markdown",
   "metadata": {},
   "source": [
    "## 1.1 Load stopwords list and augment with our own custom ones"
   ]
  },
  {
   "cell_type": "code",
   "execution_count": 7,
   "metadata": {},
   "outputs": [],
   "source": [
    "list_stopwords = stopwords.words(\"english\")\n",
    "\n",
    "custom_words_toadd = ['apartment', 'new york', 'nyc',\n",
    "                      'bronx', 'brooklyn',\n",
    "                     'manhattan', 'queens', \n",
    "                      'staten island']\n",
    "\n",
    "list_stopwords_new = list_stopwords + custom_words_toadd\n"
   ]
  },
  {
   "cell_type": "markdown",
   "metadata": {},
   "source": [
    "## 1.2 Remove stopwords from lowercase version of corpus\n"
   ]
  },
  {
   "cell_type": "code",
   "execution_count": 8,
   "metadata": {},
   "outputs": [
    {
     "data": {
      "text/plain": [
       "['clean & quiet apt home by the park',\n",
       " 'skylit midtown castle',\n",
       " 'the village of harlem....new york !',\n",
       " 'cozy entire floor of brownstone',\n",
       " 'entire apt: spacious studio/loft by central park']"
      ]
     },
     "execution_count": 8,
     "metadata": {},
     "output_type": "execute_result"
    },
    {
     "data": {
      "text/plain": [
       "['cozy', 'entire', 'floor', 'brownstone']"
      ]
     },
     "execution_count": 8,
     "metadata": {},
     "output_type": "execute_result"
    }
   ],
   "source": [
    "## convert to lowercase and a list\n",
    "corpus_lower = ab.name.str.lower().to_list()\n",
    "corpus_lower[0:5]\n",
    "\n",
    "## use wordpunct tokenize and filter out with one\n",
    "example_listing = corpus_lower[3]\n",
    "nostop_listing = [word for word in wordpunct_tokenize(example_listing) \n",
    "                          if word not in list_stopwords_new]\n",
    "nostop_listing"
   ]
  },
  {
   "cell_type": "markdown",
   "metadata": {},
   "source": [
    "## 1.3 stem and remove non-alpha\n",
    "\n",
    "Other contexts we may want to leave digits in"
   ]
  },
  {
   "cell_type": "code",
   "execution_count": 10,
   "metadata": {},
   "outputs": [
    {
     "data": {
      "text/plain": [
       "['cozi', 'entir', 'floor', 'brownston']"
      ]
     },
     "execution_count": 10,
     "metadata": {},
     "output_type": "execute_result"
    }
   ],
   "source": [
    "## initialize stemmer\n",
    "porter = PorterStemmer()\n",
    "\n",
    "## apply to one by iterating\n",
    "## over the tokens in the list\n",
    "example_listing_preprocess = [porter.stem(token) \n",
    "                            for token in nostop_listing \n",
    "                            if token.isalpha() and \n",
    "                            len(token) > 2]\n",
    "\n",
    "example_listing_preprocess"
   ]
  },
  {
   "cell_type": "code",
   "execution_count": 11,
   "metadata": {},
   "outputs": [
    {
     "data": {
      "text/plain": [
       "'cozy entire floor of brownstone'"
      ]
     },
     "execution_count": 11,
     "metadata": {},
     "output_type": "execute_result"
    },
    {
     "data": {
      "text/plain": [
       "['cozi', 'entir', 'floor', 'brownston']"
      ]
     },
     "execution_count": 11,
     "metadata": {},
     "output_type": "execute_result"
    }
   ],
   "source": [
    "example_listing\n",
    "example_listing_preprocess"
   ]
  },
  {
   "cell_type": "markdown",
   "metadata": {},
   "source": [
    "## 1.4 Activity 1\n",
    "\n",
    "The above example performed preprocessing on a single Airbnb listing. We want to generalize this preprocessing across all listings.\n",
    "\n",
    "- Embed step two (remove stopwords) and step three (stem) into one or two functions that take in a raw string (eg the raw text of an Airbnb review) and return a preprocessed string \n",
    "- Apply the function iteratively to preprocess all the texts in `corpus_lower`. Output could either be a list where each list element is a string of a list (e.g., `cozy brownstone apt`), or a list of lists where each element is a tokenized string (e.g., `['cozy', 'brownstone', 'apt'])`\n",
    "\n",
    "Output is flexible: it could be a list of lists containing tokenized/stemmed text or a list of strings."
   ]
  },
  {
   "cell_type": "code",
   "execution_count": 54,
   "metadata": {},
   "outputs": [
    {
     "data": {
      "text/plain": [
       "[['clean', 'quiet', 'apt', 'home', 'park'],\n",
       " ['skylit', 'midtown', 'castl'],\n",
       " ['villag', 'harlem', 'new', 'york'],\n",
       " ['cozi', 'entir', 'floor', 'brownston'],\n",
       " ['entir', 'apt', 'spaciou', 'studio', 'loft', 'central', 'park'],\n",
       " ['larg', 'cozi', 'midtown', 'east']]"
      ]
     },
     "execution_count": 54,
     "metadata": {},
     "output_type": "execute_result"
    }
   ],
   "source": [
    "# your code here to define the function(s)\n",
    "list_stopwords = stopwords.words(\"english\")\n",
    "custom_words_toadd = ['apartment', 'new york', 'nyc',\n",
    "                      'bronx', 'brooklyn',\n",
    "                     'manhattan', 'queens',\n",
    "                      'staten island']\n",
    "list_stopwords_new = list_stopwords + custom_words_toadd\n",
    "porter = PorterStemmer()\n",
    "corpus_lower = ab.name.str.lower().to_list()\n",
    "# defining function\n",
    "def process_string(text):\n",
    "    if pd.isna(text):\n",
    "        return None\n",
    "    lower_text = text.lower()\n",
    "    ## use wordpunct tokenize and filter out with one\n",
    "    nostop_listing = [word for word in wordpunct_tokenize(lower_text)\n",
    "                              if word not in list_stopwords_new]\n",
    "    ## apply to one by iterating\n",
    "    ## over the tokens in the list\n",
    "    text_preprocess = [porter.stem(token)\n",
    "                                for token in nostop_listing\n",
    "                                if token.isalpha() and\n",
    "                                len(token) > 2]\n",
    "    return text_preprocess\n",
    "# your code here to apply the function\n",
    "preprocessing = [process_string(text) for text in corpus_lower]\n",
    "preprocessing[:6]"
   ]
  },
  {
   "cell_type": "markdown",
   "metadata": {},
   "source": [
    "# 2. Create a document-term matrix and do some basic diagnostics (more manual approach)\n",
    "\n",
    "Here we'll create a DTM first using the raw documents; in the activity, you'll create one using the preprocessed docs\n",
    "that you created in activity 1"
   ]
  },
  {
   "cell_type": "markdown",
   "metadata": {},
   "source": [
    "## 2.1 Define the dtm function and select data to transform into a document-term matrix"
   ]
  },
  {
   "cell_type": "code",
   "execution_count": 19,
   "metadata": {},
   "outputs": [],
   "source": [
    "## function provided\n",
    "def create_dtm(list_of_strings, metadata):\n",
    "    \"\"\" \n",
    "    Function to create dense document-term matrix (DTM) from a list of strings and provided metadata. \n",
    "    A sparse DTM is a list of term_index/doc_index tuples: if a given term occurs in a given doc at least once, \n",
    "        then this count is listed as a tuple; if not, that term/doc pair is omitted. \n",
    "    In a dense DTM, each row is one text (e.g., an Airbnb listing), each column is a term, and \n",
    "        each cell indicates the frequency of that word in that text. \n",
    "    \n",
    "    Parameters:\n",
    "        list_of_strings (Series): each row contains a preprocessed string (need not be tokenized)\n",
    "        metadata (DataFrame): contains document-level covariates\n",
    "    \n",
    "    Returns:\n",
    "        Dense DTM with metadata on left and then one column per word in lexicon\n",
    "    \"\"\"\n",
    "    \n",
    "    # initialize a sklearn tokenizer; this helps us tokenize the preprocessed string input\n",
    "    vectorizer = CountVectorizer(lowercase = True) \n",
    "    dtm_sparse = vectorizer.fit_transform(list_of_strings)\n",
    "    print('Sparse matrix form:\\n', dtm_sparse[:3]) # take a look at sparse representation\n",
    "    print()\n",
    "    \n",
    "    # switch the dataframe from the sparse representation to the normal dense representation (so we can treat it as regular dataframe)\n",
    "    dtm_dense_named = pd.DataFrame(dtm_sparse.todense(), columns=vectorizer.get_feature_names_out ())\n",
    "    print('Dense matrix form:\\n', dtm_dense_named.head()) # take a look at dense representation\n",
    "    dtm_dense_named_withid = pd.concat([metadata.reset_index(), dtm_dense_named], axis = 1) # add back document-level covariates\n",
    "\n",
    "    return(dtm_dense_named_withid)"
   ]
  },
  {
   "cell_type": "code",
   "execution_count": 21,
   "metadata": {},
   "outputs": [
    {
     "data": {
      "text/html": [
       "<div>\n",
       "<style scoped>\n",
       "    .dataframe tbody tr th:only-of-type {\n",
       "        vertical-align: middle;\n",
       "    }\n",
       "\n",
       "    .dataframe tbody tr th {\n",
       "        vertical-align: top;\n",
       "    }\n",
       "\n",
       "    .dataframe thead th {\n",
       "        text-align: right;\n",
       "    }\n",
       "</style>\n",
       "<table border=\"1\" class=\"dataframe\">\n",
       "  <thead>\n",
       "    <tr style=\"text-align: right;\">\n",
       "      <th></th>\n",
       "      <th>id</th>\n",
       "      <th>neighbourhood_group</th>\n",
       "      <th>price_rawdata</th>\n",
       "      <th>name</th>\n",
       "      <th>name_lower</th>\n",
       "    </tr>\n",
       "  </thead>\n",
       "  <tbody>\n",
       "    <tr>\n",
       "      <th>23821</th>\n",
       "      <td>19227560</td>\n",
       "      <td>Queens</td>\n",
       "      <td>100</td>\n",
       "      <td>Super Cozy!</td>\n",
       "      <td>super cozy!</td>\n",
       "    </tr>\n",
       "    <tr>\n",
       "      <th>22905</th>\n",
       "      <td>18560625</td>\n",
       "      <td>Brooklyn</td>\n",
       "      <td>30</td>\n",
       "      <td>Beautiful Private Bedroom by Prospect Park</td>\n",
       "      <td>beautiful private bedroom by prospect park</td>\n",
       "    </tr>\n",
       "    <tr>\n",
       "      <th>20426</th>\n",
       "      <td>16289576</td>\n",
       "      <td>Manhattan</td>\n",
       "      <td>80</td>\n",
       "      <td>Best Location on the Upper West Side! - Part II</td>\n",
       "      <td>best location on the upper west side! - part ii</td>\n",
       "    </tr>\n",
       "    <tr>\n",
       "      <th>2018</th>\n",
       "      <td>893413</td>\n",
       "      <td>Manhattan</td>\n",
       "      <td>2500</td>\n",
       "      <td>Architecturally Stunning Former Synagogue!</td>\n",
       "      <td>architecturally stunning former synagogue!</td>\n",
       "    </tr>\n",
       "    <tr>\n",
       "      <th>18790</th>\n",
       "      <td>14882137</td>\n",
       "      <td>Queens</td>\n",
       "      <td>50</td>\n",
       "      <td>Large, beautiful room near Bushwick</td>\n",
       "      <td>large, beautiful room near bushwick</td>\n",
       "    </tr>\n",
       "  </tbody>\n",
       "</table>\n",
       "</div>"
      ],
      "text/plain": [
       "             id neighbourhood_group  price_rawdata  \\\n",
       "23821  19227560              Queens            100   \n",
       "22905  18560625            Brooklyn             30   \n",
       "20426  16289576           Manhattan             80   \n",
       "2018     893413           Manhattan           2500   \n",
       "18790  14882137              Queens             50   \n",
       "\n",
       "                                                  name  \\\n",
       "23821                                      Super Cozy!   \n",
       "22905       Beautiful Private Bedroom by Prospect Park   \n",
       "20426  Best Location on the Upper West Side! - Part II   \n",
       "2018        Architecturally Stunning Former Synagogue!   \n",
       "18790              Large, beautiful room near Bushwick   \n",
       "\n",
       "                                            name_lower  \n",
       "23821                                      super cozy!  \n",
       "22905       beautiful private bedroom by prospect park  \n",
       "20426  best location on the upper west side! - part ii  \n",
       "2018        architecturally stunning former synagogue!  \n",
       "18790              large, beautiful room near bushwick  "
      ]
     },
     "execution_count": 21,
     "metadata": {},
     "output_type": "execute_result"
    }
   ],
   "source": [
    "\n",
    "## filter out na's\n",
    "## for shorter runtime, random sampling of 1000\n",
    "## get metadata for those\n",
    "## and also renaming price col since it's likely to be corpus word\n",
    "ab_small = ab.loc[~ab.name.isnull(),\n",
    "           ['id', 'neighbourhood_group', 'price', 'name']].copy().rename(columns = {'price':\n",
    "            'price_rawdata'}).sample(n = 1000, random_state = 422)\n",
    "\n",
    "ab_small['name_lower'] = ab_small['name'].str.lower()\n",
    "ab_small.head()"
   ]
  },
  {
   "cell_type": "markdown",
   "metadata": {},
   "source": [
    "## 2.2 Execute the dtm function to create the document-term matrix"
   ]
  },
  {
   "cell_type": "code",
   "execution_count": 22,
   "metadata": {},
   "outputs": [
    {
     "name": "stdout",
     "output_type": "stream",
     "text": [
      "Sparse matrix form:\n",
      "   (0, 841)\t1\n",
      "  (0, 281)\t1\n",
      "  (1, 152)\t1\n",
      "  (1, 693)\t1\n",
      "  (1, 157)\t1\n",
      "  (1, 205)\t1\n",
      "  (1, 698)\t1\n",
      "  (1, 653)\t1\n",
      "  (2, 165)\t1\n",
      "  (2, 537)\t1\n",
      "  (2, 637)\t1\n",
      "  (2, 856)\t1\n",
      "  (2, 902)\t1\n",
      "  (2, 939)\t1\n",
      "  (2, 774)\t1\n",
      "  (2, 657)\t1\n",
      "  (2, 471)\t1\n",
      "\n",
      "Dense matrix form:\n",
      "    001  10  10m  10min  10mins  1100  12mins  14  15  15min  ...  yoga  york  \\\n",
      "0    0   0    0      0       0     0       0   0   0      0  ...     0     0   \n",
      "1    0   0    0      0       0     0       0   0   0      0  ...     0     0   \n",
      "2    0   0    0      0       0     0       0   0   0      0  ...     0     0   \n",
      "3    0   0    0      0       0     0       0   0   0      0  ...     0     0   \n",
      "4    0   0    0      0       0     0       0   0   0      0  ...     0     0   \n",
      "\n",
      "   you  your  yu  zen  ღღღsteps  法拉盛中心私人房間獨立衛浴  溫馨大套房  獨一無二的紐約閣樓  \n",
      "0    0     0   0    0         0              0      0          0  \n",
      "1    0     0   0    0         0              0      0          0  \n",
      "2    0     0   0    0         0              0      0          0  \n",
      "3    0     0   0    0         0              0      0          0  \n",
      "4    0     0   0    0         0              0      0          0  \n",
      "\n",
      "[5 rows x 970 columns]\n"
     ]
    }
   ],
   "source": [
    "## example application on raw lowercase texts; \n",
    "dtm_nopre = create_dtm(list_of_strings= ab_small.name_lower,\n",
    "                      metadata = ab_small[['id', 'neighbourhood_group', 'price_rawdata']])\n",
    "\n"
   ]
  },
  {
   "cell_type": "code",
   "execution_count": 23,
   "metadata": {},
   "outputs": [
    {
     "data": {
      "text/html": [
       "<div>\n",
       "<style scoped>\n",
       "    .dataframe tbody tr th:only-of-type {\n",
       "        vertical-align: middle;\n",
       "    }\n",
       "\n",
       "    .dataframe tbody tr th {\n",
       "        vertical-align: top;\n",
       "    }\n",
       "\n",
       "    .dataframe thead th {\n",
       "        text-align: right;\n",
       "    }\n",
       "</style>\n",
       "<table border=\"1\" class=\"dataframe\">\n",
       "  <thead>\n",
       "    <tr style=\"text-align: right;\">\n",
       "      <th></th>\n",
       "      <th>index</th>\n",
       "      <th>id</th>\n",
       "      <th>neighbourhood_group</th>\n",
       "      <th>price_rawdata</th>\n",
       "      <th>001</th>\n",
       "      <th>10</th>\n",
       "      <th>10m</th>\n",
       "      <th>10min</th>\n",
       "      <th>10mins</th>\n",
       "      <th>1100</th>\n",
       "      <th>...</th>\n",
       "      <th>yoga</th>\n",
       "      <th>york</th>\n",
       "      <th>you</th>\n",
       "      <th>your</th>\n",
       "      <th>yu</th>\n",
       "      <th>zen</th>\n",
       "      <th>ღღღsteps</th>\n",
       "      <th>法拉盛中心私人房間獨立衛浴</th>\n",
       "      <th>溫馨大套房</th>\n",
       "      <th>獨一無二的紐約閣樓</th>\n",
       "    </tr>\n",
       "  </thead>\n",
       "  <tbody>\n",
       "    <tr>\n",
       "      <th>0</th>\n",
       "      <td>23821</td>\n",
       "      <td>19227560</td>\n",
       "      <td>Queens</td>\n",
       "      <td>100</td>\n",
       "      <td>0</td>\n",
       "      <td>0</td>\n",
       "      <td>0</td>\n",
       "      <td>0</td>\n",
       "      <td>0</td>\n",
       "      <td>0</td>\n",
       "      <td>...</td>\n",
       "      <td>0</td>\n",
       "      <td>0</td>\n",
       "      <td>0</td>\n",
       "      <td>0</td>\n",
       "      <td>0</td>\n",
       "      <td>0</td>\n",
       "      <td>0</td>\n",
       "      <td>0</td>\n",
       "      <td>0</td>\n",
       "      <td>0</td>\n",
       "    </tr>\n",
       "    <tr>\n",
       "      <th>1</th>\n",
       "      <td>22905</td>\n",
       "      <td>18560625</td>\n",
       "      <td>Brooklyn</td>\n",
       "      <td>30</td>\n",
       "      <td>0</td>\n",
       "      <td>0</td>\n",
       "      <td>0</td>\n",
       "      <td>0</td>\n",
       "      <td>0</td>\n",
       "      <td>0</td>\n",
       "      <td>...</td>\n",
       "      <td>0</td>\n",
       "      <td>0</td>\n",
       "      <td>0</td>\n",
       "      <td>0</td>\n",
       "      <td>0</td>\n",
       "      <td>0</td>\n",
       "      <td>0</td>\n",
       "      <td>0</td>\n",
       "      <td>0</td>\n",
       "      <td>0</td>\n",
       "    </tr>\n",
       "    <tr>\n",
       "      <th>2</th>\n",
       "      <td>20426</td>\n",
       "      <td>16289576</td>\n",
       "      <td>Manhattan</td>\n",
       "      <td>80</td>\n",
       "      <td>0</td>\n",
       "      <td>0</td>\n",
       "      <td>0</td>\n",
       "      <td>0</td>\n",
       "      <td>0</td>\n",
       "      <td>0</td>\n",
       "      <td>...</td>\n",
       "      <td>0</td>\n",
       "      <td>0</td>\n",
       "      <td>0</td>\n",
       "      <td>0</td>\n",
       "      <td>0</td>\n",
       "      <td>0</td>\n",
       "      <td>0</td>\n",
       "      <td>0</td>\n",
       "      <td>0</td>\n",
       "      <td>0</td>\n",
       "    </tr>\n",
       "    <tr>\n",
       "      <th>3</th>\n",
       "      <td>2018</td>\n",
       "      <td>893413</td>\n",
       "      <td>Manhattan</td>\n",
       "      <td>2500</td>\n",
       "      <td>0</td>\n",
       "      <td>0</td>\n",
       "      <td>0</td>\n",
       "      <td>0</td>\n",
       "      <td>0</td>\n",
       "      <td>0</td>\n",
       "      <td>...</td>\n",
       "      <td>0</td>\n",
       "      <td>0</td>\n",
       "      <td>0</td>\n",
       "      <td>0</td>\n",
       "      <td>0</td>\n",
       "      <td>0</td>\n",
       "      <td>0</td>\n",
       "      <td>0</td>\n",
       "      <td>0</td>\n",
       "      <td>0</td>\n",
       "    </tr>\n",
       "    <tr>\n",
       "      <th>4</th>\n",
       "      <td>18790</td>\n",
       "      <td>14882137</td>\n",
       "      <td>Queens</td>\n",
       "      <td>50</td>\n",
       "      <td>0</td>\n",
       "      <td>0</td>\n",
       "      <td>0</td>\n",
       "      <td>0</td>\n",
       "      <td>0</td>\n",
       "      <td>0</td>\n",
       "      <td>...</td>\n",
       "      <td>0</td>\n",
       "      <td>0</td>\n",
       "      <td>0</td>\n",
       "      <td>0</td>\n",
       "      <td>0</td>\n",
       "      <td>0</td>\n",
       "      <td>0</td>\n",
       "      <td>0</td>\n",
       "      <td>0</td>\n",
       "      <td>0</td>\n",
       "    </tr>\n",
       "  </tbody>\n",
       "</table>\n",
       "<p>5 rows × 974 columns</p>\n",
       "</div>"
      ],
      "text/plain": [
       "   index        id neighbourhood_group  price_rawdata  001  10  10m  10min  \\\n",
       "0  23821  19227560              Queens            100    0   0    0      0   \n",
       "1  22905  18560625            Brooklyn             30    0   0    0      0   \n",
       "2  20426  16289576           Manhattan             80    0   0    0      0   \n",
       "3   2018    893413           Manhattan           2500    0   0    0      0   \n",
       "4  18790  14882137              Queens             50    0   0    0      0   \n",
       "\n",
       "   10mins  1100  ...  yoga  york  you  your  yu  zen  ღღღsteps  法拉盛中心私人房間獨立衛浴  \\\n",
       "0       0     0  ...     0     0    0     0   0    0         0              0   \n",
       "1       0     0  ...     0     0    0     0   0    0         0              0   \n",
       "2       0     0  ...     0     0    0     0   0    0         0              0   \n",
       "3       0     0  ...     0     0    0     0   0    0         0              0   \n",
       "4       0     0  ...     0     0    0     0   0    0         0              0   \n",
       "\n",
       "   溫馨大套房  獨一無二的紐約閣樓  \n",
       "0      0          0  \n",
       "1      0          0  \n",
       "2      0          0  \n",
       "3      0          0  \n",
       "4      0          0  \n",
       "\n",
       "[5 rows x 974 columns]"
      ]
     },
     "execution_count": 23,
     "metadata": {},
     "output_type": "execute_result"
    },
    {
     "data": {
      "text/plain": [
       "(1000, 974)"
      ]
     },
     "execution_count": 23,
     "metadata": {},
     "output_type": "execute_result"
    },
    {
     "data": {
      "text/html": [
       "<div>\n",
       "<style scoped>\n",
       "    .dataframe tbody tr th:only-of-type {\n",
       "        vertical-align: middle;\n",
       "    }\n",
       "\n",
       "    .dataframe tbody tr th {\n",
       "        vertical-align: top;\n",
       "    }\n",
       "\n",
       "    .dataframe thead th {\n",
       "        text-align: right;\n",
       "    }\n",
       "</style>\n",
       "<table border=\"1\" class=\"dataframe\">\n",
       "  <thead>\n",
       "    <tr style=\"text-align: right;\">\n",
       "      <th></th>\n",
       "      <th>inclusive</th>\n",
       "      <th>incredible</th>\n",
       "      <th>incredibly</th>\n",
       "      <th>indoor</th>\n",
       "      <th>inn</th>\n",
       "      <th>inq</th>\n",
       "      <th>insane</th>\n",
       "      <th>int</th>\n",
       "      <th>interior</th>\n",
       "      <th>international</th>\n",
       "      <th>interns</th>\n",
       "      <th>invincible</th>\n",
       "      <th>inviting</th>\n",
       "      <th>inwood</th>\n",
       "      <th>island</th>\n",
       "      <th>it</th>\n",
       "      <th>italy</th>\n",
       "      <th>its</th>\n",
       "      <th>jefferson</th>\n",
       "      <th>jewel</th>\n",
       "    </tr>\n",
       "  </thead>\n",
       "  <tbody>\n",
       "    <tr>\n",
       "      <th>0</th>\n",
       "      <td>0</td>\n",
       "      <td>0</td>\n",
       "      <td>0</td>\n",
       "      <td>0</td>\n",
       "      <td>0</td>\n",
       "      <td>0</td>\n",
       "      <td>0</td>\n",
       "      <td>0</td>\n",
       "      <td>0</td>\n",
       "      <td>0</td>\n",
       "      <td>0</td>\n",
       "      <td>0</td>\n",
       "      <td>0</td>\n",
       "      <td>0</td>\n",
       "      <td>0</td>\n",
       "      <td>0</td>\n",
       "      <td>0</td>\n",
       "      <td>0</td>\n",
       "      <td>0</td>\n",
       "      <td>0</td>\n",
       "    </tr>\n",
       "    <tr>\n",
       "      <th>1</th>\n",
       "      <td>0</td>\n",
       "      <td>0</td>\n",
       "      <td>0</td>\n",
       "      <td>0</td>\n",
       "      <td>0</td>\n",
       "      <td>0</td>\n",
       "      <td>0</td>\n",
       "      <td>0</td>\n",
       "      <td>0</td>\n",
       "      <td>0</td>\n",
       "      <td>0</td>\n",
       "      <td>0</td>\n",
       "      <td>0</td>\n",
       "      <td>0</td>\n",
       "      <td>0</td>\n",
       "      <td>0</td>\n",
       "      <td>0</td>\n",
       "      <td>0</td>\n",
       "      <td>0</td>\n",
       "      <td>0</td>\n",
       "    </tr>\n",
       "    <tr>\n",
       "      <th>2</th>\n",
       "      <td>0</td>\n",
       "      <td>0</td>\n",
       "      <td>0</td>\n",
       "      <td>0</td>\n",
       "      <td>0</td>\n",
       "      <td>0</td>\n",
       "      <td>0</td>\n",
       "      <td>0</td>\n",
       "      <td>0</td>\n",
       "      <td>0</td>\n",
       "      <td>0</td>\n",
       "      <td>0</td>\n",
       "      <td>0</td>\n",
       "      <td>0</td>\n",
       "      <td>0</td>\n",
       "      <td>0</td>\n",
       "      <td>0</td>\n",
       "      <td>0</td>\n",
       "      <td>0</td>\n",
       "      <td>0</td>\n",
       "    </tr>\n",
       "    <tr>\n",
       "      <th>3</th>\n",
       "      <td>0</td>\n",
       "      <td>0</td>\n",
       "      <td>0</td>\n",
       "      <td>0</td>\n",
       "      <td>0</td>\n",
       "      <td>0</td>\n",
       "      <td>0</td>\n",
       "      <td>0</td>\n",
       "      <td>0</td>\n",
       "      <td>0</td>\n",
       "      <td>0</td>\n",
       "      <td>0</td>\n",
       "      <td>0</td>\n",
       "      <td>0</td>\n",
       "      <td>0</td>\n",
       "      <td>0</td>\n",
       "      <td>0</td>\n",
       "      <td>0</td>\n",
       "      <td>0</td>\n",
       "      <td>0</td>\n",
       "    </tr>\n",
       "    <tr>\n",
       "      <th>4</th>\n",
       "      <td>0</td>\n",
       "      <td>0</td>\n",
       "      <td>0</td>\n",
       "      <td>0</td>\n",
       "      <td>0</td>\n",
       "      <td>0</td>\n",
       "      <td>0</td>\n",
       "      <td>0</td>\n",
       "      <td>0</td>\n",
       "      <td>0</td>\n",
       "      <td>0</td>\n",
       "      <td>0</td>\n",
       "      <td>0</td>\n",
       "      <td>0</td>\n",
       "      <td>0</td>\n",
       "      <td>0</td>\n",
       "      <td>0</td>\n",
       "      <td>0</td>\n",
       "      <td>0</td>\n",
       "      <td>0</td>\n",
       "    </tr>\n",
       "  </tbody>\n",
       "</table>\n",
       "</div>"
      ],
      "text/plain": [
       "   inclusive  incredible  incredibly  indoor  inn  inq  insane  int  interior  \\\n",
       "0          0           0           0       0    0    0       0    0         0   \n",
       "1          0           0           0       0    0    0       0    0         0   \n",
       "2          0           0           0       0    0    0       0    0         0   \n",
       "3          0           0           0       0    0    0       0    0         0   \n",
       "4          0           0           0       0    0    0       0    0         0   \n",
       "\n",
       "   international  interns  invincible  inviting  inwood  island  it  italy  \\\n",
       "0              0        0           0         0       0       0   0      0   \n",
       "1              0        0           0         0       0       0   0      0   \n",
       "2              0        0           0         0       0       0   0      0   \n",
       "3              0        0           0         0       0       0   0      0   \n",
       "4              0        0           0         0       0       0   0      0   \n",
       "\n",
       "   its  jefferson  jewel  \n",
       "0    0          0      0  \n",
       "1    0          0      0  \n",
       "2    0          0      0  \n",
       "3    0          0      0  \n",
       "4    0          0      0  "
      ]
     },
     "execution_count": 23,
     "metadata": {},
     "output_type": "execute_result"
    }
   ],
   "source": [
    "## show first set of rows/cols\n",
    "dtm_nopre.head()\n",
    "\n",
    "## show arbitrary later cols in resulting data\n",
    "dtm_nopre.shape\n",
    "dtm_nopre.iloc[0:5, 480:500]"
   ]
  },
  {
   "cell_type": "markdown",
   "metadata": {},
   "source": [
    "## 2.3 Use that matrix/column sums to get basic summary stats of top words"
   ]
  },
  {
   "cell_type": "code",
   "execution_count": 24,
   "metadata": {},
   "outputs": [
    {
     "data": {
      "text/plain": [
       "in           367\n",
       "room         244\n",
       "private      163\n",
       "bedroom      152\n",
       "apartment    130\n",
       "            ... \n",
       "24hr           1\n",
       "16             1\n",
       "1940           1\n",
       "19th           1\n",
       "fulton         1\n",
       "Length: 970, dtype: int64"
      ]
     },
     "execution_count": 24,
     "metadata": {},
     "output_type": "execute_result"
    }
   ],
   "source": [
    "## summing each col\n",
    "top_terms = dtm_nopre[dtm_nopre.columns[4:]].sum(axis = 0)\n",
    "\n",
    "## sorting from most frequent to least frequent\n",
    "top_terms.sort_values(ascending = False)"
   ]
  },
  {
   "cell_type": "markdown",
   "metadata": {},
   "source": [
    "## 2.4 Activity 2: repeat the above but using the preprocessed text data\n",
    "\n",
    "- Stick with the same random sample of 1000 `ab_small`\n",
    "- Apply the preprocessing steps from activity 1 to create a new column in `ab_small` with the preprocessed text (if you got stuck on that, try just removing stopwords)\n",
    "- Use the `create_dtm` function to create a document-term matrix from the preprocessed data\n",
    "- Use colsums to summarize"
   ]
  },
  {
   "cell_type": "code",
   "execution_count": 58,
   "metadata": {},
   "outputs": [],
   "source": [
    "## your code here \n",
    "ab_small[\"processed_text\"] = [process_string(string) for string in ab_small[\"name\"]]\n",
    "\n",
    "# def create_dtm(list_of_strings, metadata):\n",
    "#     # initialize a sklearn tokenizer; this helps us tokenize the preprocessed string input\n",
    "#     vectorizer = CountVectorizer(lowercase = True) \n",
    "#     dtm_sparse = vectorizer.fit_transform(list_of_strings)\n",
    "#     print('Sparse matrix form:\\n', dtm_sparse[:3]) # take a look at sparse representation\n",
    "#     print()\n",
    "    \n",
    "#     # switch the dataframe from the sparse representation to the normal dense representation (so we can treat it as regular dataframe)\n",
    "#     dtm_dense_named = pd.DataFrame(dtm_sparse.todense(), columns=vectorizer.get_feature_names_out ())\n",
    "#     print('Dense matrix form:\\n', dtm_dense_named.head()) # take a look at dense representation\n",
    "#     dtm_dense_named_withid = pd.concat([metadata.reset_index(), dtm_dense_named], axis = 1) # add back document-level covariates\n",
    "\n",
    "#     return(dtm_dense_named_withid)\n",
    "\n",
    "# new_df = [create_dtm(list_of_strings=ab_small[\"processed_text\"], \n",
    "#                      metadata=ab_small[['id', 'neighbourhood_group', 'price_rawdata']])]\n",
    "    "
   ]
  },
  {
   "cell_type": "markdown",
   "metadata": {},
   "source": [
    "# 3. Use gensim to more automatically preprocess/estimate a topic model"
   ]
  },
  {
   "cell_type": "markdown",
   "metadata": {},
   "source": [
    "## 3.1 Creating the objects to feed the LDA modeling function\n",
    "\n",
    "Different outputs described below: \n",
    "- Tokenized and preprocessed text \n",
    "- Dictionary \n",
    "- Corpus "
   ]
  },
  {
   "cell_type": "code",
   "execution_count": 47,
   "metadata": {},
   "outputs": [
    {
     "data": {
      "text/plain": [
       "{0: '!', 1: 'cozy', 2: 'super', 3: 'beautiful', 4: 'bedroom'}"
      ]
     },
     "execution_count": 47,
     "metadata": {},
     "output_type": "execute_result"
    },
    {
     "name": "stdout",
     "output_type": "stream",
     "text": [
      "Filtering out very rare and very common words reduced the length of dictionary from 1047 to 31.\n"
     ]
    },
    {
     "data": {
      "text/plain": [
       "{0: '!', 1: 'cozy', 2: 'beautiful', 3: 'bedroom', 4: 'park'}"
      ]
     },
     "execution_count": 47,
     "metadata": {},
     "output_type": "execute_result"
    },
    {
     "name": "stdout",
     "output_type": "stream",
     "text": [
      "Sample of documents represented in dictionary format (with omitted words noted):\n"
     ]
    },
    {
     "data": {
      "text/plain": [
       "[([(0, 1), (1, 1)], {'super': 1}),\n",
       " ([(2, 1), (3, 1), (4, 1), (5, 1)], {'by': 1, 'prospect': 1}),\n",
       " ([(0, 1), (6, 1), (7, 1)],\n",
       "  {'best': 1,\n",
       "   'ii': 1,\n",
       "   'location': 1,\n",
       "   'on': 1,\n",
       "   'part': 1,\n",
       "   'side': 1,\n",
       "   'upper': 1,\n",
       "   'west': 1}),\n",
       " ([(0, 1)],\n",
       "  {'architecturally': 1, 'former': 1, 'stunning': 1, 'synagogue': 1}),\n",
       " ([(2, 1), (8, 1), (9, 1), (10, 1), (11, 1)], {'bushwick': 1}),\n",
       " ([(4, 1), (8, 1), (9, 1), (12, 1), (13, 2)],\n",
       "  {'bath': 1, 'bed': 1, 'by': 1, 'central': 1, 'college': 1, 'hunter': 1}),\n",
       " ([(9, 1), (11, 1), (14, 1), (15, 1)], {'bohemian': 1, 'brownstone': 1}),\n",
       " ([(16, 1)],\n",
       "  {'fidi': 1, 'huge': 1, 'loft': 1, 'views': 1, 'w': 1, 'water': 1}),\n",
       " ([], {'hillside': 1, 'hotel': 1}),\n",
       " ([(5, 1), (9, 1), (11, 1), (14, 1), (15, 1)], {'airy': 1})]"
      ]
     },
     "execution_count": 47,
     "metadata": {},
     "output_type": "execute_result"
    }
   ],
   "source": [
    "\n",
    "## Step 1: re-tokenize and store in list\n",
    "## here, i'm doing with the raw random sample of text\n",
    "## in activity, you should do with the preprocessed texts\n",
    "text_raw_tokens = [wordpunct_tokenize(one_text) for one_text in \n",
    "                  ab_small.name_lower]\n",
    "\n",
    "\n",
    "## Step 2: use gensim create dictionary - gets all unique words across documents\n",
    "text_raw_dict = corpora.Dictionary(text_raw_tokens)\n",
    "raw_len = len(text_raw_dict) # get length for comparison below\n",
    "\n",
    "### explore first few keys and values\n",
    "### see that key is just an arbitrary counter; value is the word itself\n",
    "{k: text_raw_dict[k] for k in list(text_raw_dict)[:5]}\n",
    "\n",
    "\n",
    "## Step 3: filter out very rare and very common words\n",
    "## here, i'm using the threshold that a word needs to appear in at least\n",
    "## 5% of docs but not more than 95%\n",
    "## this is an integer count of docs so i round\n",
    "lower_bound = round(ab_small.shape[0]*0.05)\n",
    "upper_bound = round(ab_small.shape[0]*0.95)\n",
    "\n",
    "### apply filtering to dictionary\n",
    "text_raw_dict.filter_extremes(no_below = lower_bound,\n",
    "                             no_above = upper_bound)\n",
    "print(f'Filtering out very rare and very common words reduced the \\\n",
    "length of dictionary from {str(raw_len)} to {str(len(text_raw_dict))}.')\n",
    "{k: text_raw_dict[k] for k in list(text_raw_dict)[:5]} # show first five entries after filtering\n",
    "\n",
    "\n",
    "## Step 4: apply dictionary to TOKENIZED texts\n",
    "## this creates a mapping between each word \n",
    "## in a specific listing and the key in the dictionary.\n",
    "## for words that remain in the filtered dictionary,\n",
    "## output is a list where len(list) == n documents\n",
    "## and each element in the list is a list of tuples\n",
    "## containing the mappings\n",
    "corpus_fromdict = [text_raw_dict.doc2bow(one_text) \n",
    "                   for one_text in text_raw_tokens]\n",
    "\n",
    "### can apply doc2bow(one_text, return_missing = True) to print words\n",
    "### eliminated from the listing bc they're not in filtered dictionary.\n",
    "### but feeding that one with missing values to\n",
    "### the lda function can cause errors\n",
    "corpus_fromdict_showmiss = [text_raw_dict.doc2bow(one_text, return_missing = True)\n",
    "                            for one_text in text_raw_tokens]\n",
    "print('Sample of documents represented in dictionary format (with omitted words noted):')\n",
    "corpus_fromdict_showmiss[:10]"
   ]
  },
  {
   "cell_type": "markdown",
   "metadata": {},
   "source": [
    "##  3.2 Estimating the model"
   ]
  },
  {
   "cell_type": "code",
   "execution_count": 48,
   "metadata": {},
   "outputs": [
    {
     "name": "stdout",
     "output_type": "stream",
     "text": [
      "<class 'gensim.models.ldamodel.LdaModel'>\n"
     ]
    }
   ],
   "source": [
    "## Step 5: we're finally ready to estimate the model!\n",
    "## full documentation here - https://radimrehurek.com/gensim/models/ldamodel.html\n",
    "## here, we're feeding the lda function:\n",
    "## (1) the corpus we created from the dictionary,\n",
    "## (2) a parameter we decide on for the number of topics (k),\n",
    "## (3) the dictionary itself,\n",
    "## (4) parameter for number of passes through training data (more means slower), and\n",
    "## (5) parameter that returns, for each word remaining in dict, the topic probabilities.\n",
    "## see documentation for many other arguments you can vary\n",
    "ldamod = gensim.models.ldamodel.LdaModel(corpus_fromdict, \n",
    "                                         num_topics = 5, \n",
    "                                         id2word=text_raw_dict, \n",
    "                                         passes=6, \n",
    "                                         alpha = 'auto',\n",
    "                                         per_word_topics = True)\n",
    "\n",
    "print(type(ldamod))\n",
    "\n"
   ]
  },
  {
   "cell_type": "markdown",
   "metadata": {},
   "source": [
    "## 3.3  Seeing what topics the estimated model discovers"
   ]
  },
  {
   "cell_type": "code",
   "execution_count": 49,
   "metadata": {},
   "outputs": [
    {
     "name": "stdout",
     "output_type": "stream",
     "text": [
      "(0, '0.157*\"private\" + 0.125*\"in\" + 0.089*\"-\" + 0.081*\"room\" + 0.066*\"/\" + 0.065*\"studio\" + 0.065*\"bedroom\" + 0.061*\"1\" + 0.053*\"east\" + 0.038*\"with\"')\n",
      "(1, '0.217*\"in\" + 0.122*\"room\" + 0.087*\"brooklyn\" + 0.072*\"williamsburg\" + 0.070*\"beautiful\" + 0.051*\"large\" + 0.048*\"apartment\" + 0.047*\"park\" + 0.045*\"bedroom\" + 0.034*\"spacious\"')\n",
      "(2, '0.252*\",\" + 0.150*\"2\" + 0.113*\"sunny\" + 0.068*\"bedroom\" + 0.060*\"room\" + 0.051*\"spacious\" + 0.044*\"and\" + 0.038*\"-\" + 0.033*\"in\" + 0.030*\"apartment\"')\n",
      "(3, '0.130*\"to\" + 0.117*\"manhattan\" + 0.112*\"!\" + 0.111*\".\" + 0.083*\"apartment\" + 0.063*\"apt\" + 0.059*\"with\" + 0.040*\"bedroom\" + 0.036*\"&\" + 0.035*\"and\"')\n",
      "(4, '0.147*\"cozy\" + 0.116*\"in\" + 0.112*\"the\" + 0.089*\",\" + 0.085*\"of\" + 0.057*\"room\" + 0.044*\"!\" + 0.044*\"-\" + 0.040*\"studio\" + 0.036*\"private\"')\n"
     ]
    }
   ],
   "source": [
    "## Post-model 1: explore corpus-wide summary of topics\n",
    "### getting the topics and top words; can retrieve diff top words\n",
    "topics = ldamod.print_topics(num_words = 10)\n",
    "for topic in topics:\n",
    "    print(topic)\n"
   ]
  },
  {
   "cell_type": "code",
   "execution_count": 50,
   "metadata": {},
   "outputs": [
    {
     "data": {
      "text/plain": [
       "[['super', 'cozy', '!'],\n",
       " ['beautiful', 'private', 'bedroom', 'by', 'prospect', 'park'],\n",
       " ['best',\n",
       "  'location',\n",
       "  'on',\n",
       "  'the',\n",
       "  'upper',\n",
       "  'west',\n",
       "  'side',\n",
       "  '!',\n",
       "  '-',\n",
       "  'part',\n",
       "  'ii'],\n",
       " ['architecturally', 'stunning', 'former', 'synagogue', '!'],\n",
       " ['large', ',', 'beautiful', 'room', 'near', 'bushwick']]"
      ]
     },
     "execution_count": 50,
     "metadata": {},
     "output_type": "execute_result"
    },
    {
     "data": {
      "text/plain": [
       "[[(0, 0.0626167),\n",
       "  (1, 0.063007735),\n",
       "  (2, 0.049300905),\n",
       "  (3, 0.050828543),\n",
       "  (4, 0.77424616)],\n",
       " [(0, 0.33053634),\n",
       "  (1, 0.5791321),\n",
       "  (2, 0.02871932),\n",
       "  (3, 0.02938227),\n",
       "  (4, 0.032229945)],\n",
       " [(0, 0.046455346),\n",
       "  (1, 0.046251737),\n",
       "  (2, 0.036290903),\n",
       "  (3, 0.03729402),\n",
       "  (4, 0.83370805)],\n",
       " [(0, 0.0978048),\n",
       "  (1, 0.098426335),\n",
       "  (2, 0.077033155),\n",
       "  (3, 0.6400789),\n",
       "  (4, 0.08665682)],\n",
       " [(0, 0.029993668),\n",
       "  (1, 0.8950177),\n",
       "  (2, 0.02391949),\n",
       "  (3, 0.024304941),\n",
       "  (4, 0.026764233)]]"
      ]
     },
     "execution_count": 50,
     "metadata": {},
     "output_type": "execute_result"
    }
   ],
   "source": [
    "    \n",
    "## Post-model 2: explore topics associated with each document\n",
    "### for each item in our original dictionary, get list of topic probabilities\n",
    "l=[ldamod.get_document_topics(item) for item in corpus_fromdict]\n",
    "### print result\n",
    "text_raw_tokens[0:5]\n",
    "l[0:5]"
   ]
  },
  {
   "cell_type": "markdown",
   "metadata": {},
   "source": [
    "### Visualizing "
   ]
  },
  {
   "cell_type": "code",
   "execution_count": 51,
   "metadata": {},
   "outputs": [
    {
     "data": {
      "text/html": [
       "\n",
       "<link rel=\"stylesheet\" type=\"text/css\" href=\"https://cdn.jsdelivr.net/gh/bmabey/pyLDAvis@3.4.0/pyLDAvis/js/ldavis.v1.0.0.css\">\n",
       "\n",
       "\n",
       "<div id=\"ldavis_el2629554789804487198003810\" style=\"background-color:white;\"></div>\n",
       "<script type=\"text/javascript\">\n",
       "\n",
       "var ldavis_el2629554789804487198003810_data = {\"mdsDat\": {\"x\": [-0.06208675299398538, 0.043306883490402556, 0.05929759116208339, 0.15230136223644272, -0.19281908389494332], \"y\": [-0.09025986374117265, -0.10351193053652674, -0.04610492688433054, 0.13869232760307387, 0.10118439355895603], \"topics\": [1, 2, 3, 4, 5], \"cluster\": [1, 1, 1, 1, 1], \"Freq\": [25.695212157535686, 23.776767193094695, 18.137653418970405, 16.992341897170416, 15.398025333228798]}, \"tinfo\": {\"Term\": [\",\", \"cozy\", \"2\", \"the\", \"sunny\", \"private\", \"to\", \"manhattan\", \".\", \"in\", \"of\", \"!\", \"beautiful\", \"williamsburg\", \"brooklyn\", \"with\", \"studio\", \"-\", \"and\", \"east\", \"large\", \"1\", \"apartment\", \"apt\", \"/\", \"spacious\", \"&\", \"park\", \"bedroom\", \"near\", \"east\", \"private\", \"studio\", \"1\", \"-\", \"/\", \"&\", \"with\", \"bedroom\", \"in\", \"room\", \"spacious\", \"apt\", \"!\", \"manhattan\", \"apartment\", \"park\", \"near\", \"sunny\", \"to\", \"of\", \"williamsburg\", \"beautiful\", \"cozy\", \".\", \"large\", \"the\", \"2\", \"brooklyn\", \"and\", \",\", \"beautiful\", \"williamsburg\", \"brooklyn\", \"large\", \"park\", \"in\", \"near\", \"room\", \"spacious\", \"apartment\", \"apt\", \"1\", \"/\", \"bedroom\", \"!\", \",\", \"east\", \"manhattan\", \"&\", \".\", \"private\", \"sunny\", \"and\", \"of\", \"2\", \"the\", \"cozy\", \"studio\", \"-\", \"with\", \"to\", \"cozy\", \"the\", \"of\", \"studio\", \"near\", \"and\", \",\", \"park\", \"!\", \"-\", \"in\", \"to\", \"room\", \"apartment\", \"brooklyn\", \"private\", \"williamsburg\", \"&\", \"apt\", \".\", \"bedroom\", \"manhattan\", \"large\", \"1\", \"spacious\", \"2\", \"beautiful\", \"with\", \"/\", \"east\", \"2\", \"sunny\", \",\", \"and\", \"spacious\", \"bedroom\", \"-\", \"park\", \"room\", \"1\", \"apartment\", \".\", \"large\", \"brooklyn\", \"/\", \"with\", \"east\", \"&\", \"in\", \"apt\", \"to\", \"near\", \"private\", \"the\", \"of\", \"williamsburg\", \"beautiful\", \"!\", \"studio\", \"cozy\", \".\", \"manhattan\", \"to\", \"with\", \"!\", \"apt\", \"apartment\", \"and\", \"&\", \"large\", \"near\", \"bedroom\", \"/\", \"spacious\", \"-\", \"studio\", \"room\", \"brooklyn\", \"beautiful\", \"east\", \"park\", \"2\", \"williamsburg\", \"private\", \"cozy\", \"in\", \"the\", \"sunny\", \"of\", \",\"], \"Freq\": [211.0, 89.0, 86.0, 69.0, 70.0, 164.0, 89.0, 79.0, 72.0, 361.0, 53.0, 129.0, 59.0, 66.0, 94.0, 67.0, 85.0, 133.0, 57.0, 52.0, 64.0, 85.0, 130.0, 92.0, 100.0, 89.0, 61.0, 69.0, 154.0, 54.0, 44.024084445288224, 130.2516131926603, 54.46301655073014, 50.760856032292615, 74.41781168236754, 54.714201765542036, 29.79007474697043, 31.89890695207855, 54.157982900907214, 103.6672286710666, 67.82697158655954, 23.59528170550795, 24.11496654009024, 27.929538146964955, 12.248808297457328, 17.710100112941042, 6.512778002613696, 4.789302923657663, 5.977301466472546, 5.451028197735579, 1.7278211201684175, 1.312876789558738, 1.127342898879752, 0.9913055886751506, 0.6588354221468204, 0.45290901976115305, 0.443828268165626, 0.4542632336461518, 0.3731631214188185, 0.20944324555975447, 0.2143054372993527, 53.88863730239911, 55.23748265846463, 67.2304355751658, 39.439272865073285, 35.95376399281329, 167.30153396092862, 21.82714848779299, 93.90935572257604, 26.35629744916449, 36.872096694916195, 25.830501031726122, 22.1241915752008, 23.75049078776324, 34.32165514454574, 18.637337162621943, 18.797767742282364, 3.6406465868974593, 5.335661596788856, 3.4407563877366965, 3.727214103718086, 6.054937890040518, 1.7444395891039683, 1.0266550632673894, 0.8227050225381874, 0.7764959153096286, 0.44015552854722045, 0.4680550040254062, 0.3285329491309617, 0.44201976712799784, 0.20165980702415204, 0.20165980702415204, 86.16164128759543, 65.7345790818766, 49.80331426519598, 23.456974586088524, 14.57031208009189, 14.878566290981881, 52.231464527463196, 15.847851249099074, 25.84576635542961, 25.64064435209361, 68.43407183674577, 14.547772427142254, 33.533265267856706, 17.590336689607476, 12.124718153018861, 20.918128562466563, 8.015630978723273, 6.488057375763605, 6.47817452909817, 4.573425855627841, 8.124149154420683, 3.638669582047302, 1.5474770367903448, 1.778202085562263, 1.4451528065276749, 1.1040597285137614, 0.7126471871550712, 0.8093811638359304, 0.8264393057036024, 0.4327673482466545, 82.41545404860359, 62.21821863788933, 138.8481099200228, 24.078621536785498, 28.101902977006, 37.653877421721525, 21.182614980456247, 9.477585304463146, 32.921800121159855, 10.894958664729385, 16.43009586441517, 8.680794297097139, 7.525629252171532, 9.003752428013833, 8.23740117020261, 4.75463608439439, 3.2241484405043037, 3.428032483670292, 17.897166210087395, 4.479859230549365, 4.147401396365872, 1.9113289691925575, 5.058319039050107, 2.0409597066373077, 1.3435160250178648, 0.8834345367330656, 0.7745593797200919, 1.6405105386183392, 0.479180624274871, 0.4357941780068187, 55.16845470152499, 58.51151726909294, 64.65818032821207, 29.587383856642948, 55.71253937922913, 31.24494514762656, 41.638883621254855, 17.25971522651192, 18.17309152663726, 15.786493183524115, 11.44739558332714, 19.842311509577552, 12.562070580082645, 10.363505107213895, 11.957640327014865, 7.0967777091098645, 14.427573699663128, 5.341305701196693, 2.684373412419394, 1.559801068723135, 1.4426113576230228, 1.3606621331657054, 0.9441825356619882, 2.2279040370145538, 1.1981641207550302, 3.711931272099655, 0.7026591454551228, 0.6196371239296604, 0.2829099177248002, 1.017461130527461], \"Total\": [211.0, 89.0, 86.0, 69.0, 70.0, 164.0, 89.0, 79.0, 72.0, 361.0, 53.0, 129.0, 59.0, 66.0, 94.0, 67.0, 85.0, 133.0, 57.0, 52.0, 64.0, 85.0, 130.0, 92.0, 100.0, 89.0, 61.0, 69.0, 154.0, 54.0, 52.881447889659775, 164.51090272123204, 85.82448241933436, 85.76817067311536, 133.64073110906025, 100.09060360929412, 61.32001252077828, 67.25196786397598, 154.0999761311727, 361.01193195092804, 242.61896639781526, 89.86214004542002, 92.14844647909047, 129.76569158286398, 79.94694668746082, 130.24151298313473, 69.23458990661223, 54.54548804406224, 70.74449083499326, 89.00604215647992, 53.980266350645245, 66.3936074991417, 59.18756018057343, 89.25496017905783, 72.80872438011488, 64.75178135732043, 69.36218173068188, 86.11093505923884, 94.073374978814, 57.45300136310644, 211.10910875759518, 59.18756018057343, 66.3936074991417, 94.073374978814, 64.75178135732043, 69.23458990661223, 361.01193195092804, 54.54548804406224, 242.61896639781526, 89.86214004542002, 130.24151298313473, 92.14844647909047, 85.76817067311536, 100.09060360929412, 154.0999761311727, 129.76569158286398, 211.10910875759518, 52.881447889659775, 79.94694668746082, 61.32001252077828, 72.80872438011488, 164.51090272123204, 70.74449083499326, 57.45300136310644, 53.980266350645245, 86.11093505923884, 69.36218173068188, 89.25496017905783, 85.82448241933436, 133.64073110906025, 67.25196786397598, 89.00604215647992, 89.25496017905783, 69.36218173068188, 53.980266350645245, 85.82448241933436, 54.54548804406224, 57.45300136310644, 211.10910875759518, 69.23458990661223, 129.76569158286398, 133.64073110906025, 361.01193195092804, 89.00604215647992, 242.61896639781526, 130.24151298313473, 94.073374978814, 164.51090272123204, 66.3936074991417, 61.32001252077828, 92.14844647909047, 72.80872438011488, 154.0999761311727, 79.94694668746082, 64.75178135732043, 85.76817067311536, 89.86214004542002, 86.11093505923884, 59.18756018057343, 67.25196786397598, 100.09060360929412, 52.881447889659775, 86.11093505923884, 70.74449083499326, 211.10910875759518, 57.45300136310644, 89.86214004542002, 154.0999761311727, 133.64073110906025, 69.23458990661223, 242.61896639781526, 85.76817067311536, 130.24151298313473, 72.80872438011488, 64.75178135732043, 94.073374978814, 100.09060360929412, 67.25196786397598, 52.881447889659775, 61.32001252077828, 361.01193195092804, 92.14844647909047, 89.00604215647992, 54.54548804406224, 164.51090272123204, 69.36218173068188, 53.980266350645245, 66.3936074991417, 59.18756018057343, 129.76569158286398, 85.82448241933436, 89.25496017905783, 72.80872438011488, 79.94694668746082, 89.00604215647992, 67.25196786397598, 129.76569158286398, 92.14844647909047, 130.24151298313473, 57.45300136310644, 61.32001252077828, 64.75178135732043, 54.54548804406224, 154.0999761311727, 100.09060360929412, 89.86214004542002, 133.64073110906025, 85.82448241933436, 242.61896639781526, 94.073374978814, 59.18756018057343, 52.881447889659775, 69.23458990661223, 86.11093505923884, 66.3936074991417, 164.51090272123204, 89.25496017905783, 361.01193195092804, 69.36218173068188, 70.74449083499326, 53.980266350645245, 211.10910875759518], \"Category\": [\"Default\", \"Default\", \"Default\", \"Default\", \"Default\", \"Default\", \"Default\", \"Default\", \"Default\", \"Default\", \"Default\", \"Default\", \"Default\", \"Default\", \"Default\", \"Default\", \"Default\", \"Default\", \"Default\", \"Default\", \"Default\", \"Default\", \"Default\", \"Default\", \"Default\", \"Default\", \"Default\", \"Default\", \"Default\", \"Default\", \"Topic1\", \"Topic1\", \"Topic1\", \"Topic1\", \"Topic1\", \"Topic1\", \"Topic1\", \"Topic1\", \"Topic1\", \"Topic1\", \"Topic1\", \"Topic1\", \"Topic1\", \"Topic1\", \"Topic1\", \"Topic1\", \"Topic1\", \"Topic1\", \"Topic1\", \"Topic1\", \"Topic1\", \"Topic1\", \"Topic1\", \"Topic1\", \"Topic1\", \"Topic1\", \"Topic1\", \"Topic1\", \"Topic1\", \"Topic1\", \"Topic1\", \"Topic2\", \"Topic2\", \"Topic2\", \"Topic2\", \"Topic2\", \"Topic2\", \"Topic2\", \"Topic2\", \"Topic2\", \"Topic2\", \"Topic2\", \"Topic2\", \"Topic2\", \"Topic2\", \"Topic2\", \"Topic2\", \"Topic2\", \"Topic2\", \"Topic2\", \"Topic2\", \"Topic2\", \"Topic2\", \"Topic2\", \"Topic2\", \"Topic2\", \"Topic2\", \"Topic2\", \"Topic2\", \"Topic2\", \"Topic2\", \"Topic2\", \"Topic3\", \"Topic3\", \"Topic3\", \"Topic3\", \"Topic3\", \"Topic3\", \"Topic3\", \"Topic3\", \"Topic3\", \"Topic3\", \"Topic3\", \"Topic3\", \"Topic3\", \"Topic3\", \"Topic3\", \"Topic3\", \"Topic3\", \"Topic3\", \"Topic3\", \"Topic3\", \"Topic3\", \"Topic3\", \"Topic3\", \"Topic3\", \"Topic3\", \"Topic3\", \"Topic3\", \"Topic3\", \"Topic3\", \"Topic3\", \"Topic4\", \"Topic4\", \"Topic4\", \"Topic4\", \"Topic4\", \"Topic4\", \"Topic4\", \"Topic4\", \"Topic4\", \"Topic4\", \"Topic4\", \"Topic4\", \"Topic4\", \"Topic4\", \"Topic4\", \"Topic4\", \"Topic4\", \"Topic4\", \"Topic4\", \"Topic4\", \"Topic4\", \"Topic4\", \"Topic4\", \"Topic4\", \"Topic4\", \"Topic4\", \"Topic4\", \"Topic4\", \"Topic4\", \"Topic4\", \"Topic5\", \"Topic5\", \"Topic5\", \"Topic5\", \"Topic5\", \"Topic5\", \"Topic5\", \"Topic5\", \"Topic5\", \"Topic5\", \"Topic5\", \"Topic5\", \"Topic5\", \"Topic5\", \"Topic5\", \"Topic5\", \"Topic5\", \"Topic5\", \"Topic5\", \"Topic5\", \"Topic5\", \"Topic5\", \"Topic5\", \"Topic5\", \"Topic5\", \"Topic5\", \"Topic5\", \"Topic5\", \"Topic5\", \"Topic5\"], \"logprob\": [30.0, 29.0, 28.0, 27.0, 26.0, 25.0, 24.0, 23.0, 22.0, 21.0, 20.0, 19.0, 18.0, 17.0, 16.0, 15.0, 14.0, 13.0, 12.0, 11.0, 10.0, 9.0, 8.0, 7.0, 6.0, 5.0, 4.0, 3.0, 2.0, 1.0, -2.9394, -1.8547, -2.7266, -2.797, -2.4145, -2.722, -3.33, -3.2616, -2.7322, -2.083, -2.5072, -3.5631, -3.5413, -3.3945, -4.2187, -3.85, -4.8504, -5.1578, -4.9362, -5.0284, -6.1773, -6.4519, -6.6043, -6.7329, -7.1414, -7.5162, -7.5365, -7.5132, -7.7099, -8.2875, -8.2645, -2.6596, -2.6349, -2.4384, -2.9718, -3.0643, -1.5268, -3.5634, -2.1042, -3.3749, -3.0391, -3.395, -3.5499, -3.479, -3.1108, -3.7214, -3.7128, -5.3544, -4.9721, -5.4109, -5.3309, -4.8457, -6.0901, -6.6203, -6.8417, -6.8995, -7.4672, -7.4057, -7.7597, -7.463, -8.2477, -8.2477, -1.9196, -2.1902, -2.4678, -3.2207, -3.6969, -3.6759, -2.4202, -3.6128, -3.1237, -3.1317, -2.15, -3.6984, -2.8633, -3.5085, -3.8806, -3.3352, -4.2944, -4.5059, -4.5074, -4.8556, -4.281, -5.0842, -5.9392, -5.8002, -6.0076, -6.2768, -6.7146, -6.5873, -6.5665, -7.2134, -1.8988, -2.18, -1.3772, -3.1293, -2.9748, -2.6822, -3.2574, -4.0617, -2.8165, -3.9223, -3.5115, -4.1495, -4.2923, -4.113, -4.2019, -4.7515, -5.1399, -5.0786, -3.426, -4.811, -4.8881, -5.6628, -4.6896, -5.5972, -6.0153, -6.4346, -6.5661, -5.8156, -7.0463, -7.1412, -2.2017, -2.1429, -2.043, -2.8247, -2.1919, -2.7702, -2.4831, -3.3637, -3.3121, -3.4529, -3.7743, -3.2243, -3.6814, -3.8738, -3.7307, -4.2524, -3.5429, -4.5366, -5.2246, -5.7675, -5.8456, -5.9041, -6.2695, -5.411, -6.0313, -4.9005, -6.565, -6.6907, -7.4747, -6.1948], \"loglift\": [30.0, 29.0, 28.0, 27.0, 26.0, 25.0, 24.0, 23.0, 22.0, 21.0, 20.0, 19.0, 18.0, 17.0, 16.0, 15.0, 14.0, 13.0, 12.0, 11.0, 10.0, 9.0, 8.0, 7.0, 6.0, 5.0, 4.0, 3.0, 2.0, 1.0, 1.1755, 1.1254, 0.9041, 0.8343, 0.7734, 0.7549, 0.6369, 0.613, 0.3132, 0.1111, 0.0843, 0.0216, 0.0183, -0.1772, -0.5171, -0.6364, -1.0049, -1.0738, -1.1122, -1.434, -2.0829, -2.5645, -2.602, -3.1414, -3.3463, -3.6038, -3.6928, -3.8858, -4.1709, -4.2554, -5.5339, 1.3427, 1.2525, 1.1005, 0.9407, 0.7812, 0.6673, 0.5206, 0.4873, 0.2099, 0.1745, 0.1646, 0.0815, -0.002, -0.0654, -0.5041, -0.9822, -1.2394, -1.2705, -1.444, -1.5357, -1.8656, -2.2662, -2.5882, -2.7473, -3.2721, -3.6235, -3.8142, -4.129, -4.2751, -4.3732, -4.6534, 1.6719, 1.6535, 1.6266, 0.41, 0.3871, 0.3561, 0.3105, 0.2327, 0.0936, 0.0562, 0.0441, -0.1041, -0.2718, -0.2949, -0.3416, -0.3552, -0.407, -0.539, -0.9478, -1.0604, -1.2356, -1.3826, -2.0268, -2.1689, -2.4229, -2.6495, -2.7123, -2.7128, -3.0895, -3.0984, 1.7285, 1.644, 1.3534, 0.9028, 0.61, 0.3632, -0.0696, -0.2162, -0.2249, -0.2909, -0.2979, -0.3543, -0.3798, -0.574, -0.725, -0.8769, -1.025, -1.1117, -1.2319, -1.2514, -1.2938, -1.5788, -1.7095, -1.7535, -1.9209, -2.5471, -2.5638, -2.5983, -3.4156, -3.5497, 1.5935, 1.5588, 1.5513, 1.0498, 1.0254, 0.7894, 0.7306, 0.6683, 0.6548, 0.4595, 0.3097, -0.1789, -0.2045, -0.2891, -0.5429, -0.6217, -0.9514, -0.9977, -1.2223, -1.6526, -2.0001, -2.2767, -2.3821, -2.431, -2.4398, -2.7064, -2.7213, -2.8668, -3.3803, -3.4641]}, \"token.table\": {\"Topic\": [1, 2, 3, 4, 5, 1, 2, 3, 4, 5, 2, 3, 4, 5, 1, 3, 4, 5, 1, 2, 3, 4, 5, 1, 2, 3, 4, 5, 1, 2, 3, 4, 2, 3, 4, 5, 2, 3, 4, 5, 1, 2, 3, 4, 5, 1, 2, 3, 4, 5, 1, 2, 3, 4, 5, 1, 2, 3, 4, 5, 2, 3, 4, 5, 1, 3, 5, 1, 2, 4, 5, 1, 2, 3, 4, 5, 2, 3, 4, 5, 1, 2, 3, 5, 1, 2, 3, 4, 5, 1, 2, 3, 4, 1, 2, 3, 4, 5, 1, 2, 3, 4, 5, 1, 2, 3, 4, 5, 1, 2, 3, 4, 5, 1, 3, 5, 1, 2, 4, 5, 3, 4, 5, 1, 3, 4, 5, 1, 2, 3, 4, 5, 1, 3, 4, 5], \"Freq\": [0.21577351962957134, 0.1464177454629234, 0.20036112537031622, 0.015412394259255094, 0.4315470392591427, 0.48923669071063064, 0.04892366907106306, 0.09784733814212612, 0.04892366907106306, 0.2935420144263784, 0.0900008536430166, 0.24631812575983494, 0.6584272977041742, 0.004736887033842979, 0.5537233999386818, 0.19455146484332062, 0.1571377216042205, 0.08979298377384029, 0.013734617774365437, 0.05493847109746175, 0.06867308887182719, 0.12361155996928894, 0.755403977590099, 0.5495021312359522, 0.2397827481756882, 0.009990947840653675, 0.0799275827252294, 0.12988232192849777, 0.5946261835800855, 0.25650541252474274, 0.023318673865885705, 0.12825270626237137, 0.011612926968126215, 0.011612926968126215, 0.9522600113863497, 0.011612926968126215, 0.01740553106494715, 0.2610829659742072, 0.4177327455587316, 0.29589402810410154, 0.13820478269728687, 0.2840876088777563, 0.13820478269728687, 0.12284869573092165, 0.32247782629366933, 0.26044931756332834, 0.2821534273602724, 0.06511232939083209, 0.04340821959388806, 0.3364137018526325, 0.01689544216637976, 0.9123538769845071, 0.01689544216637976, 0.01689544216637976, 0.05068632649913928, 0.35042185830083594, 0.22063598485608188, 0.051914349377901625, 0.2465931595450327, 0.12978587344475406, 0.7122100170753827, 0.1275600030582775, 0.09567000229370812, 0.053150001274282294, 0.011203859124398927, 0.9635318846983078, 0.011203859124398927, 0.8320498351673079, 0.0756408941061189, 0.05673067057958918, 0.03782044705305945, 0.28807912092538984, 0.46258858840903944, 0.18835942522044719, 0.049859847852471315, 0.01107996618943807, 0.6023000322537213, 0.030887181141216476, 0.1235487245648659, 0.2470974491297318, 0.1500995409732405, 0.06254147540551688, 0.0500331803244135, 0.7379894097850992, 0.09166661037042997, 0.4033330856298919, 0.27499983111128995, 0.036666644148171994, 0.20166654281494595, 0.037050576723878896, 0.018525288361939448, 0.9262644180969725, 0.018525288361939448, 0.10110553134556037, 0.5199713040628818, 0.23109835736128084, 0.12999282601572046, 0.014443647335080053, 0.7902211819984256, 0.0364717468614658, 0.1276511140151303, 0.03039312238455483, 0.012157248953821934, 0.2802748730225088, 0.38743879506052686, 0.1401374365112544, 0.13601574720209986, 0.057703650328163575, 0.2670757672571498, 0.2893320811952456, 0.01112815696904791, 0.31158839513334147, 0.11128156969047909, 0.6291910941700593, 0.26798879936872894, 0.0815618085035262, 0.08481225787594676, 0.028270752625315584, 0.8763933313847831, 0.014135376312657792, 0.9515271629756905, 0.028834156453808803, 0.014417078226904401, 0.05617596152865206, 0.1685278845859562, 0.04494076922292165, 0.7302874998724769, 0.015061690992057142, 0.8283930045631428, 0.12049352793645714, 0.015061690992057142, 0.015061690992057142, 0.4758225077476289, 0.014869453367113403, 0.07434726683556701, 0.4460836010134021], \"Term\": [\"!\", \"!\", \"!\", \"!\", \"!\", \"&\", \"&\", \"&\", \"&\", \"&\", \",\", \",\", \",\", \",\", \"-\", \"-\", \"-\", \"-\", \".\", \".\", \".\", \".\", \".\", \"/\", \"/\", \"/\", \"/\", \"/\", \"1\", \"1\", \"1\", \"1\", \"2\", \"2\", \"2\", \"2\", \"and\", \"and\", \"and\", \"and\", \"apartment\", \"apartment\", \"apartment\", \"apartment\", \"apartment\", \"apt\", \"apt\", \"apt\", \"apt\", \"apt\", \"beautiful\", \"beautiful\", \"beautiful\", \"beautiful\", \"beautiful\", \"bedroom\", \"bedroom\", \"bedroom\", \"bedroom\", \"bedroom\", \"brooklyn\", \"brooklyn\", \"brooklyn\", \"brooklyn\", \"cozy\", \"cozy\", \"cozy\", \"east\", \"east\", \"east\", \"east\", \"in\", \"in\", \"in\", \"in\", \"in\", \"large\", \"large\", \"large\", \"large\", \"manhattan\", \"manhattan\", \"manhattan\", \"manhattan\", \"near\", \"near\", \"near\", \"near\", \"near\", \"of\", \"of\", \"of\", \"of\", \"park\", \"park\", \"park\", \"park\", \"park\", \"private\", \"private\", \"private\", \"private\", \"private\", \"room\", \"room\", \"room\", \"room\", \"room\", \"spacious\", \"spacious\", \"spacious\", \"spacious\", \"spacious\", \"studio\", \"studio\", \"studio\", \"sunny\", \"sunny\", \"sunny\", \"sunny\", \"the\", \"the\", \"the\", \"to\", \"to\", \"to\", \"to\", \"williamsburg\", \"williamsburg\", \"williamsburg\", \"williamsburg\", \"williamsburg\", \"with\", \"with\", \"with\", \"with\"]}, \"R\": 30, \"lambda.step\": 0.01, \"plot.opts\": {\"xlab\": \"PC1\", \"ylab\": \"PC2\"}, \"topic.order\": [1, 2, 5, 3, 4]};\n",
       "\n",
       "function LDAvis_load_lib(url, callback){\n",
       "  var s = document.createElement('script');\n",
       "  s.src = url;\n",
       "  s.async = true;\n",
       "  s.onreadystatechange = s.onload = callback;\n",
       "  s.onerror = function(){console.warn(\"failed to load library \" + url);};\n",
       "  document.getElementsByTagName(\"head\")[0].appendChild(s);\n",
       "}\n",
       "\n",
       "if(typeof(LDAvis) !== \"undefined\"){\n",
       "   // already loaded: just create the visualization\n",
       "   !function(LDAvis){\n",
       "       new LDAvis(\"#\" + \"ldavis_el2629554789804487198003810\", ldavis_el2629554789804487198003810_data);\n",
       "   }(LDAvis);\n",
       "}else if(typeof define === \"function\" && define.amd){\n",
       "   // require.js is available: use it to load d3/LDAvis\n",
       "   require.config({paths: {d3: \"https://d3js.org/d3.v5\"}});\n",
       "   require([\"d3\"], function(d3){\n",
       "      window.d3 = d3;\n",
       "      LDAvis_load_lib(\"https://cdn.jsdelivr.net/gh/bmabey/pyLDAvis@3.4.0/pyLDAvis/js/ldavis.v3.0.0.js\", function(){\n",
       "        new LDAvis(\"#\" + \"ldavis_el2629554789804487198003810\", ldavis_el2629554789804487198003810_data);\n",
       "      });\n",
       "    });\n",
       "}else{\n",
       "    // require.js not available: dynamically load d3 & LDAvis\n",
       "    LDAvis_load_lib(\"https://d3js.org/d3.v5.js\", function(){\n",
       "         LDAvis_load_lib(\"https://cdn.jsdelivr.net/gh/bmabey/pyLDAvis@3.4.0/pyLDAvis/js/ldavis.v3.0.0.js\", function(){\n",
       "                 new LDAvis(\"#\" + \"ldavis_el2629554789804487198003810\", ldavis_el2629554789804487198003810_data);\n",
       "            })\n",
       "         });\n",
       "}\n",
       "</script>"
      ],
      "text/plain": [
       "<IPython.core.display.HTML object>"
      ]
     },
     "execution_count": 51,
     "metadata": {},
     "output_type": "execute_result"
    }
   ],
   "source": [
    "lda_display = gensimvis.prepare(ldamod, corpus_fromdict, text_raw_dict)\n",
    "pyLDAvis.display(lda_display)"
   ]
  },
  {
   "cell_type": "markdown",
   "metadata": {},
   "source": [
    "## 3.4 Activity 3\n",
    "\n",
    "- Preprocess the texts if you haven't already\n",
    "- Run the topic model with preprocessed texts\n",
    "- Play around with other parameters like `n_topics` to find a configuration that produces useful topics\n",
    "\n",
    "If you get stuck on the preprocessing part, you can use below function and example code for applying it. Then continue as above (start with tokenizing)."
   ]
  },
  {
   "cell_type": "code",
   "execution_count": 63,
   "metadata": {},
   "outputs": [
    {
     "data": {
      "text/plain": [
       "{0: 'cozi', 1: 'super', 2: 'beauti', 3: 'bedroom', 4: 'park'}"
      ]
     },
     "execution_count": 63,
     "metadata": {},
     "output_type": "execute_result"
    },
    {
     "name": "stdout",
     "output_type": "stream",
     "text": [
      "Filtering out very rare and very common words reduced the length of dictionary from 753 to 14.\n"
     ]
    },
    {
     "data": {
      "text/plain": [
       "{0: 'cozi', 1: 'beauti', 2: 'bedroom', 3: 'park', 4: 'privat'}"
      ]
     },
     "execution_count": 63,
     "metadata": {},
     "output_type": "execute_result"
    },
    {
     "name": "stdout",
     "output_type": "stream",
     "text": [
      "Sample of documents represented in dictionary format (with omitted words noted):\n"
     ]
    },
    {
     "data": {
      "text/plain": [
       "[([(0, 1)], {'super': 1}),\n",
       " ([(1, 1), (2, 1), (3, 1), (4, 1)], {'prospect': 1}),\n",
       " ([], {'best': 1, 'locat': 1, 'part': 1, 'side': 1, 'upper': 1, 'west': 1}),\n",
       " ([], {'architectur': 1, 'former': 1, 'stun': 1, 'synagogu': 1}),\n",
       " ([(1, 1), (5, 1), (6, 1), (7, 1)], {'bushwick': 1}),\n",
       " ([(3, 1), (5, 1)],\n",
       "  {'bath': 1, 'bed': 1, 'central': 1, 'colleg': 1, 'hunter': 1}),\n",
       " ([(5, 1), (7, 1)], {'bohemian': 1, 'brownston': 1}),\n",
       " ([(8, 1)], {'fidi': 1, 'huge': 1, 'loft': 1, 'view': 1, 'water': 1}),\n",
       " ([], {'hillsid': 1, 'hotel': 1}),\n",
       " ([(4, 1), (5, 1), (7, 1)], {'airi': 1})]"
      ]
     },
     "execution_count": 63,
     "metadata": {},
     "output_type": "execute_result"
    },
    {
     "name": "stdout",
     "output_type": "stream",
     "text": [
      "<class 'gensim.models.ldamodel.LdaModel'>\n",
      "(0, '0.645*\"bedroom\" + 0.109*\"privat\" + 0.063*\"sunni\" + 0.058*\"cozi\" + 0.037*\"east\" + 0.027*\"beauti\" + 0.021*\"spaciou\" + 0.017*\"apt\" + 0.010*\"larg\" + 0.006*\"williamsburg\"')\n",
      "(1, '0.357*\"park\" + 0.279*\"williamsburg\" + 0.140*\"room\" + 0.069*\"beauti\" + 0.063*\"near\" + 0.057*\"sunni\" + 0.009*\"east\" + 0.008*\"larg\" + 0.005*\"studio\" + 0.005*\"privat\"')\n",
      "(2, '0.350*\"studio\" + 0.202*\"cozi\" + 0.167*\"sunni\" + 0.096*\"east\" + 0.093*\"apt\" + 0.037*\"williamsburg\" + 0.026*\"near\" + 0.009*\"room\" + 0.006*\"park\" + 0.006*\"spaciou\"')\n",
      "(3, '0.502*\"room\" + 0.225*\"larg\" + 0.124*\"cozi\" + 0.065*\"east\" + 0.027*\"beauti\" + 0.022*\"apt\" + 0.010*\"privat\" + 0.007*\"near\" + 0.005*\"spaciou\" + 0.004*\"sunni\"')\n",
      "(4, '0.552*\"spaciou\" + 0.248*\"near\" + 0.131*\"privat\" + 0.020*\"room\" + 0.014*\"bedroom\" + 0.009*\"beauti\" + 0.008*\"cozi\" + 0.006*\"larg\" + 0.004*\"park\" + 0.002*\"williamsburg\"')\n",
      "(5, '0.392*\"privat\" + 0.271*\"room\" + 0.200*\"apt\" + 0.108*\"beauti\" + 0.012*\"spaciou\" + 0.006*\"studio\" + 0.003*\"sunni\" + 0.002*\"east\" + 0.002*\"williamsburg\" + 0.001*\"near\"')\n"
     ]
    },
    {
     "data": {
      "text/plain": [
       "[['super', 'cozi'],\n",
       " ['beauti', 'privat', 'bedroom', 'prospect', 'park'],\n",
       " ['best', 'locat', 'upper', 'west', 'side', 'part'],\n",
       " ['architectur', 'stun', 'former', 'synagogu'],\n",
       " ['larg', 'beauti', 'room', 'near', 'bushwick']]"
      ]
     },
     "execution_count": 63,
     "metadata": {},
     "output_type": "execute_result"
    },
    {
     "data": {
      "text/plain": [
       "[[(0, 0.08508059),\n",
       "  (1, 0.07598657),\n",
       "  (2, 0.5908194),\n",
       "  (3, 0.09169418),\n",
       "  (4, 0.06954267),\n",
       "  (5, 0.08687656)],\n",
       " [(0, 0.30633965),\n",
       "  (1, 0.30049044),\n",
       "  (2, 0.033216838),\n",
       "  (3, 0.03585684),\n",
       "  (4, 0.027556304),\n",
       "  (5, 0.29653993)],\n",
       " [(0, 0.17240562),\n",
       "  (1, 0.15463151),\n",
       "  (2, 0.17072143),\n",
       "  (3, 0.18392855),\n",
       "  (4, 0.14151095),\n",
       "  (5, 0.17680193)],\n",
       " [(0, 0.17240562),\n",
       "  (1, 0.15463151),\n",
       "  (2, 0.17072143),\n",
       "  (3, 0.18392855),\n",
       "  (4, 0.14151095),\n",
       "  (5, 0.17680193)],\n",
       " [(0, 0.03367087),\n",
       "  (1, 0.030331142),\n",
       "  (2, 0.03325774),\n",
       "  (3, 0.6396911),\n",
       "  (4, 0.2278233),\n",
       "  (5, 0.035225797)]]"
      ]
     },
     "execution_count": 63,
     "metadata": {},
     "output_type": "execute_result"
    },
    {
     "data": {
      "text/html": [
       "\n",
       "<link rel=\"stylesheet\" type=\"text/css\" href=\"https://cdn.jsdelivr.net/gh/bmabey/pyLDAvis@3.4.0/pyLDAvis/js/ldavis.v1.0.0.css\">\n",
       "\n",
       "\n",
       "<div id=\"ldavis_el2629554756384489390301110\" style=\"background-color:white;\"></div>\n",
       "<script type=\"text/javascript\">\n",
       "\n",
       "var ldavis_el2629554756384489390301110_data = {\"mdsDat\": {\"x\": [0.04531403247302183, -0.1604692678442607, -0.1773703079371185, 0.1248362800504871, -0.14048392289751485, 0.30817318615538497], \"y\": [0.1582208479062915, 0.10697610968220736, -0.21857151793794047, -0.2370709965769753, 0.12897710894208925, 0.061468447984327046], \"topics\": [1, 2, 3, 4, 5, 6], \"cluster\": [1, 1, 1, 1, 1, 1], \"Freq\": [21.21289911250979, 18.058451856377406, 17.025074441084556, 16.798750545508547, 14.937127435581656, 11.967696608938047]}, \"tinfo\": {\"Term\": [\"bedroom\", \"spaciou\", \"room\", \"studio\", \"park\", \"privat\", \"williamsburg\", \"larg\", \"near\", \"cozi\", \"apt\", \"sunni\", \"east\", \"beauti\", \"privat\", \"apt\", \"beauti\", \"room\", \"spaciou\", \"studio\", \"east\", \"sunni\", \"williamsburg\", \"near\", \"larg\", \"cozi\", \"park\", \"bedroom\", \"larg\", \"room\", \"cozi\", \"east\", \"beauti\", \"apt\", \"near\", \"privat\", \"sunni\", \"spaciou\", \"williamsburg\", \"studio\", \"bedroom\", \"park\", \"studio\", \"sunni\", \"cozi\", \"east\", \"apt\", \"williamsburg\", \"near\", \"park\", \"spaciou\", \"room\", \"privat\", \"larg\", \"beauti\", \"bedroom\", \"bedroom\", \"sunni\", \"east\", \"privat\", \"cozi\", \"beauti\", \"spaciou\", \"apt\", \"larg\", \"williamsburg\", \"park\", \"near\", \"room\", \"studio\", \"park\", \"williamsburg\", \"beauti\", \"near\", \"sunni\", \"room\", \"east\", \"larg\", \"studio\", \"cozi\", \"privat\", \"apt\", \"bedroom\", \"spaciou\", \"spaciou\", \"near\", \"privat\", \"beauti\", \"larg\", \"bedroom\", \"cozi\", \"room\", \"park\", \"williamsburg\", \"east\", \"sunni\", \"studio\", \"apt\"], \"Freq\": [152.0, 101.0, 237.0, 85.0, 75.0, 165.0, 69.0, 60.0, 61.0, 93.0, 89.0, 67.0, 49.0, 60.0, 114.12961059020105, 58.02993050341364, 31.381121792816227, 78.68673801695498, 3.5003091048712, 1.6583310273130565, 0.6258620757406713, 0.8008074877599399, 0.587882315589967, 0.36714533312380904, 0.2672463368344458, 0.3580298277413115, 0.2184960258861979, 0.2173277246774671, 55.590013117306334, 124.20075435897675, 30.774431912381452, 16.187399515087094, 6.7678612580337685, 5.554078653280388, 1.6271333179725938, 2.590775783024926, 1.0365060740358683, 1.128512163450059, 0.7529411567814976, 0.798627733015631, 0.4143249634307853, 0.15802798435056423, 81.67632812790711, 39.08070357834108, 47.127030826043146, 22.454576030296167, 21.70600633953714, 8.739301539862367, 6.084954505698295, 1.3474893106422678, 1.3053357128578342, 2.0412364011901176, 1.2496923811945677, 0.22314257255393566, 0.16461024118020337, 0.21335945853613497, 148.61061913972986, 14.598002708151903, 8.51910421613032, 25.146461956038163, 13.438655618811492, 6.3151693208456, 4.878545352929137, 3.8975823875811733, 2.2011372538081964, 1.3685194261595577, 0.33167084824790893, 0.20809695919167348, 0.5925432209718046, 0.20473667389868896, 73.04139222788828, 57.19065963345123, 14.030746323948513, 12.926680378082333, 11.607549808012445, 28.586800652753947, 1.7667203827090203, 1.553816276606186, 1.1242108508474329, 0.7766685416519434, 1.0208787514818511, 0.40639616305091686, 0.46305016204184907, 0.29244049121613896, 90.62775981978928, 40.69326678181976, 21.432389507080362, 1.4868524319750869, 1.0438490872368178, 2.3628562622782665, 1.3742811472410694, 3.2432460086216803, 0.6405444943373613, 0.3722516059425483, 0.1980353330174644, 0.20045528839936005, 0.20106917835309623, 0.20027010332510534], \"Total\": [152.0, 101.0, 237.0, 85.0, 75.0, 165.0, 69.0, 60.0, 61.0, 93.0, 89.0, 67.0, 49.0, 60.0, 165.56980896902093, 89.79426415018835, 60.1463613687994, 237.35131865946926, 101.73290264511364, 85.66330359133502, 49.75169755298073, 67.3240249447006, 69.01155567778717, 61.90727727588846, 60.87920464434591, 93.8490978738704, 75.73762089135258, 152.28153771069435, 60.87920464434591, 237.35131865946926, 93.8490978738704, 49.75169755298073, 60.1463613687994, 89.79426415018835, 61.90727727588846, 165.56980896902093, 67.3240249447006, 101.73290264511364, 69.01155567778717, 85.66330359133502, 152.28153771069435, 75.73762089135258, 85.66330359133502, 67.3240249447006, 93.8490978738704, 49.75169755298073, 89.79426415018835, 69.01155567778717, 61.90727727588846, 75.73762089135258, 101.73290264511364, 237.35131865946926, 165.56980896902093, 60.87920464434591, 60.1463613687994, 152.28153771069435, 152.28153771069435, 67.3240249447006, 49.75169755298073, 165.56980896902093, 93.8490978738704, 60.1463613687994, 101.73290264511364, 89.79426415018835, 60.87920464434591, 69.01155567778717, 75.73762089135258, 61.90727727588846, 237.35131865946926, 85.66330359133502, 75.73762089135258, 69.01155567778717, 60.1463613687994, 61.90727727588846, 67.3240249447006, 237.35131865946926, 49.75169755298073, 60.87920464434591, 85.66330359133502, 93.8490978738704, 165.56980896902093, 89.79426415018835, 152.28153771069435, 101.73290264511364, 101.73290264511364, 61.90727727588846, 165.56980896902093, 60.1463613687994, 60.87920464434591, 152.28153771069435, 93.8490978738704, 237.35131865946926, 75.73762089135258, 69.01155567778717, 49.75169755298073, 67.3240249447006, 85.66330359133502, 89.79426415018835], \"Category\": [\"Default\", \"Default\", \"Default\", \"Default\", \"Default\", \"Default\", \"Default\", \"Default\", \"Default\", \"Default\", \"Default\", \"Default\", \"Default\", \"Default\", \"Topic1\", \"Topic1\", \"Topic1\", \"Topic1\", \"Topic1\", \"Topic1\", \"Topic1\", \"Topic1\", \"Topic1\", \"Topic1\", \"Topic1\", \"Topic1\", \"Topic1\", \"Topic1\", \"Topic2\", \"Topic2\", \"Topic2\", \"Topic2\", \"Topic2\", \"Topic2\", \"Topic2\", \"Topic2\", \"Topic2\", \"Topic2\", \"Topic2\", \"Topic2\", \"Topic2\", \"Topic2\", \"Topic3\", \"Topic3\", \"Topic3\", \"Topic3\", \"Topic3\", \"Topic3\", \"Topic3\", \"Topic3\", \"Topic3\", \"Topic3\", \"Topic3\", \"Topic3\", \"Topic3\", \"Topic3\", \"Topic4\", \"Topic4\", \"Topic4\", \"Topic4\", \"Topic4\", \"Topic4\", \"Topic4\", \"Topic4\", \"Topic4\", \"Topic4\", \"Topic4\", \"Topic4\", \"Topic4\", \"Topic4\", \"Topic5\", \"Topic5\", \"Topic5\", \"Topic5\", \"Topic5\", \"Topic5\", \"Topic5\", \"Topic5\", \"Topic5\", \"Topic5\", \"Topic5\", \"Topic5\", \"Topic5\", \"Topic5\", \"Topic6\", \"Topic6\", \"Topic6\", \"Topic6\", \"Topic6\", \"Topic6\", \"Topic6\", \"Topic6\", \"Topic6\", \"Topic6\", \"Topic6\", \"Topic6\", \"Topic6\", \"Topic6\"], \"logprob\": [14.0, 13.0, 12.0, 11.0, 10.0, 9.0, 8.0, 7.0, 6.0, 5.0, 4.0, 3.0, 2.0, 1.0, -0.9354, -1.6118, -2.2265, -1.3073, -4.4199, -5.1669, -6.1414, -5.8949, -6.204, -6.6747, -6.9923, -6.6999, -7.1937, -7.1991, -1.4937, -0.6898, -2.0851, -2.7275, -3.5996, -3.7972, -5.0249, -4.5598, -5.4759, -5.3908, -5.7955, -5.7366, -6.3928, -7.3567, -1.05, -1.7872, -1.6, -2.3413, -2.3752, -3.285, -3.647, -5.1546, -5.1864, -4.7393, -5.2299, -6.9528, -7.257, -6.9976, -0.4381, -2.7585, -3.2971, -2.2147, -2.8413, -3.5965, -3.8546, -4.0791, -4.6505, -5.1257, -6.543, -7.0092, -5.9628, -7.0255, -1.0309, -1.2756, -2.6807, -2.7627, -2.8703, -1.969, -4.7529, -4.8813, -5.2049, -5.5747, -5.3013, -6.2224, -6.0919, -6.5515, -0.5936, -1.3943, -2.0354, -4.7037, -5.0574, -4.2405, -4.7824, -3.9238, -5.5458, -6.0885, -6.7196, -6.7075, -6.7044, -6.7084], \"loglift\": [14.0, 13.0, 12.0, 11.0, 10.0, 9.0, 8.0, 7.0, 6.0, 5.0, 4.0, 3.0, 2.0, 1.0, 1.1785, 1.114, 0.9, 0.4465, -1.8189, -2.3941, -2.8251, -2.8811, -3.2149, -3.5771, -3.8779, -4.0183, -4.2977, -5.0015, 1.6207, 1.0639, 0.5966, 0.5887, -0.473, -1.0714, -1.9273, -2.4459, -2.4621, -2.7899, -2.8065, -2.9637, -4.1953, -4.4607, 1.7228, 1.2266, 1.0816, 0.9749, 0.3506, -0.296, -0.5493, -2.2585, -2.5854, -2.9855, -3.116, -3.8384, -4.1305, -4.8, 1.7595, 0.2552, 0.0191, -0.1008, -0.1597, -0.47, -1.2536, -1.3533, -1.5361, -2.1367, -3.647, -3.9115, -4.209, -4.2526, 1.8651, 1.7134, 0.4458, 0.335, 0.1435, -0.2153, -1.4366, -1.7669, -2.432, -2.8931, -3.1874, -3.4966, -3.8943, -3.9505, 2.0074, 1.7034, 0.0785, -1.5772, -1.943, -2.0429, -2.1008, -2.17, -2.6498, -3.0995, -3.4034, -3.6937, -3.9316, -3.9827]}, \"token.table\": {\"Topic\": [1, 2, 3, 4, 1, 2, 4, 5, 6, 4, 6, 2, 3, 4, 5, 6, 1, 2, 3, 4, 5, 2, 4, 5, 6, 2, 3, 5, 6, 3, 5, 6, 1, 2, 3, 4, 5, 6, 1, 2, 3, 4, 5, 6, 1, 2, 3, 4, 6, 1, 2, 3, 5, 1, 2, 3, 4, 5, 1, 2, 3, 4, 5], \"Freq\": [0.6459209900421946, 0.06681941276298564, 0.2450045134642807, 0.044546275175323766, 0.5154093995797572, 0.11638276764704195, 0.09975665798317881, 0.2327655352940839, 0.016626109663863135, 0.9784508499189926, 0.013133568455288491, 0.33031750653227177, 0.5008039615166701, 0.13852024467482366, 0.010655403436524895, 0.010655403436524895, 0.020099816673292345, 0.3215970667726775, 0.44219596681243156, 0.1808983500596311, 0.04019963334658469, 0.9198543300154782, 0.032851940357695654, 0.032851940357695654, 0.016425970178847827, 0.03230637960521253, 0.09691913881563759, 0.20999146743388145, 0.6622807819068568, 0.013203477851971662, 0.9638538831939313, 0.013203477851971662, 0.6885313253053886, 0.018119245402773387, 0.006039748467591128, 0.1509937116897782, 0.006039748467591128, 0.1268347178194137, 0.3328399456391571, 0.5224323197374111, 0.00842632773770018, 0.00421316386885009, 0.1221817521966526, 0.01263949160655027, 0.039318646140999745, 0.009829661535249936, 0.009829661535249936, 0.049148307676249677, 0.8944991997077442, 0.023347220059842556, 0.011673610029921278, 0.9572360224535449, 0.011673610029921278, 0.014853538552120018, 0.014853538552120018, 0.5792880035326806, 0.22280307828180027, 0.1782424626254402, 0.014490326876109984, 0.014490326876109984, 0.13041294188498986, 0.014490326876109984, 0.8259486319382691], \"Term\": [\"apt\", \"apt\", \"apt\", \"apt\", \"beauti\", \"beauti\", \"beauti\", \"beauti\", \"beauti\", \"bedroom\", \"bedroom\", \"cozi\", \"cozi\", \"cozi\", \"cozi\", \"cozi\", \"east\", \"east\", \"east\", \"east\", \"east\", \"larg\", \"larg\", \"larg\", \"larg\", \"near\", \"near\", \"near\", \"near\", \"park\", \"park\", \"park\", \"privat\", \"privat\", \"privat\", \"privat\", \"privat\", \"privat\", \"room\", \"room\", \"room\", \"room\", \"room\", \"room\", \"spaciou\", \"spaciou\", \"spaciou\", \"spaciou\", \"spaciou\", \"studio\", \"studio\", \"studio\", \"studio\", \"sunni\", \"sunni\", \"sunni\", \"sunni\", \"sunni\", \"williamsburg\", \"williamsburg\", \"williamsburg\", \"williamsburg\", \"williamsburg\"]}, \"R\": 14, \"lambda.step\": 0.01, \"plot.opts\": {\"xlab\": \"PC1\", \"ylab\": \"PC2\"}, \"topic.order\": [6, 4, 3, 1, 2, 5]};\n",
       "\n",
       "function LDAvis_load_lib(url, callback){\n",
       "  var s = document.createElement('script');\n",
       "  s.src = url;\n",
       "  s.async = true;\n",
       "  s.onreadystatechange = s.onload = callback;\n",
       "  s.onerror = function(){console.warn(\"failed to load library \" + url);};\n",
       "  document.getElementsByTagName(\"head\")[0].appendChild(s);\n",
       "}\n",
       "\n",
       "if(typeof(LDAvis) !== \"undefined\"){\n",
       "   // already loaded: just create the visualization\n",
       "   !function(LDAvis){\n",
       "       new LDAvis(\"#\" + \"ldavis_el2629554756384489390301110\", ldavis_el2629554756384489390301110_data);\n",
       "   }(LDAvis);\n",
       "}else if(typeof define === \"function\" && define.amd){\n",
       "   // require.js is available: use it to load d3/LDAvis\n",
       "   require.config({paths: {d3: \"https://d3js.org/d3.v5\"}});\n",
       "   require([\"d3\"], function(d3){\n",
       "      window.d3 = d3;\n",
       "      LDAvis_load_lib(\"https://cdn.jsdelivr.net/gh/bmabey/pyLDAvis@3.4.0/pyLDAvis/js/ldavis.v3.0.0.js\", function(){\n",
       "        new LDAvis(\"#\" + \"ldavis_el2629554756384489390301110\", ldavis_el2629554756384489390301110_data);\n",
       "      });\n",
       "    });\n",
       "}else{\n",
       "    // require.js not available: dynamically load d3 & LDAvis\n",
       "    LDAvis_load_lib(\"https://d3js.org/d3.v5.js\", function(){\n",
       "         LDAvis_load_lib(\"https://cdn.jsdelivr.net/gh/bmabey/pyLDAvis@3.4.0/pyLDAvis/js/ldavis.v3.0.0.js\", function(){\n",
       "                 new LDAvis(\"#\" + \"ldavis_el2629554756384489390301110\", ldavis_el2629554756384489390301110_data);\n",
       "            })\n",
       "         });\n",
       "}\n",
       "</script>"
      ],
      "text/plain": [
       "<IPython.core.display.HTML object>"
      ]
     },
     "execution_count": 63,
     "metadata": {},
     "output_type": "execute_result"
    }
   ],
   "source": [
    "# your code here\n",
    "# Join the list of words into a single string for each document\n",
    "text_raw_strings = [' '.join(tokens) for tokens in ab_small[\"processed_text\"]]\n",
    "\n",
    "# Tokenize each document\n",
    "text_raw_tokens = [wordpunct_tokenize(one_text) for one_text in text_raw_strings]\n",
    "\n",
    "# Create dictionary from tokens\n",
    "text_raw_dict = corpora.Dictionary(text_raw_tokens)\n",
    "raw_len = len(text_raw_dict) # get length for comparison below\n",
    "\n",
    "\n",
    "\n",
    "text_raw_dict = corpora.Dictionary(text_raw_tokens)\n",
    "raw_len = len(text_raw_dict) # get length for comparison below\n",
    "\n",
    "### explore first few keys and values\n",
    "### see that key is just an arbitrary counter; value is the word itself\n",
    "{k: text_raw_dict[k] for k in list(text_raw_dict)[:5]}\n",
    "\n",
    "\n",
    "## Step 3: filter out very rare and very common words\n",
    "## here, i'm using the threshold that a word needs to appear in at least\n",
    "## 5% of docs but not more than 95%\n",
    "## this is an integer count of docs so i round\n",
    "lower_bound = round(ab_small.shape[0]*0.05)\n",
    "upper_bound = round(ab_small.shape[0]*0.95)\n",
    "\n",
    "### apply filtering to dictionary\n",
    "text_raw_dict.filter_extremes(no_below = lower_bound,\n",
    "                             no_above = upper_bound)\n",
    "print(f'Filtering out very rare and very common words reduced the \\\n",
    "length of dictionary from {str(raw_len)} to {str(len(text_raw_dict))}.')\n",
    "{k: text_raw_dict[k] for k in list(text_raw_dict)[:5]} # show first five entries after filtering\n",
    "\n",
    "\n",
    "## Step 4: apply dictionary to TOKENIZED texts\n",
    "## this creates a mapping between each word \n",
    "## in a specific listing and the key in the dictionary.\n",
    "## for words that remain in the filtered dictionary,\n",
    "## output is a list where len(list) == n documents\n",
    "## and each element in the list is a list of tuples\n",
    "## containing the mappings\n",
    "corpus_fromdict = [text_raw_dict.doc2bow(one_text) \n",
    "                   for one_text in text_raw_tokens]\n",
    "\n",
    "### can apply doc2bow(one_text, return_missing = True) to print words\n",
    "### eliminated from the listing bc they're not in filtered dictionary.\n",
    "### but feeding that one with missing values to\n",
    "### the lda function can cause errors\n",
    "corpus_fromdict_showmiss = [text_raw_dict.doc2bow(one_text, return_missing = True)\n",
    "                            for one_text in text_raw_tokens]\n",
    "print('Sample of documents represented in dictionary format (with omitted words noted):')\n",
    "corpus_fromdict_showmiss[:10]\n",
    "\n",
    "\n",
    "ldamod = gensim.models.ldamodel.LdaModel(corpus_fromdict, \n",
    "                                         num_topics = 6\n",
    "                            , \n",
    "                                         id2word=text_raw_dict, \n",
    "                                         passes=6, \n",
    "                                         alpha = 'auto',\n",
    "                                         per_word_topics = True)\n",
    "\n",
    "print(type(ldamod))\n",
    "\n",
    "\n",
    "topics = ldamod.print_topics(num_words = 10)\n",
    "for topic in topics:\n",
    "    print(topic)\n",
    "\n",
    "\n",
    "l=[ldamod.get_document_topics(item) for item in corpus_fromdict]\n",
    "### print result\n",
    "text_raw_tokens[0:5]\n",
    "l[0:5]\n",
    "\n",
    "\n",
    "lda_display = gensimvis.prepare(ldamod, corpus_fromdict, text_raw_dict)\n",
    "pyLDAvis.display(lda_display)"
   ]
  },
  {
   "cell_type": "code",
   "execution_count": null,
   "metadata": {},
   "outputs": [],
   "source": [
    "# Hint: example code for preprocessing\n",
    "def processtext(row, colname):\n",
    "    \n",
    "    string_of_col = str(row[colname])\n",
    "    try:\n",
    "        processed_string = \" \".join([porter.stem(i.lower()) \n",
    "                        for i in wordpunct_tokenize(string_of_col) if \n",
    "                        i.lower().isalpha() and len(i) >=3]) #and i not in punctlist]) # optional: remove punctuation too \n",
    "        return(processed_string)\n",
    "    except:\n",
    "        processed_string = \"\" # to handle data errors where not actually text\n",
    "        return(processed_string)\n",
    "\n",
    "# ab_small['text_preprocess'] = ab_small.apply(processtext,\n",
    "#                             axis = 1,\n",
    "#                             args = [\"name_lower\"])\n",
    "#\n",
    "# ab_small = ab_small[ab_small.text_preprocess != \"\"].copy()\n",
    "#\n",
    "# ab_small.head()"
   ]
  }
 ],
 "metadata": {
  "kernelspec": {
   "display_name": "Python 3 (ipykernel)",
   "language": "python",
   "name": "python3"
  },
  "language_info": {
   "codemirror_mode": {
    "name": "ipython",
    "version": 3
   },
   "file_extension": ".py",
   "mimetype": "text/x-python",
   "name": "python",
   "nbconvert_exporter": "python",
   "pygments_lexer": "ipython3",
   "version": "3.11.7"
  }
 },
 "nbformat": 4,
 "nbformat_minor": 4
}
